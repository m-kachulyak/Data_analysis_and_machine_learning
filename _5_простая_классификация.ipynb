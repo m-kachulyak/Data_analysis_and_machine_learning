{
 "cells": [
  {
   "cell_type": "markdown",
   "id": "2f4dbc59",
   "metadata": {},
   "source": [
    "# Методы метрической классификации"
   ]
  },
  {
   "cell_type": "code",
   "execution_count": 47,
   "id": "8c22208b",
   "metadata": {},
   "outputs": [],
   "source": [
    "import pandas as pd\n",
    "from sklearn.model_selection import train_test_split\n",
    "from sklearn.linear_model import LogisticRegression\n",
    "from sklearn import metrics\n",
    "import numpy as np\n",
    "import matplotlib.pyplot as plt\n",
    "import seaborn as sns\n",
    "%matplotlib inline\n",
    "from sklearn import svm\n",
    "from sklearn.neighbors import KNeighborsClassifier\n",
    "from sklearn.neural_network import MLPClassifier"
   ]
  },
  {
   "cell_type": "markdown",
   "id": "0c7dbf8d",
   "metadata": {},
   "source": [
    "## Задания для выполнения"
   ]
  },
  {
   "cell_type": "markdown",
   "id": "5f37e9d6",
   "metadata": {},
   "source": [
    "1.\tЗагрузите данные о диагностике сахарного диабета"
   ]
  },
  {
   "cell_type": "code",
   "execution_count": 4,
   "id": "cb6f7da9",
   "metadata": {},
   "outputs": [
    {
     "data": {
      "text/html": [
       "<div>\n",
       "<style scoped>\n",
       "    .dataframe tbody tr th:only-of-type {\n",
       "        vertical-align: middle;\n",
       "    }\n",
       "\n",
       "    .dataframe tbody tr th {\n",
       "        vertical-align: top;\n",
       "    }\n",
       "\n",
       "    .dataframe thead th {\n",
       "        text-align: right;\n",
       "    }\n",
       "</style>\n",
       "<table border=\"1\" class=\"dataframe\">\n",
       "  <thead>\n",
       "    <tr style=\"text-align: right;\">\n",
       "      <th></th>\n",
       "      <th>Pregnancies</th>\n",
       "      <th>Glucose</th>\n",
       "      <th>BloodPressure</th>\n",
       "      <th>SkinThickness</th>\n",
       "      <th>Insulin</th>\n",
       "      <th>BMI</th>\n",
       "      <th>DiabetesPedigreeFunction</th>\n",
       "      <th>Age</th>\n",
       "      <th>Outcome</th>\n",
       "    </tr>\n",
       "  </thead>\n",
       "  <tbody>\n",
       "    <tr>\n",
       "      <th>0</th>\n",
       "      <td>6</td>\n",
       "      <td>148</td>\n",
       "      <td>72</td>\n",
       "      <td>35</td>\n",
       "      <td>0</td>\n",
       "      <td>33.6</td>\n",
       "      <td>0.627</td>\n",
       "      <td>50</td>\n",
       "      <td>1</td>\n",
       "    </tr>\n",
       "    <tr>\n",
       "      <th>1</th>\n",
       "      <td>1</td>\n",
       "      <td>85</td>\n",
       "      <td>66</td>\n",
       "      <td>29</td>\n",
       "      <td>0</td>\n",
       "      <td>26.6</td>\n",
       "      <td>0.351</td>\n",
       "      <td>31</td>\n",
       "      <td>0</td>\n",
       "    </tr>\n",
       "    <tr>\n",
       "      <th>2</th>\n",
       "      <td>8</td>\n",
       "      <td>183</td>\n",
       "      <td>64</td>\n",
       "      <td>0</td>\n",
       "      <td>0</td>\n",
       "      <td>23.3</td>\n",
       "      <td>0.672</td>\n",
       "      <td>32</td>\n",
       "      <td>1</td>\n",
       "    </tr>\n",
       "    <tr>\n",
       "      <th>3</th>\n",
       "      <td>1</td>\n",
       "      <td>89</td>\n",
       "      <td>66</td>\n",
       "      <td>23</td>\n",
       "      <td>94</td>\n",
       "      <td>28.1</td>\n",
       "      <td>0.167</td>\n",
       "      <td>21</td>\n",
       "      <td>0</td>\n",
       "    </tr>\n",
       "    <tr>\n",
       "      <th>4</th>\n",
       "      <td>0</td>\n",
       "      <td>137</td>\n",
       "      <td>40</td>\n",
       "      <td>35</td>\n",
       "      <td>168</td>\n",
       "      <td>43.1</td>\n",
       "      <td>2.288</td>\n",
       "      <td>33</td>\n",
       "      <td>1</td>\n",
       "    </tr>\n",
       "  </tbody>\n",
       "</table>\n",
       "</div>"
      ],
      "text/plain": [
       "   Pregnancies  Glucose  BloodPressure  SkinThickness  Insulin   BMI  \\\n",
       "0            6      148             72             35        0  33.6   \n",
       "1            1       85             66             29        0  26.6   \n",
       "2            8      183             64              0        0  23.3   \n",
       "3            1       89             66             23       94  28.1   \n",
       "4            0      137             40             35      168  43.1   \n",
       "\n",
       "   DiabetesPedigreeFunction  Age  Outcome  \n",
       "0                     0.627   50        1  \n",
       "1                     0.351   31        0  \n",
       "2                     0.672   32        1  \n",
       "3                     0.167   21        0  \n",
       "4                     2.288   33        1  "
      ]
     },
     "execution_count": 4,
     "metadata": {},
     "output_type": "execute_result"
    }
   ],
   "source": [
    "dbt = pd.read_csv(\"diabetes.csv\")\n",
    "dbt.head()"
   ]
  },
  {
   "cell_type": "code",
   "execution_count": 6,
   "id": "b33253ec",
   "metadata": {},
   "outputs": [],
   "source": [
    "def describe(D):\n",
    "    print('\\n DESCRIPTION: \\n',D.describe(),'\\n\\n SHAPE:',D.shape, '\\n\\n INFO:')\n",
    "    return D.info()"
   ]
  },
  {
   "cell_type": "code",
   "execution_count": 7,
   "id": "dd46e54d",
   "metadata": {},
   "outputs": [
    {
     "name": "stdout",
     "output_type": "stream",
     "text": [
      "\n",
      " DESCRIPTION: \n",
      "        Pregnancies     Glucose  BloodPressure  SkinThickness     Insulin  \\\n",
      "count   768.000000  768.000000     768.000000     768.000000  768.000000   \n",
      "mean      3.845052  120.894531      69.105469      20.536458   79.799479   \n",
      "std       3.369578   31.972618      19.355807      15.952218  115.244002   \n",
      "min       0.000000    0.000000       0.000000       0.000000    0.000000   \n",
      "25%       1.000000   99.000000      62.000000       0.000000    0.000000   \n",
      "50%       3.000000  117.000000      72.000000      23.000000   30.500000   \n",
      "75%       6.000000  140.250000      80.000000      32.000000  127.250000   \n",
      "max      17.000000  199.000000     122.000000      99.000000  846.000000   \n",
      "\n",
      "              BMI  DiabetesPedigreeFunction         Age     Outcome  \n",
      "count  768.000000                768.000000  768.000000  768.000000  \n",
      "mean    31.992578                  0.471876   33.240885    0.348958  \n",
      "std      7.884160                  0.331329   11.760232    0.476951  \n",
      "min      0.000000                  0.078000   21.000000    0.000000  \n",
      "25%     27.300000                  0.243750   24.000000    0.000000  \n",
      "50%     32.000000                  0.372500   29.000000    0.000000  \n",
      "75%     36.600000                  0.626250   41.000000    1.000000  \n",
      "max     67.100000                  2.420000   81.000000    1.000000   \n",
      "\n",
      " SHAPE: (768, 9) \n",
      "\n",
      " INFO:\n",
      "<class 'pandas.core.frame.DataFrame'>\n",
      "RangeIndex: 768 entries, 0 to 767\n",
      "Data columns (total 9 columns):\n",
      " #   Column                    Non-Null Count  Dtype  \n",
      "---  ------                    --------------  -----  \n",
      " 0   Pregnancies               768 non-null    int64  \n",
      " 1   Glucose                   768 non-null    int64  \n",
      " 2   BloodPressure             768 non-null    int64  \n",
      " 3   SkinThickness             768 non-null    int64  \n",
      " 4   Insulin                   768 non-null    int64  \n",
      " 5   BMI                       768 non-null    float64\n",
      " 6   DiabetesPedigreeFunction  768 non-null    float64\n",
      " 7   Age                       768 non-null    int64  \n",
      " 8   Outcome                   768 non-null    int64  \n",
      "dtypes: float64(2), int64(7)\n",
      "memory usage: 54.1 KB\n"
     ]
    }
   ],
   "source": [
    "describe(dbt) # чистые"
   ]
  },
  {
   "cell_type": "markdown",
   "id": "560ba58a",
   "metadata": {},
   "source": [
    "2.\tРазделите эти данные на тестовую и обучающую выборки"
   ]
  },
  {
   "cell_type": "code",
   "execution_count": 9,
   "id": "77d1a2bc",
   "metadata": {},
   "outputs": [],
   "source": [
    "Y = dbt['Outcome']\n",
    "X = dbt.drop(['Outcome'], axis=1)"
   ]
  },
  {
   "cell_type": "code",
   "execution_count": 10,
   "id": "0b1319e4",
   "metadata": {},
   "outputs": [
    {
     "data": {
      "text/html": [
       "<div>\n",
       "<style scoped>\n",
       "    .dataframe tbody tr th:only-of-type {\n",
       "        vertical-align: middle;\n",
       "    }\n",
       "\n",
       "    .dataframe tbody tr th {\n",
       "        vertical-align: top;\n",
       "    }\n",
       "\n",
       "    .dataframe thead th {\n",
       "        text-align: right;\n",
       "    }\n",
       "</style>\n",
       "<table border=\"1\" class=\"dataframe\">\n",
       "  <thead>\n",
       "    <tr style=\"text-align: right;\">\n",
       "      <th></th>\n",
       "      <th>Pregnancies</th>\n",
       "      <th>Glucose</th>\n",
       "      <th>BloodPressure</th>\n",
       "      <th>SkinThickness</th>\n",
       "      <th>Insulin</th>\n",
       "      <th>BMI</th>\n",
       "      <th>DiabetesPedigreeFunction</th>\n",
       "      <th>Age</th>\n",
       "    </tr>\n",
       "  </thead>\n",
       "  <tbody>\n",
       "    <tr>\n",
       "      <th>0</th>\n",
       "      <td>6</td>\n",
       "      <td>148</td>\n",
       "      <td>72</td>\n",
       "      <td>35</td>\n",
       "      <td>0</td>\n",
       "      <td>33.6</td>\n",
       "      <td>0.627</td>\n",
       "      <td>50</td>\n",
       "    </tr>\n",
       "    <tr>\n",
       "      <th>1</th>\n",
       "      <td>1</td>\n",
       "      <td>85</td>\n",
       "      <td>66</td>\n",
       "      <td>29</td>\n",
       "      <td>0</td>\n",
       "      <td>26.6</td>\n",
       "      <td>0.351</td>\n",
       "      <td>31</td>\n",
       "    </tr>\n",
       "  </tbody>\n",
       "</table>\n",
       "</div>"
      ],
      "text/plain": [
       "   Pregnancies  Glucose  BloodPressure  SkinThickness  Insulin   BMI  \\\n",
       "0            6      148             72             35        0  33.6   \n",
       "1            1       85             66             29        0  26.6   \n",
       "\n",
       "   DiabetesPedigreeFunction  Age  \n",
       "0                     0.627   50  \n",
       "1                     0.351   31  "
      ]
     },
     "execution_count": 10,
     "metadata": {},
     "output_type": "execute_result"
    }
   ],
   "source": [
    "X.head(2)"
   ]
  },
  {
   "cell_type": "code",
   "execution_count": 11,
   "id": "31006ca6",
   "metadata": {},
   "outputs": [
    {
     "data": {
      "text/plain": [
       "0    1\n",
       "1    0\n",
       "Name: Outcome, dtype: int64"
      ]
     },
     "execution_count": 11,
     "metadata": {},
     "output_type": "execute_result"
    }
   ],
   "source": [
    "Y.head(2)"
   ]
  },
  {
   "cell_type": "code",
   "execution_count": 12,
   "id": "68c61a29",
   "metadata": {},
   "outputs": [],
   "source": [
    "x_train, x_test, y_train, y_test = train_test_split(X, Y, test_size=0.2, random_state=True)"
   ]
  },
  {
   "cell_type": "markdown",
   "id": "3ac8c2c0",
   "metadata": {},
   "source": [
    "3.\tПостройте модель классификации для определения заболевания"
   ]
  },
  {
   "cell_type": "code",
   "execution_count": 14,
   "id": "cbc24a17",
   "metadata": {},
   "outputs": [
    {
     "name": "stderr",
     "output_type": "stream",
     "text": [
      "/opt/anaconda3/lib/python3.8/site-packages/sklearn/linear_model/_logistic.py:763: ConvergenceWarning: lbfgs failed to converge (status=1):\n",
      "STOP: TOTAL NO. of ITERATIONS REACHED LIMIT.\n",
      "\n",
      "Increase the number of iterations (max_iter) or scale the data as shown in:\n",
      "    https://scikit-learn.org/stable/modules/preprocessing.html\n",
      "Please also refer to the documentation for alternative solver options:\n",
      "    https://scikit-learn.org/stable/modules/linear_model.html#logistic-regression\n",
      "  n_iter_i = _check_optimize_result(\n"
     ]
    }
   ],
   "source": [
    "cls = LogisticRegression()\n",
    "cls.fit(x_train, y_train)\n",
    "y_pred = cls.predict(x_test)"
   ]
  },
  {
   "cell_type": "code",
   "execution_count": 35,
   "id": "76a2a26b",
   "metadata": {},
   "outputs": [
    {
     "data": {
      "text/plain": [
       "array([[89, 10],\n",
       "       [24, 31]])"
      ]
     },
     "execution_count": 35,
     "metadata": {},
     "output_type": "execute_result"
    }
   ],
   "source": [
    "# эффективность предсказания тестовой выборки при помощи матрицы классификации\n",
    "LR = metrics.confusion_matrix(y_test, y_pred)\n",
    "LR"
   ]
  },
  {
   "cell_type": "code",
   "execution_count": 17,
   "id": "a410014a",
   "metadata": {},
   "outputs": [
    {
     "data": {
      "text/plain": [
       "Text(0.5, 15.0, 'Предсказанные значения')"
      ]
     },
     "execution_count": 17,
     "metadata": {},
     "output_type": "execute_result"
    },
    {
     "data": {
      "image/png": "[encoded data removed]",
      "text/plain": [
       "<Figure size 432x288 with 2 Axes>"
      ]
     },
     "metadata": {
      "needs_background": "light"
     },
     "output_type": "display_data"
    }
   ],
   "source": [
    "# матрица классификации в графической форме\n",
    "class_names = [0, 1]\n",
    "fig, ax = plt.subplots()\n",
    "ticks = np.arange(len(class_names))\n",
    "plt.xticks(ticks, class_names)\n",
    "plt.yticks(ticks, class_names)\n",
    "\n",
    "sns.heatmap(pd.DataFrame(\n",
    "    metrics.confusion_matrix(y_test, y_pred)),\n",
    "    annot=True)\n",
    "plt.ylabel('Действительные значения')\n",
    "plt.xlabel('Предсказанные значения')"
   ]
  },
  {
   "cell_type": "markdown",
   "id": "c4dc95f3",
   "metadata": {},
   "source": [
    "4.\tОцените качество модели на тестовой выборке с помощью следующих метрик:\n",
    "\n",
    "a.\tдостоверность предсказания (accuracy);\n",
    "\n",
    "b.\tточность (precision);\n",
    "\n",
    "c.\tполнота (recall);"
   ]
  },
  {
   "cell_type": "code",
   "execution_count": 18,
   "id": "20cb4534",
   "metadata": {},
   "outputs": [
    {
     "name": "stdout",
     "output_type": "stream",
     "text": [
      "Достоверность предсказания (accuracy): 0.7792207792207793\n",
      "Точность предсказания (precision): 0.7560975609756098\n",
      "Полнота предсказания (recall): 0.5636363636363636\n"
     ]
    }
   ],
   "source": [
    "print('Достоверность предсказания (accuracy):', metrics.accuracy_score(y_test, y_pred))\n",
    "print('Точность предсказания (precision):', metrics.precision_score(y_test, y_pred, average=\"binary\"))\n",
    "print('Полнота предсказания (recall):', metrics.recall_score(y_test, y_pred))"
   ]
  },
  {
   "cell_type": "code",
   "execution_count": null,
   "id": "83e9cc20",
   "metadata": {},
   "outputs": [],
   "source": [
    "# кривая обучения\n"
   ]
  },
  {
   "cell_type": "code",
   "execution_count": 36,
   "id": "b8af3c76",
   "metadata": {},
   "outputs": [],
   "source": [
    "reg = []\n",
    "acc = []\n",
    "prec = []\n",
    "rec = []\n",
    "TP = []\n",
    "FP = []\n",
    "FN = []\n",
    "TN = []\n",
    "\n",
    "reg.append('LogisticRegression')\n",
    "acc.append(metrics.accuracy_score(y_test, y_pred))\n",
    "prec.append(metrics.precision_score(y_test, y_pred, average=\"binary\"))\n",
    "rec.append(metrics.recall_score(y_test, y_pred))\n",
    "\n",
    "TP.append(LR[0][0])\n",
    "FP.append(LR[0][1])\n",
    "FN.append(LR[1][0])\n",
    "TN.append(LR[1][1])"
   ]
  },
  {
   "cell_type": "markdown",
   "id": "d12d4e40",
   "metadata": {},
   "source": [
    " 5. Вывод о применимости модели."
   ]
  },
  {
   "cell_type": "code",
   "execution_count": null,
   "id": "9974e1b3",
   "metadata": {},
   "outputs": [],
   "source": []
  },
  {
   "cell_type": "markdown",
   "id": "d5b82cfa",
   "metadata": {},
   "source": [
    "## Дополнительные задания"
   ]
  },
  {
   "cell_type": "markdown",
   "id": "a3981b5c",
   "metadata": {},
   "source": [
    "1.\tИспользуйте метод опорных векторов для построения альтернативной модели предсказания диабета.\n"
   ]
  },
  {
   "cell_type": "code",
   "execution_count": 21,
   "id": "af782eab",
   "metadata": {},
   "outputs": [],
   "source": [
    "SVM = svm.SVC()\n",
    "SVM.fit(x_train, y_train)\n",
    "y_pred_SVM = SVM.predict(x_test)"
   ]
  },
  {
   "cell_type": "code",
   "execution_count": 22,
   "id": "6a14e3f6",
   "metadata": {},
   "outputs": [
    {
     "data": {
      "text/plain": [
       "Text(0.5, 15.0, 'Предсказанные значения')"
      ]
     },
     "execution_count": 22,
     "metadata": {},
     "output_type": "execute_result"
    },
    {
     "data": {
      "image/png": "[encoded data removed]",
      "text/plain": [
       "<Figure size 432x288 with 2 Axes>"
      ]
     },
     "metadata": {
      "needs_background": "light"
     },
     "output_type": "display_data"
    }
   ],
   "source": [
    "# матрица классификации в графической форме\n",
    "class_names = [0, 1]\n",
    "fig, ax = plt.subplots()\n",
    "ticks = np.arange(len(class_names))\n",
    "plt.xticks(ticks, class_names)\n",
    "plt.yticks(ticks, class_names)\n",
    "\n",
    "sns.heatmap(pd.DataFrame(\n",
    "    metrics.confusion_matrix(y_test, y_pred_SVM)),\n",
    "    annot=True)\n",
    "plt.ylabel('Действительные значения')\n",
    "plt.xlabel('Предсказанные значения')"
   ]
  },
  {
   "cell_type": "code",
   "execution_count": 23,
   "id": "b3cf0245",
   "metadata": {},
   "outputs": [
    {
     "name": "stdout",
     "output_type": "stream",
     "text": [
      "Достоверность предсказания (accuracy): 0.7857142857142857\n",
      "Точность предсказания (precision): 0.8235294117647058\n",
      "Полнота предсказания (recall): 0.509090909090909\n"
     ]
    }
   ],
   "source": [
    "print('Достоверность предсказания (accuracy):', metrics.accuracy_score(y_test, y_pred_SVM))\n",
    "print('Точность предсказания (precision):', metrics.precision_score(y_test, y_pred_SVM, average=\"binary\"))\n",
    "print('Полнота предсказания (recall):', metrics.recall_score(y_test, y_pred_SVM))"
   ]
  },
  {
   "cell_type": "code",
   "execution_count": null,
   "id": "dd804966",
   "metadata": {},
   "outputs": [],
   "source": [
    "# кривая обучения\n"
   ]
  },
  {
   "cell_type": "code",
   "execution_count": 37,
   "id": "5f47592a",
   "metadata": {},
   "outputs": [],
   "source": [
    "reg.append('SVM')\n",
    "acc.append(metrics.accuracy_score(y_test, y_pred_SVM))\n",
    "prec.append(metrics.precision_score(y_test, y_pred_SVM, average=\"binary\"))\n",
    "rec.append(metrics.recall_score(y_test, y_pred_SVM))\n",
    "\n",
    "TP.append(metrics.confusion_matrix(y_test, y_pred_SVM)[0][0])\n",
    "FP.append(metrics.confusion_matrix(y_test, y_pred_SVM)[0][1])\n",
    "FN.append(metrics.confusion_matrix(y_test, y_pred_SVM)[1][0])\n",
    "TN.append(metrics.confusion_matrix(y_test, y_pred_SVM)[1][1])"
   ]
  },
  {
   "cell_type": "markdown",
   "id": "821f5c53",
   "metadata": {},
   "source": [
    "2.\tСравните метрики эффективности и сделайте вывод о том, какая модель лучше предсказывает заболевание."
   ]
  },
  {
   "cell_type": "code",
   "execution_count": 39,
   "id": "cb414aef",
   "metadata": {},
   "outputs": [
    {
     "data": {
      "text/html": [
       "<div>\n",
       "<style scoped>\n",
       "    .dataframe tbody tr th:only-of-type {\n",
       "        vertical-align: middle;\n",
       "    }\n",
       "\n",
       "    .dataframe tbody tr th {\n",
       "        vertical-align: top;\n",
       "    }\n",
       "\n",
       "    .dataframe thead th {\n",
       "        text-align: right;\n",
       "    }\n",
       "</style>\n",
       "<table border=\"1\" class=\"dataframe\">\n",
       "  <thead>\n",
       "    <tr style=\"text-align: right;\">\n",
       "      <th></th>\n",
       "      <th>name</th>\n",
       "      <th>accuracy</th>\n",
       "      <th>precision</th>\n",
       "      <th>recall</th>\n",
       "      <th>TP</th>\n",
       "      <th>FP</th>\n",
       "      <th>FN</th>\n",
       "      <th>TN</th>\n",
       "    </tr>\n",
       "  </thead>\n",
       "  <tbody>\n",
       "    <tr>\n",
       "      <th>0</th>\n",
       "      <td>LogisticRegression</td>\n",
       "      <td>0.779221</td>\n",
       "      <td>0.756098</td>\n",
       "      <td>0.563636</td>\n",
       "      <td>89</td>\n",
       "      <td>10</td>\n",
       "      <td>24</td>\n",
       "      <td>31</td>\n",
       "    </tr>\n",
       "    <tr>\n",
       "      <th>1</th>\n",
       "      <td>SVM</td>\n",
       "      <td>0.785714</td>\n",
       "      <td>0.823529</td>\n",
       "      <td>0.509091</td>\n",
       "      <td>93</td>\n",
       "      <td>6</td>\n",
       "      <td>27</td>\n",
       "      <td>28</td>\n",
       "    </tr>\n",
       "  </tbody>\n",
       "</table>\n",
       "</div>"
      ],
      "text/plain": [
       "                 name  accuracy  precision    recall  TP  FP  FN  TN\n",
       "0  LogisticRegression  0.779221   0.756098  0.563636  89  10  24  31\n",
       "1                 SVM  0.785714   0.823529  0.509091  93   6  27  28"
      ]
     },
     "execution_count": 39,
     "metadata": {},
     "output_type": "execute_result"
    }
   ],
   "source": [
    "ex = pd.DataFrame(columns = ['name','accuracy','precision','recall','TP','FP','FN','TN'])\n",
    "ex['name'] = reg\n",
    "ex['accuracy'] = acc\n",
    "ex['precision'] = prec\n",
    "ex['recall'] = rec\n",
    "ex['TP'] = TP\n",
    "ex['FP'] = FP\n",
    "ex['FN'] = FN\n",
    "ex['TN'] = TN\n",
    "ex"
   ]
  },
  {
   "cell_type": "markdown",
   "id": "bb4eb720",
   "metadata": {},
   "source": [
    "SMV модель отличается меньшим количеством неправильно предсказанных значений\n",
    "Это подтверждают бОльшие значения общей точности предсказания модели по всем классам - accuracy и точность модели при определении класса Positive - precision. Однако способность модели обнаруживать выборки, относящиеся к классу Positive - полнота предсказания - recall - оказалась меньше."
   ]
  },
  {
   "cell_type": "markdown",
   "id": "aaf52911",
   "metadata": {},
   "source": [
    "3.\tПостройте модели классификации на основе следующих методов:"
   ]
  },
  {
   "cell_type": "markdown",
   "id": "34291802",
   "metadata": {},
   "source": [
    "\n",
    "a.\tлогистическая регрессия (LogisticRegression);\n",
    "\n"
   ]
  },
  {
   "cell_type": "code",
   "execution_count": null,
   "id": "8ae551f1",
   "metadata": {},
   "outputs": [],
   "source": [
    "# см. ячейки ранее"
   ]
  },
  {
   "cell_type": "markdown",
   "id": "61a1af22",
   "metadata": {},
   "source": [
    "b.\tметод опорных векторов с линейным ядром (SVC);"
   ]
  },
  {
   "cell_type": "code",
   "execution_count": 43,
   "id": "d02acb48",
   "metadata": {},
   "outputs": [],
   "source": [
    "def make_model(x_train, y_train, x_test, model, name = ''):\n",
    "    model.fit(x_train, y_train)\n",
    "    y_pred = model.predict(x_test)\n",
    "    \n",
    "    reg.append(name)\n",
    "    acc.append(metrics.accuracy_score(y_test, y_pred))\n",
    "    prec.append(metrics.precision_score(y_test, y_pred, average=\"binary\"))\n",
    "    rec.append(metrics.recall_score(y_test, y_pred))\n",
    "    \n",
    "    metricss = metrics.confusion_matrix(y_test, y_pred)\n",
    "    TP.append(metricss[0][0])\n",
    "    FP.append(metricss[0][1])\n",
    "    FN.append(metricss[1][0])\n",
    "    TN.append(metricss[1][1])\n",
    "    \n",
    "    class_names = [0, 1]\n",
    "    fig, ax = plt.subplots()\n",
    "    ticks = np.arange(len(class_names))\n",
    "    plt.xticks(ticks, class_names)\n",
    "    plt.yticks(ticks, class_names)\n",
    "\n",
    "    sns.heatmap(pd.DataFrame(\n",
    "        metrics.confusion_matrix(y_test, y_pred)),\n",
    "        annot=True)\n",
    "    plt.ylabel('Действительные значения')\n",
    "    plt.xlabel('Предсказанные значения')"
   ]
  },
  {
   "cell_type": "code",
   "execution_count": 44,
   "id": "2d4b75bb",
   "metadata": {},
   "outputs": [
    {
     "data": {
      "image/png": "[encoded data removed]",
      "text/plain": [
       "<Figure size 432x288 with 2 Axes>"
      ]
     },
     "metadata": {
      "needs_background": "light"
     },
     "output_type": "display_data"
    }
   ],
   "source": [
    "lin_SVC= svm.SVC(kernel='linear')\n",
    "make_model(x_train, y_train, x_test, lin_SVC, name = 'linear_SVC')"
   ]
  },
  {
   "cell_type": "markdown",
   "id": "0ec3a9d9",
   "metadata": {},
   "source": [
    "\n",
    "c.\tметод опорных векторов с гауссовым ядром (SVC);\n",
    "\n"
   ]
  },
  {
   "cell_type": "code",
   "execution_count": 45,
   "id": "42d09d6e",
   "metadata": {},
   "outputs": [
    {
     "data": {
      "image/png": "[encoded data removed]",
      "text/plain": [
       "<Figure size 432x288 with 2 Axes>"
      ]
     },
     "metadata": {
      "needs_background": "light"
     },
     "output_type": "display_data"
    }
   ],
   "source": [
    "gauss_SVC= svm.SVC(kernel='rbf')\n",
    "make_model(x_train, y_train, x_test, gauss_SVC, name = 'gauss_SVC')"
   ]
  },
  {
   "cell_type": "markdown",
   "id": "15f41357",
   "metadata": {},
   "source": [
    "d.\tметод k ближайших соседей (KNeighborsClassifier);\n"
   ]
  },
  {
   "cell_type": "code",
   "execution_count": 48,
   "id": "71ac51f9",
   "metadata": {},
   "outputs": [
    {
     "data": {
      "image/png": "[encoded data removed]",
      "text/plain": [
       "<Figure size 432x288 with 2 Axes>"
      ]
     },
     "metadata": {
      "needs_background": "light"
     },
     "output_type": "display_data"
    }
   ],
   "source": [
    "KNC = KNeighborsClassifier()\n",
    "make_model(x_train, y_train, x_test, KNC, name = 'KNC')"
   ]
  },
  {
   "cell_type": "markdown",
   "id": "4394f002",
   "metadata": {},
   "source": [
    "\n",
    "e.\tмногослойный перцептрон (MLP);"
   ]
  },
  {
   "cell_type": "code",
   "execution_count": 49,
   "id": "4ea07ef0",
   "metadata": {},
   "outputs": [
    {
     "data": {
      "image/png": "[encoded data removed]",
      "text/plain": [
       "<Figure size 432x288 with 2 Axes>"
      ]
     },
     "metadata": {
      "needs_background": "light"
     },
     "output_type": "display_data"
    }
   ],
   "source": [
    "MLPC = MLPClassifier()\n",
    "make_model(x_train, y_train, x_test, MLPC, name = 'MLPC')"
   ]
  },
  {
   "cell_type": "markdown",
   "id": "a912892c",
   "metadata": {},
   "source": [
    "4.\tПроанализируйте метрики каждой модели и сделайте выводы об их эффективности и применимости. Сравните эффективность всех этих моделей и выберите лучшую;"
   ]
  },
  {
   "cell_type": "code",
   "execution_count": 50,
   "id": "c92bbd8c",
   "metadata": {},
   "outputs": [
    {
     "data": {
      "text/html": [
       "<div>\n",
       "<style scoped>\n",
       "    .dataframe tbody tr th:only-of-type {\n",
       "        vertical-align: middle;\n",
       "    }\n",
       "\n",
       "    .dataframe tbody tr th {\n",
       "        vertical-align: top;\n",
       "    }\n",
       "\n",
       "    .dataframe thead th {\n",
       "        text-align: right;\n",
       "    }\n",
       "</style>\n",
       "<table border=\"1\" class=\"dataframe\">\n",
       "  <thead>\n",
       "    <tr style=\"text-align: right;\">\n",
       "      <th></th>\n",
       "      <th>name</th>\n",
       "      <th>accuracy</th>\n",
       "      <th>precision</th>\n",
       "      <th>recall</th>\n",
       "      <th>TP</th>\n",
       "      <th>FP</th>\n",
       "      <th>FN</th>\n",
       "      <th>TN</th>\n",
       "    </tr>\n",
       "  </thead>\n",
       "  <tbody>\n",
       "    <tr>\n",
       "      <th>0</th>\n",
       "      <td>LogisticRegression</td>\n",
       "      <td>0.779221</td>\n",
       "      <td>0.756098</td>\n",
       "      <td>0.563636</td>\n",
       "      <td>89</td>\n",
       "      <td>10</td>\n",
       "      <td>24</td>\n",
       "      <td>31</td>\n",
       "    </tr>\n",
       "    <tr>\n",
       "      <th>1</th>\n",
       "      <td>SVM</td>\n",
       "      <td>0.785714</td>\n",
       "      <td>0.823529</td>\n",
       "      <td>0.509091</td>\n",
       "      <td>93</td>\n",
       "      <td>6</td>\n",
       "      <td>27</td>\n",
       "      <td>28</td>\n",
       "    </tr>\n",
       "    <tr>\n",
       "      <th>2</th>\n",
       "      <td>linear_SVC</td>\n",
       "      <td>0.779221</td>\n",
       "      <td>0.756098</td>\n",
       "      <td>0.563636</td>\n",
       "      <td>89</td>\n",
       "      <td>10</td>\n",
       "      <td>24</td>\n",
       "      <td>31</td>\n",
       "    </tr>\n",
       "    <tr>\n",
       "      <th>3</th>\n",
       "      <td>gauss_SVC</td>\n",
       "      <td>0.785714</td>\n",
       "      <td>0.823529</td>\n",
       "      <td>0.509091</td>\n",
       "      <td>93</td>\n",
       "      <td>6</td>\n",
       "      <td>27</td>\n",
       "      <td>28</td>\n",
       "    </tr>\n",
       "    <tr>\n",
       "      <th>4</th>\n",
       "      <td>KNC</td>\n",
       "      <td>0.733766</td>\n",
       "      <td>0.645833</td>\n",
       "      <td>0.563636</td>\n",
       "      <td>82</td>\n",
       "      <td>17</td>\n",
       "      <td>24</td>\n",
       "      <td>31</td>\n",
       "    </tr>\n",
       "    <tr>\n",
       "      <th>5</th>\n",
       "      <td>MLPC</td>\n",
       "      <td>0.668831</td>\n",
       "      <td>0.538462</td>\n",
       "      <td>0.509091</td>\n",
       "      <td>75</td>\n",
       "      <td>24</td>\n",
       "      <td>27</td>\n",
       "      <td>28</td>\n",
       "    </tr>\n",
       "  </tbody>\n",
       "</table>\n",
       "</div>"
      ],
      "text/plain": [
       "                 name  accuracy  precision    recall  TP  FP  FN  TN\n",
       "0  LogisticRegression  0.779221   0.756098  0.563636  89  10  24  31\n",
       "1                 SVM  0.785714   0.823529  0.509091  93   6  27  28\n",
       "2          linear_SVC  0.779221   0.756098  0.563636  89  10  24  31\n",
       "3           gauss_SVC  0.785714   0.823529  0.509091  93   6  27  28\n",
       "4                 KNC  0.733766   0.645833  0.563636  82  17  24  31\n",
       "5                MLPC  0.668831   0.538462  0.509091  75  24  27  28"
      ]
     },
     "execution_count": 50,
     "metadata": {},
     "output_type": "execute_result"
    }
   ],
   "source": [
    "ex_fin = pd.DataFrame(columns = ['name','accuracy','precision','recall','TP','FP','FN','TN'])\n",
    "ex_fin['name'] = reg\n",
    "ex_fin['accuracy'] = acc\n",
    "ex_fin['precision'] = prec\n",
    "ex_fin['recall'] = rec\n",
    "ex_fin['TP'] = TP\n",
    "ex_fin['FP'] = FP\n",
    "ex_fin['FN'] = FN\n",
    "ex_fin['TN'] = TN\n",
    "ex_fin"
   ]
  },
  {
   "cell_type": "markdown",
   "id": "6b0271c0",
   "metadata": {},
   "source": [
    "По всем показателям, кроме полноты, с наилучшей стороны нам показывает себя модель с применением метода опорных векторов"
   ]
  },
  {
   "cell_type": "markdown",
   "id": "133e7f62",
   "metadata": {},
   "source": [
    "5.\tДля каждой модели из п.3 постройте кривые обучения и диагностируйте недо-/переобучение модели. Попробуйте изменить параметр регуляризации для улучшения результатов модели."
   ]
  },
  {
   "cell_type": "code",
   "execution_count": null,
   "id": "d0947f5f",
   "metadata": {},
   "outputs": [],
   "source": []
  },
  {
   "cell_type": "code",
   "execution_count": null,
   "id": "e75384c0",
   "metadata": {},
   "outputs": [],
   "source": []
  },
  {
   "cell_type": "code",
   "execution_count": null,
   "id": "cd057bfd",
   "metadata": {},
   "outputs": [],
   "source": []
  }
 ],
 "metadata": {
  "kernelspec": {
   "display_name": "Python 3",
   "language": "python",
   "name": "python3"
  },
  "language_info": {
   "codemirror_mode": {
    "name": "ipython",
    "version": 3
   },
   "file_extension": ".py",
   "mimetype": "text/x-python",
   "name": "python",
   "nbconvert_exporter": "python",
   "pygments_lexer": "ipython3",
   "version": "3.8.8"
  }
 },
 "nbformat": 4,
 "nbformat_minor": 5
}
