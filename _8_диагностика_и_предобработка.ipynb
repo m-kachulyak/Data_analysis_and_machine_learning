{
 "cells": [
  {
   "cell_type": "markdown",
   "id": "31865452",
   "metadata": {},
   "source": [
    "# Диагностика моделей и предобработка данных"
   ]
  },
  {
   "cell_type": "markdown",
   "id": "cb1f06ee",
   "metadata": {},
   "source": [
    "Подготовлено на основе [материалов с сайта Коротеева М.В.](https://koroteev.site/ml/)"
   ]
  },
  {
   "cell_type": "markdown",
   "id": "9cc69bf3",
   "metadata": {},
   "source": [
    "## Диагностика моделей"
   ]
  },
  {
   "cell_type": "markdown",
   "id": "615b3ade",
   "metadata": {},
   "source": [
    "1.1 Загрузите датасет `breast_cancer`. Выберите два первых признака. Разделите датасет на обучающую и тестовую выборки в пропорции 80-20."
   ]
  },
  {
   "cell_type": "code",
   "execution_count": 1,
   "id": "945028c7",
   "metadata": {},
   "outputs": [],
   "source": [
    "import numpy as np\n",
    "import matplotlib.pyplot as plt\n",
    "from sklearn.datasets import load_breast_cancer\n",
    "from sklearn.model_selection import train_test_split\n",
    "from sklearn.svm import SVC\n",
    "from sklearn.linear_model import LogisticRegression, LinearRegression\n",
    "from sklearn.metrics import r2_score\n",
    "import warnings\n",
    "warnings.simplefilter(action='ignore', category=FutureWarning)\n",
    "\n",
    "from sklearn.neighbors import KNeighborsClassifier"
   ]
  },
  {
   "cell_type": "code",
   "execution_count": 2,
   "id": "fc001dff",
   "metadata": {},
   "outputs": [],
   "source": [
    "breast_cancer = load_breast_cancer()"
   ]
  },
  {
   "cell_type": "code",
   "execution_count": 3,
   "id": "2a694cf8",
   "metadata": {},
   "outputs": [
    {
     "name": "stdout",
     "output_type": "stream",
     "text": [
      ".. _breast_cancer_dataset:\n",
      "\n",
      "Breast cancer wisconsin (diagnostic) dataset\n",
      "--------------------------------------------\n",
      "\n",
      "**Data Set Characteristics:**\n",
      "\n",
      "    :Number of Instances: 569\n",
      "\n",
      "    :Number of Attributes: 30 numeric, predictive attributes and the class\n",
      "\n",
      "    :Attribute Information:\n",
      "        - radius (mean of distances from center to points on the perimeter)\n",
      "        - texture (standard deviation of gray-scale values)\n",
      "        - perimeter\n",
      "        - area\n",
      "        - smoothness (local variation in radius lengths)\n",
      "        - compactness (perimeter^2 / area - 1.0)\n",
      "        - concavity (severity of concave portions of the contour)\n",
      "        - concave points (number of concave portions of the contour)\n",
      "        - symmetry\n",
      "        - fractal dimension (\"coastline approximation\" - 1)\n",
      "\n",
      "        The mean, standard error, and \"worst\" or largest (mean of the three\n",
      "        worst/largest values) of these features were computed for each image,\n",
      "        resulting in 30 features.  For instance, field 0 is Mean Radius, field\n",
      "        10 is Radius SE, field 20 is Worst Radius.\n",
      "\n",
      "        - class:\n",
      "                - WDBC-Malignant\n",
      "                - WDBC-Benign\n",
      "\n",
      "    :Summary Statistics:\n",
      "\n",
      "    ===================================== ====== ======\n",
      "                                           Min    Max\n",
      "    ===================================== ====== ======\n",
      "    radius (mean):                        6.981  28.11\n",
      "    texture (mean):                       9.71   39.28\n",
      "    perimeter (mean):                     43.79  188.5\n",
      "    area (mean):                          143.5  2501.0\n",
      "    smoothness (mean):                    0.053  0.163\n",
      "    compactness (mean):                   0.019  0.345\n",
      "    concavity (mean):                     0.0    0.427\n",
      "    concave points (mean):                0.0    0.201\n",
      "    symmetry (mean):                      0.106  0.304\n",
      "    fractal dimension (mean):             0.05   0.097\n",
      "    radius (standard error):              0.112  2.873\n",
      "    texture (standard error):             0.36   4.885\n",
      "    perimeter (standard error):           0.757  21.98\n",
      "    area (standard error):                6.802  542.2\n",
      "    smoothness (standard error):          0.002  0.031\n",
      "    compactness (standard error):         0.002  0.135\n",
      "    concavity (standard error):           0.0    0.396\n",
      "    concave points (standard error):      0.0    0.053\n",
      "    symmetry (standard error):            0.008  0.079\n",
      "    fractal dimension (standard error):   0.001  0.03\n",
      "    radius (worst):                       7.93   36.04\n",
      "    texture (worst):                      12.02  49.54\n",
      "    perimeter (worst):                    50.41  251.2\n",
      "    area (worst):                         185.2  4254.0\n",
      "    smoothness (worst):                   0.071  0.223\n",
      "    compactness (worst):                  0.027  1.058\n",
      "    concavity (worst):                    0.0    1.252\n",
      "    concave points (worst):               0.0    0.291\n",
      "    symmetry (worst):                     0.156  0.664\n",
      "    fractal dimension (worst):            0.055  0.208\n",
      "    ===================================== ====== ======\n",
      "\n",
      "    :Missing Attribute Values: None\n",
      "\n",
      "    :Class Distribution: 212 - Malignant, 357 - Benign\n",
      "\n",
      "    :Creator:  Dr. William H. Wolberg, W. Nick Street, Olvi L. Mangasarian\n",
      "\n",
      "    :Donor: Nick Street\n",
      "\n",
      "    :Date: November, 1995\n",
      "\n",
      "This is a copy of UCI ML Breast Cancer Wisconsin (Diagnostic) datasets.\n",
      "https://goo.gl/U2Uwz2\n",
      "\n",
      "Features are computed from a digitized image of a fine needle\n",
      "aspirate (FNA) of a breast mass.  They describe\n",
      "characteristics of the cell nuclei present in the image.\n",
      "\n",
      "Separating plane described above was obtained using\n",
      "Multisurface Method-Tree (MSM-T) [K. P. Bennett, \"Decision Tree\n",
      "Construction Via Linear Programming.\" Proceedings of the 4th\n",
      "Midwest Artificial Intelligence and Cognitive Science Society,\n",
      "pp. 97-101, 1992], a classification method which uses linear\n",
      "programming to construct a decision tree.  Relevant features\n",
      "were selected using an exhaustive search in the space of 1-4\n",
      "features and 1-3 separating planes.\n",
      "\n",
      "The actual linear program used to obtain the separating plane\n",
      "in the 3-dimensional space is that described in:\n",
      "[K. P. Bennett and O. L. Mangasarian: \"Robust Linear\n",
      "Programming Discrimination of Two Linearly Inseparable Sets\",\n",
      "Optimization Methods and Software 1, 1992, 23-34].\n",
      "\n",
      "This database is also available through the UW CS ftp server:\n",
      "\n",
      "ftp ftp.cs.wisc.edu\n",
      "cd math-prog/cpo-dataset/machine-learn/WDBC/\n",
      "\n",
      ".. topic:: References\n",
      "\n",
      "   - W.N. Street, W.H. Wolberg and O.L. Mangasarian. Nuclear feature extraction \n",
      "     for breast tumor diagnosis. IS&T/SPIE 1993 International Symposium on \n",
      "     Electronic Imaging: Science and Technology, volume 1905, pages 861-870,\n",
      "     San Jose, CA, 1993.\n",
      "   - O.L. Mangasarian, W.N. Street and W.H. Wolberg. Breast cancer diagnosis and \n",
      "     prognosis via linear programming. Operations Research, 43(4), pages 570-577, \n",
      "     July-August 1995.\n",
      "   - W.H. Wolberg, W.N. Street, and O.L. Mangasarian. Machine learning techniques\n",
      "     to diagnose breast cancer from fine-needle aspirates. Cancer Letters 77 (1994) \n",
      "     163-171.\n"
     ]
    }
   ],
   "source": [
    "print(breast_cancer.DESCR)"
   ]
  },
  {
   "cell_type": "code",
   "execution_count": 4,
   "id": "4a096542",
   "metadata": {},
   "outputs": [
    {
     "data": {
      "text/plain": [
       "array([[1.799e+01, 1.038e+01, 1.228e+02, ..., 2.654e-01, 4.601e-01,\n",
       "        1.189e-01],\n",
       "       [2.057e+01, 1.777e+01, 1.329e+02, ..., 1.860e-01, 2.750e-01,\n",
       "        8.902e-02],\n",
       "       [1.969e+01, 2.125e+01, 1.300e+02, ..., 2.430e-01, 3.613e-01,\n",
       "        8.758e-02],\n",
       "       ...,\n",
       "       [1.660e+01, 2.808e+01, 1.083e+02, ..., 1.418e-01, 2.218e-01,\n",
       "        7.820e-02],\n",
       "       [2.060e+01, 2.933e+01, 1.401e+02, ..., 2.650e-01, 4.087e-01,\n",
       "        1.240e-01],\n",
       "       [7.760e+00, 2.454e+01, 4.792e+01, ..., 0.000e+00, 2.871e-01,\n",
       "        7.039e-02]])"
      ]
     },
     "execution_count": 4,
     "metadata": {},
     "output_type": "execute_result"
    }
   ],
   "source": [
    "breast_cancer.data"
   ]
  },
  {
   "cell_type": "code",
   "execution_count": 5,
   "id": "d818d6c2",
   "metadata": {},
   "outputs": [],
   "source": [
    "X = breast_cancer.data\n",
    "y = breast_cancer.target\n",
    "X_2d = X[:, :2] # 2 first signs\n",
    "X_train, X_test, y_train, y_test = train_test_split(X_2d, y, test_size=0.2)"
   ]
  },
  {
   "cell_type": "markdown",
   "id": "c4295fdc",
   "metadata": {},
   "source": [
    "1.2 Постройте классификатор на опорных векторах с гауссовым ядром с параметром регуляризации C=0.01. Выведите на экран значение точности на тестовой и обучающей выборке. Сделайте предварительный вывод о степени обученности модели."
   ]
  },
  {
   "cell_type": "code",
   "execution_count": 52,
   "id": "071293f6",
   "metadata": {},
   "outputs": [
    {
     "data": {
      "text/plain": [
       "SVC(C=0.01)"
      ]
     },
     "execution_count": 52,
     "metadata": {},
     "output_type": "execute_result"
    }
   ],
   "source": [
    "clf = SVC(C=0.01, kernel=\"rbf\")\n",
    "clf.fit(X_train, y_train)"
   ]
  },
  {
   "cell_type": "code",
   "execution_count": 53,
   "id": "7aeb14f3",
   "metadata": {},
   "outputs": [
    {
     "name": "stdout",
     "output_type": "stream",
     "text": [
      "Score_train  0.6967032967032967\n",
      "Score_test  0.6666666666666666\n"
     ]
    }
   ],
   "source": [
    "print(\"Score_train \", clf.score(X_train, y_train))\n",
    "print(\"Score_test \", clf.score(X_test, y_test))"
   ]
  },
  {
   "cell_type": "markdown",
   "id": "8dc2060b",
   "metadata": {},
   "source": [
    "1.3 Постройте графически зависимость тестовой и обучающей точности от размера обучающей выборки. Прокомментируйте получившийся результат. Сделайте вывод о том, недообучается или переобучается модель? В зависимости от этого выберите варианты, которые могут привести к увеличению точности модели (обычно подходит больше одного варианта):\n",
    "* собрать больше объектов наблюдения;\n",
    "* провести обучение на меньшем объеме данных;\n",
    "* исключить часть признаков из модели;\n",
    "* добавить новые признаки в модель;\n",
    "* добавить полиномиальные признаки;\n",
    "* попробовать более сложные модели;\n",
    "* попробовать более простые модели;\n",
    "* увеличить регуляризацию модели;\n",
    "* уменьшить регуляризацию модели;\n",
    "\n",
    "Проверьте выдвинутую гипотезу и попробуйте улучшить модель в соответствии с выбранными рекомендациями. Проверьте, увеличивается ли тестовая точность. Сделайте вывод."
   ]
  },
  {
   "cell_type": "code",
   "execution_count": 54,
   "id": "ca667e4f",
   "metadata": {},
   "outputs": [
    {
     "data": {
      "text/plain": [
       "14"
      ]
     },
     "execution_count": 54,
     "metadata": {},
     "output_type": "execute_result"
    }
   ],
   "source": [
    "len(X_train) // 100 + 10"
   ]
  },
  {
   "cell_type": "code",
   "execution_count": 55,
   "id": "1668cbcd",
   "metadata": {},
   "outputs": [
    {
     "data": {
      "text/plain": [
       "<matplotlib.legend.Legend at 0x7f9fe89175b0>"
      ]
     },
     "execution_count": 55,
     "metadata": {},
     "output_type": "execute_result"
    },
    {
     "data": {
      "image/png": "[encoded data removed]",
      "text/plain": [
       "<Figure size 720x360 with 1 Axes>"
      ]
     },
     "metadata": {
      "needs_background": "light"
     },
     "output_type": "display_data"
    }
   ],
   "source": [
    "training_scores = []\n",
    "test_scores = []\n",
    "numbers = []\n",
    "\n",
    "for i in np.linspace(20, len(X_train), 100):\n",
    "    clf = SVC(C=0.01, kernel='rbf')\n",
    "    X = X_train[:int(i)]\n",
    "    y = y_train[:int(i)]\n",
    "    clf.fit(X, y)\n",
    "    numbers.append(int(i))\n",
    "    training_scores.append(clf.score(X_train, y_train))\n",
    "    test_scores.append(clf.score(X_test, y_test))\n",
    "\n",
    "plt.figure(figsize=(10, 5))\n",
    "plt.plot(numbers, training_scores, label=\"training scores\")\n",
    "plt.plot(numbers, test_scores, label=\"test scores\")\n",
    "plt.legend(loc=\"best\")"
   ]
  },
  {
   "cell_type": "markdown",
   "id": "9f1a461c",
   "metadata": {},
   "source": [
    "Тестовая точность, в зависимости от размера обучающей выборки, чаще оказалась значительно ниже обучающей (точность на обучающей резко возрастает, а затем немного снижается в вновь \"подскакивает\", приближаясь к тестовой), хотя с ее увеличением становится близка к обучающей. \n",
    "\n",
    "Это свидетельствует о потенциальном переобучении модели. \n",
    "\n",
    "Для ее совершенствования можно увеличить регуляризацию или использовать более простые модели."
   ]
  },
  {
   "cell_type": "code",
   "execution_count": 56,
   "id": "3c21eaf1",
   "metadata": {},
   "outputs": [
    {
     "name": "stdout",
     "output_type": "stream",
     "text": [
      "Score_train  0.9142857142857143\n",
      "Score_test  0.868421052631579\n"
     ]
    }
   ],
   "source": [
    "# С=10\n",
    "clf = SVC(C=10, kernel=\"rbf\")\n",
    "clf.fit(X_train, y_train)\n",
    "print(\"Score_train \", clf.score(X_train, y_train))\n",
    "print(\"Score_test \", clf.score(X_test, y_test)) # и тестовая, и обучающая точности возрасли"
   ]
  },
  {
   "cell_type": "code",
   "execution_count": 57,
   "id": "5d367732",
   "metadata": {},
   "outputs": [
    {
     "name": "stdout",
     "output_type": "stream",
     "text": [
      "Score_train  0.8945054945054945\n",
      "Score_test  0.8771929824561403\n"
     ]
    }
   ],
   "source": [
    "# модель полегче: LogisticRegression\n",
    "LR = LogisticRegression()\n",
    "LR.fit(X_train, y_train)\n",
    "print(\"Score_train \", LR.score(X_train, y_train))\n",
    "print(\"Score_test \", LR.score(X_test, y_test)) # также и тестовая, и обучающая точности возрасли"
   ]
  },
  {
   "cell_type": "code",
   "execution_count": 58,
   "id": "a3b92629",
   "metadata": {},
   "outputs": [
    {
     "name": "stdout",
     "output_type": "stream",
     "text": [
      "Score_train  0.9186813186813186\n",
      "Score_test  0.8421052631578947\n"
     ]
    }
   ],
   "source": [
    "# модель полегче: KNeighborsClassifier\n",
    "KNC = KNeighborsClassifier()\n",
    "KNC.fit(X_train, y_train)\n",
    "print(\"Score_train \", KNC.score(X_train, y_train))\n",
    "print(\"Score_test \", KNC.score(X_test, y_test)) # также и тестовая, и обучающая точности возрасли"
   ]
  },
  {
   "cell_type": "markdown",
   "id": "de9efb5f",
   "metadata": {},
   "source": [
    "1.4 Повторите предыдущий пункт для различных значений C в диапазоне от 0,0001 до 1 000 000 (без использования специальных методик подбора параметров). Для каких значений тестовая точность оптимальна? Какие значения дают недообучение? Какие - переобучение? Постройте график зависимости тестовой и обучающей точности от значения регуляризационного параметра. Сделайте вывод о зависимости степени регуляризации на точность модели"
   ]
  },
  {
   "cell_type": "code",
   "execution_count": null,
   "id": "c26fd52a",
   "metadata": {},
   "outputs": [],
   "source": [
    "# разобью на кусочки для рассчета, чтобы было не так сложно"
   ]
  },
  {
   "cell_type": "code",
   "execution_count": 68,
   "id": "d3b8d7fb",
   "metadata": {},
   "outputs": [
    {
     "data": {
      "text/plain": [
       "<matplotlib.legend.Legend at 0x7f9ff8ab4490>"
      ]
     },
     "execution_count": 68,
     "metadata": {},
     "output_type": "execute_result"
    },
    {
     "data": {
      "image/png": "[encoded data removed]",
      "text/plain": [
       "<Figure size 720x360 with 1 Axes>"
      ]
     },
     "metadata": {
      "needs_background": "light"
     },
     "output_type": "display_data"
    }
   ],
   "source": [
    "training_scores = []\n",
    "test_scores = []\n",
    "numbers = []\n",
    "maxi = {}\n",
    "\n",
    "for i in np.linspace(0.0001, 1, 500):\n",
    "    clf = SVC(C=i, kernel='rbf')\n",
    "    clf.fit(X_train, y_train)\n",
    "    numbers.append(int(i))\n",
    "    training_scores.append(clf.score(X_train, y_train))\n",
    "    test_scores.append(clf.score(X_test, y_test))\n",
    "    maxi[i] = [clf.score(X_train, y_train), clf.score(X_test, y_test)]\n",
    "\n",
    "plt.figure(figsize=(10, 5))\n",
    "plt.plot(numbers, training_scores, label=\"training scores\")\n",
    "plt.plot(numbers, test_scores, label=\"test scores\")\n",
    "plt.ylim([0.85,1])\n",
    "plt.xlabel('С')\n",
    "plt.ylabel('Score')\n",
    "plt.legend(loc=\"best\")"
   ]
  },
  {
   "cell_type": "code",
   "execution_count": null,
   "id": "90c515bb",
   "metadata": {},
   "outputs": [],
   "source": [
    "# модель недообучается"
   ]
  },
  {
   "cell_type": "code",
   "execution_count": 71,
   "id": "a22861fb",
   "metadata": {},
   "outputs": [
    {
     "data": {
      "text/plain": [
       "<matplotlib.legend.Legend at 0x7f9f983ce070>"
      ]
     },
     "execution_count": 71,
     "metadata": {},
     "output_type": "execute_result"
    },
    {
     "data": {
      "image/png": "[encoded data removed]",
      "text/plain": [
       "<Figure size 720x360 with 1 Axes>"
      ]
     },
     "metadata": {
      "needs_background": "light"
     },
     "output_type": "display_data"
    }
   ],
   "source": [
    "training_scores = []\n",
    "test_scores = []\n",
    "numbers = []\n",
    "maxi_2 = {}\n",
    "\n",
    "for i in np.linspace(1, 10000, 500):\n",
    "    clf = SVC(C=i, kernel='rbf')\n",
    "    clf.fit(X_train, y_train)\n",
    "    numbers.append(int(i))\n",
    "    training_scores.append(clf.score(X_train, y_train))\n",
    "    test_scores.append(clf.score(X_test, y_test))\n",
    "    maxi_2[i] = [clf.score(X_train, y_train), clf.score(X_test, y_test)]\n",
    "\n",
    "plt.figure(figsize=(10, 5))\n",
    "plt.plot(numbers, training_scores, label=\"training scores\")\n",
    "plt.plot(numbers, test_scores, label=\"test scores\")\n",
    "#plt.ylim([0.85,1])\n",
    "plt.xlabel('С')\n",
    "plt.ylabel('Score')\n",
    "plt.legend(loc=\"best\")"
   ]
  },
  {
   "cell_type": "code",
   "execution_count": null,
   "id": "ac711af5",
   "metadata": {},
   "outputs": [],
   "source": [
    "# с увеличением регуляризационного параметра модель переобучается (смысла идти в большую сторону нет)"
   ]
  },
  {
   "cell_type": "markdown",
   "id": "009aaf22",
   "metadata": {},
   "source": [
    "1.5 Найдите методом подбора оптимальное значение параметра регуляризации."
   ]
  },
  {
   "cell_type": "code",
   "execution_count": 69,
   "id": "6238910d",
   "metadata": {},
   "outputs": [
    {
     "name": "stdout",
     "output_type": "stream",
     "text": [
      "0.49904809619238477\n"
     ]
    }
   ],
   "source": [
    "print(max(maxi, key=maxi.get))"
   ]
  },
  {
   "cell_type": "code",
   "execution_count": 70,
   "id": "92b6655f",
   "metadata": {},
   "outputs": [
    {
     "data": {
      "text/plain": [
       "[0.9098901098901099, 0.8947368421052632]"
      ]
     },
     "execution_count": 70,
     "metadata": {},
     "output_type": "execute_result"
    }
   ],
   "source": [
    "maxi[0.49904809619238477] # при C = 0.49904809619238477 наибольшие точности тестовой и обучающей выборки:"
   ]
  },
  {
   "cell_type": "code",
   "execution_count": 72,
   "id": "05a1e0ae",
   "metadata": {},
   "outputs": [
    {
     "name": "stdout",
     "output_type": "stream",
     "text": [
      "3066.825651302605\n"
     ]
    }
   ],
   "source": [
    "print(max(maxi_2, key=maxi_2.get))"
   ]
  },
  {
   "cell_type": "code",
   "execution_count": 73,
   "id": "f1e233c2",
   "metadata": {},
   "outputs": [
    {
     "data": {
      "text/plain": [
       "[0.9098901098901099, 0.8947368421052632]"
      ]
     },
     "execution_count": 73,
     "metadata": {},
     "output_type": "execute_result"
    }
   ],
   "source": [
    "maxi[0.49904809619238477] # при C = 3066.825651302605 наибольшие точности тестовой и обучающей выборки:"
   ]
  },
  {
   "cell_type": "markdown",
   "id": "0edc0cdb",
   "metadata": {},
   "source": [
    "## Предварительная обработка данных"
   ]
  },
  {
   "cell_type": "code",
   "execution_count": 349,
   "id": "2483acaa",
   "metadata": {},
   "outputs": [],
   "source": [
    "import pandas as pd\n",
    "import math\n",
    "import numpy as np\n",
    "import seaborn as sns\n",
    "import matplotlib.pyplot as plt"
   ]
  },
  {
   "cell_type": "markdown",
   "id": "c4d5f57c",
   "metadata": {},
   "source": [
    "2.1 Загрузите и прочитайте в pandas [датасет](https://raw.githubusercontent.com/ParthRajauria/DataScienceProject-1/master/cars_sampled.csv). При загрузке укажите корректные типы данных для всех столбцов, где это необходимо. Все числовые значения переведите в формат int."
   ]
  },
  {
   "cell_type": "code",
   "execution_count": 350,
   "id": "8f2c1e39",
   "metadata": {},
   "outputs": [
    {
     "data": {
      "text/html": [
       "<div>\n",
       "<style scoped>\n",
       "    .dataframe tbody tr th:only-of-type {\n",
       "        vertical-align: middle;\n",
       "    }\n",
       "\n",
       "    .dataframe tbody tr th {\n",
       "        vertical-align: top;\n",
       "    }\n",
       "\n",
       "    .dataframe thead th {\n",
       "        text-align: right;\n",
       "    }\n",
       "</style>\n",
       "<table border=\"1\" class=\"dataframe\">\n",
       "  <thead>\n",
       "    <tr style=\"text-align: right;\">\n",
       "      <th></th>\n",
       "      <th>dateCrawled</th>\n",
       "      <th>name</th>\n",
       "      <th>seller</th>\n",
       "      <th>offerType</th>\n",
       "      <th>price</th>\n",
       "      <th>abtest</th>\n",
       "      <th>vehicleType</th>\n",
       "      <th>yearOfRegistration</th>\n",
       "      <th>gearbox</th>\n",
       "      <th>powerPS</th>\n",
       "      <th>model</th>\n",
       "      <th>kilometer</th>\n",
       "      <th>monthOfRegistration</th>\n",
       "      <th>fuelType</th>\n",
       "      <th>brand</th>\n",
       "      <th>notRepairedDamage</th>\n",
       "      <th>dateCreated</th>\n",
       "      <th>postalCode</th>\n",
       "      <th>lastSeen</th>\n",
       "    </tr>\n",
       "  </thead>\n",
       "  <tbody>\n",
       "    <tr>\n",
       "      <th>0</th>\n",
       "      <td>2016-03-30 13:51:00</td>\n",
       "      <td>Zu_verkaufen</td>\n",
       "      <td>private</td>\n",
       "      <td>offer</td>\n",
       "      <td>4450</td>\n",
       "      <td>test</td>\n",
       "      <td>limousine</td>\n",
       "      <td>2003</td>\n",
       "      <td>manual</td>\n",
       "      <td>150</td>\n",
       "      <td>3er</td>\n",
       "      <td>150000</td>\n",
       "      <td>3</td>\n",
       "      <td>diesel</td>\n",
       "      <td>bmw</td>\n",
       "      <td>NaN</td>\n",
       "      <td>2016-03-30</td>\n",
       "      <td>20257</td>\n",
       "      <td>2016-07-04 04:44:00</td>\n",
       "    </tr>\n",
       "    <tr>\n",
       "      <th>1</th>\n",
       "      <td>2016-07-03 09:54:00</td>\n",
       "      <td>Volvo_XC90_2.4D_Summum</td>\n",
       "      <td>private</td>\n",
       "      <td>offer</td>\n",
       "      <td>13299</td>\n",
       "      <td>control</td>\n",
       "      <td>suv</td>\n",
       "      <td>2005</td>\n",
       "      <td>manual</td>\n",
       "      <td>163</td>\n",
       "      <td>xc_reihe</td>\n",
       "      <td>150000</td>\n",
       "      <td>6</td>\n",
       "      <td>diesel</td>\n",
       "      <td>volvo</td>\n",
       "      <td>no</td>\n",
       "      <td>2016-07-03</td>\n",
       "      <td>88045</td>\n",
       "      <td>2016-03-26 13:17:00</td>\n",
       "    </tr>\n",
       "    <tr>\n",
       "      <th>2</th>\n",
       "      <td>2016-01-04 00:57:00</td>\n",
       "      <td>Volkswagen_Touran</td>\n",
       "      <td>private</td>\n",
       "      <td>offer</td>\n",
       "      <td>3200</td>\n",
       "      <td>test</td>\n",
       "      <td>bus</td>\n",
       "      <td>2003</td>\n",
       "      <td>manual</td>\n",
       "      <td>101</td>\n",
       "      <td>touran</td>\n",
       "      <td>150000</td>\n",
       "      <td>11</td>\n",
       "      <td>diesel</td>\n",
       "      <td>volkswagen</td>\n",
       "      <td>NaN</td>\n",
       "      <td>2016-03-31</td>\n",
       "      <td>27449</td>\n",
       "      <td>2016-01-04 08:40:00</td>\n",
       "    </tr>\n",
       "    <tr>\n",
       "      <th>3</th>\n",
       "      <td>2016-03-19 17:50:00</td>\n",
       "      <td>Seat_Ibiza_1.4_16V_Reference</td>\n",
       "      <td>private</td>\n",
       "      <td>offer</td>\n",
       "      <td>4500</td>\n",
       "      <td>control</td>\n",
       "      <td>small car</td>\n",
       "      <td>2006</td>\n",
       "      <td>manual</td>\n",
       "      <td>86</td>\n",
       "      <td>ibiza</td>\n",
       "      <td>60000</td>\n",
       "      <td>12</td>\n",
       "      <td>petrol</td>\n",
       "      <td>seat</td>\n",
       "      <td>no</td>\n",
       "      <td>2016-03-19</td>\n",
       "      <td>34537</td>\n",
       "      <td>2016-07-04 04:44:00</td>\n",
       "    </tr>\n",
       "    <tr>\n",
       "      <th>4</th>\n",
       "      <td>2016-03-16 14:51:00</td>\n",
       "      <td>Volvo_XC90_D5_Aut._RDesign_R_Design_AWD_GSHD_S...</td>\n",
       "      <td>private</td>\n",
       "      <td>offer</td>\n",
       "      <td>18750</td>\n",
       "      <td>test</td>\n",
       "      <td>suv</td>\n",
       "      <td>2008</td>\n",
       "      <td>automatic</td>\n",
       "      <td>185</td>\n",
       "      <td>xc_reihe</td>\n",
       "      <td>150000</td>\n",
       "      <td>11</td>\n",
       "      <td>diesel</td>\n",
       "      <td>volvo</td>\n",
       "      <td>no</td>\n",
       "      <td>2016-03-16</td>\n",
       "      <td>55270</td>\n",
       "      <td>2016-01-04 23:18:00</td>\n",
       "    </tr>\n",
       "  </tbody>\n",
       "</table>\n",
       "</div>"
      ],
      "text/plain": [
       "          dateCrawled                                               name  \\\n",
       "0 2016-03-30 13:51:00                                       Zu_verkaufen   \n",
       "1 2016-07-03 09:54:00                             Volvo_XC90_2.4D_Summum   \n",
       "2 2016-01-04 00:57:00                                  Volkswagen_Touran   \n",
       "3 2016-03-19 17:50:00                       Seat_Ibiza_1.4_16V_Reference   \n",
       "4 2016-03-16 14:51:00  Volvo_XC90_D5_Aut._RDesign_R_Design_AWD_GSHD_S...   \n",
       "\n",
       "    seller offerType  price   abtest vehicleType  yearOfRegistration  \\\n",
       "0  private     offer   4450     test   limousine                2003   \n",
       "1  private     offer  13299  control         suv                2005   \n",
       "2  private     offer   3200     test         bus                2003   \n",
       "3  private     offer   4500  control   small car                2006   \n",
       "4  private     offer  18750     test         suv                2008   \n",
       "\n",
       "     gearbox  powerPS     model  kilometer  monthOfRegistration fuelType  \\\n",
       "0     manual      150       3er     150000                    3   diesel   \n",
       "1     manual      163  xc_reihe     150000                    6   diesel   \n",
       "2     manual      101    touran     150000                   11   diesel   \n",
       "3     manual       86     ibiza      60000                   12   petrol   \n",
       "4  automatic      185  xc_reihe     150000                   11   diesel   \n",
       "\n",
       "        brand notRepairedDamage dateCreated  postalCode            lastSeen  \n",
       "0         bmw               NaN  2016-03-30       20257 2016-07-04 04:44:00  \n",
       "1       volvo                no  2016-07-03       88045 2016-03-26 13:17:00  \n",
       "2  volkswagen               NaN  2016-03-31       27449 2016-01-04 08:40:00  \n",
       "3        seat                no  2016-03-19       34537 2016-07-04 04:44:00  \n",
       "4       volvo                no  2016-03-16       55270 2016-01-04 23:18:00  "
      ]
     },
     "execution_count": 350,
     "metadata": {},
     "output_type": "execute_result"
    }
   ],
   "source": [
    "df = pd.read_csv('cars_sampled.csv', parse_dates = ['dateCreated', 'lastSeen', 'dateCrawled'])\n",
    "df.head()"
   ]
  },
  {
   "cell_type": "code",
   "execution_count": 351,
   "id": "07759647",
   "metadata": {},
   "outputs": [
    {
     "name": "stdout",
     "output_type": "stream",
     "text": [
      "<class 'pandas.core.frame.DataFrame'>\n",
      "RangeIndex: 50001 entries, 0 to 50000\n",
      "Data columns (total 19 columns):\n",
      " #   Column               Non-Null Count  Dtype         \n",
      "---  ------               --------------  -----         \n",
      " 0   dateCrawled          50001 non-null  datetime64[ns]\n",
      " 1   name                 50001 non-null  object        \n",
      " 2   seller               50001 non-null  object        \n",
      " 3   offerType            50001 non-null  object        \n",
      " 4   price                50001 non-null  int64         \n",
      " 5   abtest               50001 non-null  object        \n",
      " 6   vehicleType          44813 non-null  object        \n",
      " 7   yearOfRegistration   50001 non-null  int64         \n",
      " 8   gearbox              47177 non-null  object        \n",
      " 9   powerPS              50001 non-null  int64         \n",
      " 10  model                47243 non-null  object        \n",
      " 11  kilometer            50001 non-null  int64         \n",
      " 12  monthOfRegistration  50001 non-null  int64         \n",
      " 13  fuelType             45498 non-null  object        \n",
      " 14  brand                50001 non-null  object        \n",
      " 15  notRepairedDamage    40285 non-null  object        \n",
      " 16  dateCreated          50001 non-null  datetime64[ns]\n",
      " 17  postalCode           50001 non-null  int64         \n",
      " 18  lastSeen             50001 non-null  datetime64[ns]\n",
      "dtypes: datetime64[ns](3), int64(6), object(10)\n",
      "memory usage: 7.2+ MB\n"
     ]
    }
   ],
   "source": [
    "df.info() # уже int"
   ]
  },
  {
   "cell_type": "markdown",
   "id": "f71d2b51",
   "metadata": {},
   "source": [
    "2.2 Сделайте описательную статистику: размер, типы переменных, пустые значения, уникальные имена и т.д."
   ]
  },
  {
   "cell_type": "code",
   "execution_count": 352,
   "id": "bda7419f",
   "metadata": {},
   "outputs": [
    {
     "data": {
      "text/plain": [
       "(50001, 19)"
      ]
     },
     "execution_count": 352,
     "metadata": {},
     "output_type": "execute_result"
    }
   ],
   "source": [
    "df.shape # размер"
   ]
  },
  {
   "cell_type": "code",
   "execution_count": 353,
   "id": "5f2ab8ce",
   "metadata": {},
   "outputs": [
    {
     "data": {
      "text/plain": [
       "dateCrawled            datetime64[ns]\n",
       "name                           object\n",
       "seller                         object\n",
       "offerType                      object\n",
       "price                           int64\n",
       "abtest                         object\n",
       "vehicleType                    object\n",
       "yearOfRegistration              int64\n",
       "gearbox                        object\n",
       "powerPS                         int64\n",
       "model                          object\n",
       "kilometer                       int64\n",
       "monthOfRegistration             int64\n",
       "fuelType                       object\n",
       "brand                          object\n",
       "notRepairedDamage              object\n",
       "dateCreated            datetime64[ns]\n",
       "postalCode                      int64\n",
       "lastSeen               datetime64[ns]\n",
       "dtype: object"
      ]
     },
     "execution_count": 353,
     "metadata": {},
     "output_type": "execute_result"
    }
   ],
   "source": [
    "df.dtypes # типы переменных"
   ]
  },
  {
   "cell_type": "code",
   "execution_count": 354,
   "id": "a8fe7ebe",
   "metadata": {},
   "outputs": [
    {
     "data": {
      "text/plain": [
       "dateCrawled               0\n",
       "name                      0\n",
       "seller                    0\n",
       "offerType                 0\n",
       "price                     0\n",
       "abtest                    0\n",
       "vehicleType            5188\n",
       "yearOfRegistration        0\n",
       "gearbox                2824\n",
       "powerPS                   0\n",
       "model                  2758\n",
       "kilometer                 0\n",
       "monthOfRegistration       0\n",
       "fuelType               4503\n",
       "brand                     0\n",
       "notRepairedDamage      9716\n",
       "dateCreated               0\n",
       "postalCode                0\n",
       "lastSeen                  0\n",
       "dtype: int64"
      ]
     },
     "execution_count": 354,
     "metadata": {},
     "output_type": "execute_result"
    }
   ],
   "source": [
    "df.isna().sum() # пустые значения"
   ]
  },
  {
   "cell_type": "code",
   "execution_count": 355,
   "id": "1b89c815",
   "metadata": {},
   "outputs": [
    {
     "data": {
      "text/plain": [
       "dateCrawled            12039\n",
       "name                   38766\n",
       "seller                     2\n",
       "offerType                  2\n",
       "price                   2393\n",
       "abtest                     2\n",
       "vehicleType                8\n",
       "yearOfRegistration        97\n",
       "gearbox                    2\n",
       "powerPS                  460\n",
       "model                    248\n",
       "kilometer                 13\n",
       "monthOfRegistration       13\n",
       "fuelType                   7\n",
       "brand                     40\n",
       "notRepairedDamage          2\n",
       "dateCreated               75\n",
       "postalCode              7018\n",
       "lastSeen               10413\n",
       "dtype: int64"
      ]
     },
     "execution_count": 355,
     "metadata": {},
     "output_type": "execute_result"
    }
   ],
   "source": [
    "df.nunique() # уникальные имена"
   ]
  },
  {
   "cell_type": "code",
   "execution_count": 356,
   "id": "1ccee75e",
   "metadata": {},
   "outputs": [
    {
     "data": {
      "text/html": [
       "<div>\n",
       "<style scoped>\n",
       "    .dataframe tbody tr th:only-of-type {\n",
       "        vertical-align: middle;\n",
       "    }\n",
       "\n",
       "    .dataframe tbody tr th {\n",
       "        vertical-align: top;\n",
       "    }\n",
       "\n",
       "    .dataframe thead th {\n",
       "        text-align: right;\n",
       "    }\n",
       "</style>\n",
       "<table border=\"1\" class=\"dataframe\">\n",
       "  <thead>\n",
       "    <tr style=\"text-align: right;\">\n",
       "      <th></th>\n",
       "      <th>price</th>\n",
       "      <th>yearOfRegistration</th>\n",
       "      <th>powerPS</th>\n",
       "      <th>kilometer</th>\n",
       "      <th>monthOfRegistration</th>\n",
       "      <th>postalCode</th>\n",
       "    </tr>\n",
       "  </thead>\n",
       "  <tbody>\n",
       "    <tr>\n",
       "      <th>count</th>\n",
       "      <td>5.000100e+04</td>\n",
       "      <td>50001.000000</td>\n",
       "      <td>50001.000000</td>\n",
       "      <td>50001.000000</td>\n",
       "      <td>50001.000000</td>\n",
       "      <td>50001.000000</td>\n",
       "    </tr>\n",
       "    <tr>\n",
       "      <th>mean</th>\n",
       "      <td>6.559865e+03</td>\n",
       "      <td>2005.544229</td>\n",
       "      <td>116.496130</td>\n",
       "      <td>125613.687726</td>\n",
       "      <td>5.743725</td>\n",
       "      <td>50775.216696</td>\n",
       "    </tr>\n",
       "    <tr>\n",
       "      <th>std</th>\n",
       "      <td>8.581847e+04</td>\n",
       "      <td>122.991832</td>\n",
       "      <td>230.567709</td>\n",
       "      <td>40205.234483</td>\n",
       "      <td>3.711345</td>\n",
       "      <td>25743.701933</td>\n",
       "    </tr>\n",
       "    <tr>\n",
       "      <th>min</th>\n",
       "      <td>0.000000e+00</td>\n",
       "      <td>1000.000000</td>\n",
       "      <td>0.000000</td>\n",
       "      <td>5000.000000</td>\n",
       "      <td>0.000000</td>\n",
       "      <td>1067.000000</td>\n",
       "    </tr>\n",
       "    <tr>\n",
       "      <th>25%</th>\n",
       "      <td>1.150000e+03</td>\n",
       "      <td>1999.000000</td>\n",
       "      <td>69.000000</td>\n",
       "      <td>125000.000000</td>\n",
       "      <td>3.000000</td>\n",
       "      <td>30559.000000</td>\n",
       "    </tr>\n",
       "    <tr>\n",
       "      <th>50%</th>\n",
       "      <td>2.950000e+03</td>\n",
       "      <td>2003.000000</td>\n",
       "      <td>105.000000</td>\n",
       "      <td>150000.000000</td>\n",
       "      <td>6.000000</td>\n",
       "      <td>49504.000000</td>\n",
       "    </tr>\n",
       "    <tr>\n",
       "      <th>75%</th>\n",
       "      <td>7.190000e+03</td>\n",
       "      <td>2008.000000</td>\n",
       "      <td>150.000000</td>\n",
       "      <td>150000.000000</td>\n",
       "      <td>9.000000</td>\n",
       "      <td>71404.000000</td>\n",
       "    </tr>\n",
       "    <tr>\n",
       "      <th>max</th>\n",
       "      <td>1.234568e+07</td>\n",
       "      <td>9999.000000</td>\n",
       "      <td>19312.000000</td>\n",
       "      <td>150000.000000</td>\n",
       "      <td>12.000000</td>\n",
       "      <td>99998.000000</td>\n",
       "    </tr>\n",
       "  </tbody>\n",
       "</table>\n",
       "</div>"
      ],
      "text/plain": [
       "              price  yearOfRegistration       powerPS      kilometer  \\\n",
       "count  5.000100e+04        50001.000000  50001.000000   50001.000000   \n",
       "mean   6.559865e+03         2005.544229    116.496130  125613.687726   \n",
       "std    8.581847e+04          122.991832    230.567709   40205.234483   \n",
       "min    0.000000e+00         1000.000000      0.000000    5000.000000   \n",
       "25%    1.150000e+03         1999.000000     69.000000  125000.000000   \n",
       "50%    2.950000e+03         2003.000000    105.000000  150000.000000   \n",
       "75%    7.190000e+03         2008.000000    150.000000  150000.000000   \n",
       "max    1.234568e+07         9999.000000  19312.000000  150000.000000   \n",
       "\n",
       "       monthOfRegistration    postalCode  \n",
       "count         50001.000000  50001.000000  \n",
       "mean              5.743725  50775.216696  \n",
       "std               3.711345  25743.701933  \n",
       "min               0.000000   1067.000000  \n",
       "25%               3.000000  30559.000000  \n",
       "50%               6.000000  49504.000000  \n",
       "75%               9.000000  71404.000000  \n",
       "max              12.000000  99998.000000  "
      ]
     },
     "execution_count": 356,
     "metadata": {},
     "output_type": "execute_result"
    }
   ],
   "source": [
    "df.describe() # другая статистика"
   ]
  },
  {
   "cell_type": "code",
   "execution_count": 357,
   "id": "55e71263",
   "metadata": {},
   "outputs": [
    {
     "data": {
      "text/html": [
       "<div>\n",
       "<style scoped>\n",
       "    .dataframe tbody tr th:only-of-type {\n",
       "        vertical-align: middle;\n",
       "    }\n",
       "\n",
       "    .dataframe tbody tr th {\n",
       "        vertical-align: top;\n",
       "    }\n",
       "\n",
       "    .dataframe thead th {\n",
       "        text-align: right;\n",
       "    }\n",
       "</style>\n",
       "<table border=\"1\" class=\"dataframe\">\n",
       "  <thead>\n",
       "    <tr style=\"text-align: right;\">\n",
       "      <th></th>\n",
       "      <th>price</th>\n",
       "      <th>yearOfRegistration</th>\n",
       "      <th>powerPS</th>\n",
       "      <th>kilometer</th>\n",
       "      <th>monthOfRegistration</th>\n",
       "      <th>postalCode</th>\n",
       "    </tr>\n",
       "  </thead>\n",
       "  <tbody>\n",
       "    <tr>\n",
       "      <th>price</th>\n",
       "      <td>1.000000</td>\n",
       "      <td>0.017604</td>\n",
       "      <td>0.020429</td>\n",
       "      <td>-0.045458</td>\n",
       "      <td>0.000582</td>\n",
       "      <td>0.005916</td>\n",
       "    </tr>\n",
       "    <tr>\n",
       "      <th>yearOfRegistration</th>\n",
       "      <td>0.017604</td>\n",
       "      <td>1.000000</td>\n",
       "      <td>-0.004394</td>\n",
       "      <td>-0.064188</td>\n",
       "      <td>-0.023152</td>\n",
       "      <td>-0.001615</td>\n",
       "    </tr>\n",
       "    <tr>\n",
       "      <th>powerPS</th>\n",
       "      <td>0.020429</td>\n",
       "      <td>-0.004394</td>\n",
       "      <td>1.000000</td>\n",
       "      <td>-0.016447</td>\n",
       "      <td>0.034345</td>\n",
       "      <td>0.017415</td>\n",
       "    </tr>\n",
       "    <tr>\n",
       "      <th>kilometer</th>\n",
       "      <td>-0.045458</td>\n",
       "      <td>-0.064188</td>\n",
       "      <td>-0.016447</td>\n",
       "      <td>1.000000</td>\n",
       "      <td>0.001985</td>\n",
       "      <td>-0.024076</td>\n",
       "    </tr>\n",
       "    <tr>\n",
       "      <th>monthOfRegistration</th>\n",
       "      <td>0.000582</td>\n",
       "      <td>-0.023152</td>\n",
       "      <td>0.034345</td>\n",
       "      <td>0.001985</td>\n",
       "      <td>1.000000</td>\n",
       "      <td>0.019050</td>\n",
       "    </tr>\n",
       "    <tr>\n",
       "      <th>postalCode</th>\n",
       "      <td>0.005916</td>\n",
       "      <td>-0.001615</td>\n",
       "      <td>0.017415</td>\n",
       "      <td>-0.024076</td>\n",
       "      <td>0.019050</td>\n",
       "      <td>1.000000</td>\n",
       "    </tr>\n",
       "  </tbody>\n",
       "</table>\n",
       "</div>"
      ],
      "text/plain": [
       "                        price  yearOfRegistration   powerPS  kilometer  \\\n",
       "price                1.000000            0.017604  0.020429  -0.045458   \n",
       "yearOfRegistration   0.017604            1.000000 -0.004394  -0.064188   \n",
       "powerPS              0.020429           -0.004394  1.000000  -0.016447   \n",
       "kilometer           -0.045458           -0.064188 -0.016447   1.000000   \n",
       "monthOfRegistration  0.000582           -0.023152  0.034345   0.001985   \n",
       "postalCode           0.005916           -0.001615  0.017415  -0.024076   \n",
       "\n",
       "                     monthOfRegistration  postalCode  \n",
       "price                           0.000582    0.005916  \n",
       "yearOfRegistration             -0.023152   -0.001615  \n",
       "powerPS                         0.034345    0.017415  \n",
       "kilometer                       0.001985   -0.024076  \n",
       "monthOfRegistration             1.000000    0.019050  \n",
       "postalCode                      0.019050    1.000000  "
      ]
     },
     "execution_count": 357,
     "metadata": {},
     "output_type": "execute_result"
    }
   ],
   "source": [
    "df.corr()"
   ]
  },
  {
   "cell_type": "markdown",
   "id": "93f0daf4",
   "metadata": {},
   "source": [
    "2.3 Для каждого числового столбца (кроме price) постройте гистограмму, найдите выбросы (ящиковая диаграмма), удалите аномальные значения, постарайтесь привести к нормальному распределению."
   ]
  },
  {
   "cell_type": "code",
   "execution_count": 358,
   "id": "baecd8ff",
   "metadata": {},
   "outputs": [
    {
     "name": "stdout",
     "output_type": "stream",
     "text": [
      "yearOfRegistration\n"
     ]
    },
    {
     "data": {
      "image/png": "[encoded data removed]",
      "text/plain": [
       "<Figure size 432x288 with 1 Axes>"
      ]
     },
     "metadata": {
      "needs_background": "light"
     },
     "output_type": "display_data"
    },
    {
     "name": "stdout",
     "output_type": "stream",
     "text": [
      "powerPS\n"
     ]
    },
    {
     "data": {
      "image/png": "[encoded data removed]",
      "text/plain": [
       "<Figure size 432x288 with 1 Axes>"
      ]
     },
     "metadata": {
      "needs_background": "light"
     },
     "output_type": "display_data"
    },
    {
     "name": "stdout",
     "output_type": "stream",
     "text": [
      "kilometer\n"
     ]
    },
    {
     "data": {
      "image/png": "[encoded data removed]",
      "text/plain": [
       "<Figure size 432x288 with 1 Axes>"
      ]
     },
     "metadata": {
      "needs_background": "light"
     },
     "output_type": "display_data"
    },
    {
     "name": "stdout",
     "output_type": "stream",
     "text": [
      "monthOfRegistration\n"
     ]
    },
    {
     "data": {
      "image/png": "[encoded data removed]",
      "text/plain": [
       "<Figure size 432x288 with 1 Axes>"
      ]
     },
     "metadata": {
      "needs_background": "light"
     },
     "output_type": "display_data"
    },
    {
     "name": "stdout",
     "output_type": "stream",
     "text": [
      "postalCode\n"
     ]
    },
    {
     "data": {
      "image/png": "[encoded data removed]",
      "text/plain": [
       "<Figure size 432x288 with 1 Axes>"
      ]
     },
     "metadata": {
      "needs_background": "light"
     },
     "output_type": "display_data"
    }
   ],
   "source": [
    "for i in ['yearOfRegistration', 'powerPS', 'kilometer', 'monthOfRegistration', 'postalCode']:\n",
    "    print(i)\n",
    "    plt.hist(df[i])\n",
    "    plt.show()"
   ]
  },
  {
   "cell_type": "code",
   "execution_count": 359,
   "id": "bf23e581",
   "metadata": {},
   "outputs": [
    {
     "name": "stdout",
     "output_type": "stream",
     "text": [
      "yearOfRegistration\n"
     ]
    },
    {
     "data": {
      "image/png": "[encoded data removed]",
      "text/plain": [
       "<Figure size 432x288 with 1 Axes>"
      ]
     },
     "metadata": {
      "needs_background": "light"
     },
     "output_type": "display_data"
    },
    {
     "name": "stdout",
     "output_type": "stream",
     "text": [
      "powerPS\n"
     ]
    },
    {
     "data": {
      "image/png": "[encoded data removed]",
      "text/plain": [
       "<Figure size 432x288 with 1 Axes>"
      ]
     },
     "metadata": {
      "needs_background": "light"
     },
     "output_type": "display_data"
    },
    {
     "name": "stdout",
     "output_type": "stream",
     "text": [
      "kilometer\n"
     ]
    },
    {
     "data": {
      "image/png": "[encoded data removed]",
      "text/plain": [
       "<Figure size 432x288 with 1 Axes>"
      ]
     },
     "metadata": {
      "needs_background": "light"
     },
     "output_type": "display_data"
    },
    {
     "name": "stdout",
     "output_type": "stream",
     "text": [
      "monthOfRegistration\n"
     ]
    },
    {
     "data": {
      "image/png": "[encoded data removed]",
      "text/plain": [
       "<Figure size 432x288 with 1 Axes>"
      ]
     },
     "metadata": {
      "needs_background": "light"
     },
     "output_type": "display_data"
    },
    {
     "name": "stdout",
     "output_type": "stream",
     "text": [
      "postalCode\n"
     ]
    },
    {
     "data": {
      "image/png": "[encoded data removed]",
      "text/plain": [
       "<Figure size 432x288 with 1 Axes>"
      ]
     },
     "metadata": {
      "needs_background": "light"
     },
     "output_type": "display_data"
    }
   ],
   "source": [
    "for i in ['yearOfRegistration', 'powerPS', 'kilometer', 'monthOfRegistration', 'postalCode']:\n",
    "    print(i)\n",
    "    plt.boxplot(df[i])\n",
    "    plt.show()"
   ]
  },
  {
   "cell_type": "code",
   "execution_count": 360,
   "id": "277be53c",
   "metadata": {},
   "outputs": [],
   "source": [
    "# удалим выбросы"
   ]
  },
  {
   "cell_type": "code",
   "execution_count": 361,
   "id": "1d014488",
   "metadata": {},
   "outputs": [],
   "source": [
    "for i in ['yearOfRegistration', 'powerPS', 'kilometer', 'monthOfRegistration', 'postalCode']:\n",
    "    q_75, q_25 = np.percentile(df.loc[:,i], [75, 25])\n",
    "    urange = q_75 - q_25\n",
    "    maxi = q_75 + (1.5 * urange)\n",
    "    mini = q_25 - (1.5 * urange)\n",
    "    df.loc[df[i] > maxi, i] = np.nan\n",
    "    df.loc[df[i] < mini, i] = np.nan"
   ]
  },
  {
   "cell_type": "code",
   "execution_count": 362,
   "id": "edf526f6",
   "metadata": {},
   "outputs": [],
   "source": [
    "# посмотрим что получилось"
   ]
  },
  {
   "cell_type": "code",
   "execution_count": 363,
   "id": "fc3428a4",
   "metadata": {},
   "outputs": [
    {
     "name": "stdout",
     "output_type": "stream",
     "text": [
      "yearOfRegistration\n"
     ]
    },
    {
     "data": {
      "image/png": "[encoded data removed]",
      "text/plain": [
       "<Figure size 432x288 with 1 Axes>"
      ]
     },
     "metadata": {
      "needs_background": "light"
     },
     "output_type": "display_data"
    },
    {
     "name": "stdout",
     "output_type": "stream",
     "text": [
      "powerPS\n"
     ]
    },
    {
     "data": {
      "image/png": "[encoded data removed]",
      "text/plain": [
       "<Figure size 432x288 with 1 Axes>"
      ]
     },
     "metadata": {
      "needs_background": "light"
     },
     "output_type": "display_data"
    },
    {
     "name": "stdout",
     "output_type": "stream",
     "text": [
      "kilometer\n"
     ]
    },
    {
     "data": {
      "image/png": "[encoded data removed]",
      "text/plain": [
       "<Figure size 432x288 with 1 Axes>"
      ]
     },
     "metadata": {
      "needs_background": "light"
     },
     "output_type": "display_data"
    },
    {
     "name": "stdout",
     "output_type": "stream",
     "text": [
      "monthOfRegistration\n"
     ]
    },
    {
     "data": {
      "image/png": "[encoded data removed]",
      "text/plain": [
       "<Figure size 432x288 with 1 Axes>"
      ]
     },
     "metadata": {
      "needs_background": "light"
     },
     "output_type": "display_data"
    },
    {
     "name": "stdout",
     "output_type": "stream",
     "text": [
      "postalCode\n"
     ]
    },
    {
     "data": {
      "image/png": "[encoded data removed]",
      "text/plain": [
       "<Figure size 432x288 with 1 Axes>"
      ]
     },
     "metadata": {
      "needs_background": "light"
     },
     "output_type": "display_data"
    }
   ],
   "source": [
    "for i in ['yearOfRegistration', 'powerPS', 'kilometer', 'monthOfRegistration', 'postalCode']:\n",
    "    print(i)\n",
    "    plt.hist(df[i])\n",
    "    plt.show()"
   ]
  },
  {
   "cell_type": "code",
   "execution_count": 364,
   "id": "53a65153",
   "metadata": {},
   "outputs": [
    {
     "name": "stdout",
     "output_type": "stream",
     "text": [
      "yearOfRegistration\n"
     ]
    },
    {
     "data": {
      "image/png": "[encoded data removed]",
      "text/plain": [
       "<Figure size 432x288 with 1 Axes>"
      ]
     },
     "metadata": {
      "needs_background": "light"
     },
     "output_type": "display_data"
    },
    {
     "name": "stdout",
     "output_type": "stream",
     "text": [
      "powerPS\n"
     ]
    },
    {
     "data": {
      "image/png": "[encoded data removed]",
      "text/plain": [
       "<Figure size 432x288 with 1 Axes>"
      ]
     },
     "metadata": {
      "needs_background": "light"
     },
     "output_type": "display_data"
    },
    {
     "name": "stdout",
     "output_type": "stream",
     "text": [
      "kilometer\n"
     ]
    },
    {
     "data": {
      "image/png": "[encoded data removed]",
      "text/plain": [
       "<Figure size 432x288 with 1 Axes>"
      ]
     },
     "metadata": {
      "needs_background": "light"
     },
     "output_type": "display_data"
    },
    {
     "name": "stdout",
     "output_type": "stream",
     "text": [
      "monthOfRegistration\n"
     ]
    },
    {
     "data": {
      "image/png": "[encoded data removed]",
      "text/plain": [
       "<Figure size 432x288 with 1 Axes>"
      ]
     },
     "metadata": {
      "needs_background": "light"
     },
     "output_type": "display_data"
    },
    {
     "name": "stdout",
     "output_type": "stream",
     "text": [
      "postalCode\n"
     ]
    },
    {
     "data": {
      "image/png": "[encoded data removed]",
      "text/plain": [
       "<Figure size 432x288 with 1 Axes>"
      ]
     },
     "metadata": {
      "needs_background": "light"
     },
     "output_type": "display_data"
    }
   ],
   "source": [
    "for i in ['yearOfRegistration', 'powerPS', 'kilometer', 'monthOfRegistration', 'postalCode']:\n",
    "    print(i)\n",
    "    plt.boxplot(df[i])\n",
    "    plt.show()"
   ]
  },
  {
   "cell_type": "code",
   "execution_count": 365,
   "id": "b505e03a",
   "metadata": {},
   "outputs": [
    {
     "name": "stdout",
     "output_type": "stream",
     "text": [
      "yearOfRegistration\n"
     ]
    },
    {
     "data": {
      "image/png": "[encoded data removed]",
      "text/plain": [
       "<Figure size 432x288 with 1 Axes>"
      ]
     },
     "metadata": {
      "needs_background": "light"
     },
     "output_type": "display_data"
    },
    {
     "name": "stdout",
     "output_type": "stream",
     "text": [
      "powerPS\n"
     ]
    },
    {
     "data": {
      "image/png": "[encoded data removed]",
      "text/plain": [
       "<Figure size 432x288 with 1 Axes>"
      ]
     },
     "metadata": {
      "needs_background": "light"
     },
     "output_type": "display_data"
    },
    {
     "name": "stdout",
     "output_type": "stream",
     "text": [
      "kilometer\n"
     ]
    },
    {
     "data": {
      "image/png": "[encoded data removed]",
      "text/plain": [
       "<Figure size 432x288 with 1 Axes>"
      ]
     },
     "metadata": {
      "needs_background": "light"
     },
     "output_type": "display_data"
    },
    {
     "name": "stdout",
     "output_type": "stream",
     "text": [
      "monthOfRegistration\n"
     ]
    },
    {
     "data": {
      "image/png": "[encoded data removed]",
      "text/plain": [
       "<Figure size 432x288 with 1 Axes>"
      ]
     },
     "metadata": {
      "needs_background": "light"
     },
     "output_type": "display_data"
    },
    {
     "name": "stdout",
     "output_type": "stream",
     "text": [
      "postalCode\n"
     ]
    },
    {
     "data": {
      "image/png": "[encoded data removed]",
      "text/plain": [
       "<Figure size 432x288 with 1 Axes>"
      ]
     },
     "metadata": {
      "needs_background": "light"
     },
     "output_type": "display_data"
    }
   ],
   "source": [
    "# к норм распределению логорифмир-ем\n",
    "for i in ['yearOfRegistration', 'powerPS', 'kilometer', 'monthOfRegistration', 'postalCode']:\n",
    "    df[i] = np.log(df[i] + 1)\n",
    "    print(i)\n",
    "    plt.hist(df[i])\n",
    "    plt.show()"
   ]
  },
  {
   "cell_type": "markdown",
   "id": "685123b2",
   "metadata": {},
   "source": [
    "2.4 Постройте ящиковые диаграммы зависимости gearbox, fuelType, vehicleType, notRepairedDamage от price. Сделайте выводы. Можно ли убрать значения с малой частотой? Повлияет ли это на дальнейшее исследование?"
   ]
  },
  {
   "cell_type": "code",
   "execution_count": 366,
   "id": "ac6bbca7",
   "metadata": {},
   "outputs": [
    {
     "data": {
      "text/plain": [
       "<AxesSubplot:xlabel='gearbox', ylabel='price'>"
      ]
     },
     "execution_count": 366,
     "metadata": {},
     "output_type": "execute_result"
    },
    {
     "data": {
      "image/png": "[encoded data removed]",
      "text/plain": [
       "<Figure size 432x288 with 1 Axes>"
      ]
     },
     "metadata": {
      "needs_background": "light"
     },
     "output_type": "display_data"
    }
   ],
   "source": [
    "sns.boxplot(x = df['gearbox'], y = df['price'])"
   ]
  },
  {
   "cell_type": "code",
   "execution_count": 367,
   "id": "0d537e44",
   "metadata": {},
   "outputs": [
    {
     "data": {
      "text/plain": [
       "<AxesSubplot:xlabel='fuelType', ylabel='price'>"
      ]
     },
     "execution_count": 367,
     "metadata": {},
     "output_type": "execute_result"
    },
    {
     "data": {
      "image/png": "[encoded data removed]",
      "text/plain": [
       "<Figure size 432x288 with 1 Axes>"
      ]
     },
     "metadata": {
      "needs_background": "light"
     },
     "output_type": "display_data"
    }
   ],
   "source": [
    "sns.boxplot(x = df['fuelType'], y = df['price'])"
   ]
  },
  {
   "cell_type": "code",
   "execution_count": 368,
   "id": "cc2a8553",
   "metadata": {},
   "outputs": [
    {
     "data": {
      "text/plain": [
       "<AxesSubplot:xlabel='fuelType', ylabel='price'>"
      ]
     },
     "execution_count": 368,
     "metadata": {},
     "output_type": "execute_result"
    },
    {
     "data": {
      "image/png": "[encoded data removed]",
      "text/plain": [
       "<Figure size 432x288 with 1 Axes>"
      ]
     },
     "metadata": {
      "needs_background": "light"
     },
     "output_type": "display_data"
    }
   ],
   "source": [
    "sns.boxplot(x=df[\"fuelType\"], y=df[\"price\"])"
   ]
  },
  {
   "cell_type": "code",
   "execution_count": 369,
   "id": "57a6017d",
   "metadata": {},
   "outputs": [
    {
     "data": {
      "text/plain": [
       "<AxesSubplot:xlabel='vehicleType', ylabel='price'>"
      ]
     },
     "execution_count": 369,
     "metadata": {},
     "output_type": "execute_result"
    },
    {
     "data": {
      "image/png": "[encoded data removed]",
      "text/plain": [
       "<Figure size 432x288 with 1 Axes>"
      ]
     },
     "metadata": {
      "needs_background": "light"
     },
     "output_type": "display_data"
    }
   ],
   "source": [
    "sns.boxplot(x = df['vehicleType'], y = df['price'])"
   ]
  },
  {
   "cell_type": "code",
   "execution_count": 370,
   "id": "4d57147c",
   "metadata": {},
   "outputs": [
    {
     "data": {
      "text/plain": [
       "<AxesSubplot:xlabel='notRepairedDamage', ylabel='price'>"
      ]
     },
     "execution_count": 370,
     "metadata": {},
     "output_type": "execute_result"
    },
    {
     "data": {
      "image/png": "[encoded data removed]",
      "text/plain": [
       "<Figure size 432x288 with 1 Axes>"
      ]
     },
     "metadata": {
      "needs_background": "light"
     },
     "output_type": "display_data"
    }
   ],
   "source": [
    "sns.boxplot(x = df['notRepairedDamage'], y = df['price'])"
   ]
  },
  {
   "cell_type": "code",
   "execution_count": 371,
   "id": "7d406a2a",
   "metadata": {},
   "outputs": [],
   "source": [
    "# уберем выбросы\n",
    "vibrosy = df.price.sort_values(ascending=False)[:3].to_list()"
   ]
  },
  {
   "cell_type": "code",
   "execution_count": 372,
   "id": "affd84cd",
   "metadata": {},
   "outputs": [
    {
     "data": {
      "text/plain": [
       "(50001, 19)"
      ]
     },
     "execution_count": 372,
     "metadata": {},
     "output_type": "execute_result"
    }
   ],
   "source": [
    "df.shape"
   ]
  },
  {
   "cell_type": "code",
   "execution_count": 373,
   "id": "2e4bfed1",
   "metadata": {},
   "outputs": [],
   "source": [
    "for i in vibrosy:\n",
    "    df = df.drop(np.where(df['price'] == i)[0])"
   ]
  },
  {
   "cell_type": "code",
   "execution_count": 374,
   "id": "d55983f4",
   "metadata": {},
   "outputs": [
    {
     "data": {
      "text/plain": [
       "(49998, 19)"
      ]
     },
     "execution_count": 374,
     "metadata": {},
     "output_type": "execute_result"
    }
   ],
   "source": [
    "df.shape"
   ]
  },
  {
   "cell_type": "code",
   "execution_count": 375,
   "id": "6e3a2621",
   "metadata": {},
   "outputs": [
    {
     "data": {
      "text/plain": [
       "<AxesSubplot:xlabel='gearbox', ylabel='price'>"
      ]
     },
     "execution_count": 375,
     "metadata": {},
     "output_type": "execute_result"
    },
    {
     "data": {
      "image/png": "[encoded data removed]",
      "text/plain": [
       "<Figure size 432x288 with 1 Axes>"
      ]
     },
     "metadata": {
      "needs_background": "light"
     },
     "output_type": "display_data"
    }
   ],
   "source": [
    "sns.boxplot(x = df['gearbox'], y = df['price'])"
   ]
  },
  {
   "cell_type": "markdown",
   "id": "bfc568f6",
   "metadata": {},
   "source": [
    "2.5 Найдите пропуски. Удалите столбцы, которые содержат большое количество пропусков. В остальных случаях постарайтесь восстановить пропущенные значения."
   ]
  },
  {
   "cell_type": "code",
   "execution_count": 376,
   "id": "943d74f4",
   "metadata": {},
   "outputs": [
    {
     "data": {
      "text/plain": [
       "vehicleType           5187\n",
       "yearOfRegistration     959\n",
       "gearbox               2823\n",
       "powerPS               1505\n",
       "model                 2757\n",
       "kilometer             8671\n",
       "fuelType              4502\n",
       "notRepairedDamage     9715\n",
       "dtype: int64"
      ]
     },
     "execution_count": 376,
     "metadata": {},
     "output_type": "execute_result"
    }
   ],
   "source": [
    "nans = df.isna().sum()\n",
    "nans[nans > 0]"
   ]
  },
  {
   "cell_type": "markdown",
   "id": "a171e448",
   "metadata": {},
   "source": [
    "Удалим признак с самым большим количеством пропусков - notRepairedDamage"
   ]
  },
  {
   "cell_type": "code",
   "execution_count": 377,
   "id": "299d45fa",
   "metadata": {},
   "outputs": [],
   "source": [
    "df = df.drop(['notRepairedDamage'], axis = 1)"
   ]
  },
  {
   "cell_type": "code",
   "execution_count": 378,
   "id": "155e3dda",
   "metadata": {},
   "outputs": [
    {
     "data": {
      "text/plain": [
       "vehicleType           5187\n",
       "yearOfRegistration     959\n",
       "gearbox               2823\n",
       "powerPS               1505\n",
       "model                 2757\n",
       "kilometer             8671\n",
       "fuelType              4502\n",
       "dtype: int64"
      ]
     },
     "execution_count": 378,
     "metadata": {},
     "output_type": "execute_result"
    }
   ],
   "source": [
    "nans = df.isna().sum()\n",
    "nans[nans > 0]"
   ]
  },
  {
   "cell_type": "markdown",
   "id": "21886de4",
   "metadata": {},
   "source": [
    "Пропущенные значения в цене, километраже и мощности заменим на среднее"
   ]
  },
  {
   "cell_type": "code",
   "execution_count": 379,
   "id": "390f44ef",
   "metadata": {},
   "outputs": [],
   "source": [
    "for i in ['yearOfRegistration', 'powerPS', 'kilometer']:\n",
    "    df[i] = df[i].fillna(df[i].mean())"
   ]
  },
  {
   "cell_type": "code",
   "execution_count": 380,
   "id": "93dd2b6e",
   "metadata": {},
   "outputs": [
    {
     "data": {
      "text/plain": [
       "vehicleType    5187\n",
       "gearbox        2823\n",
       "model          2757\n",
       "fuelType       4502\n",
       "dtype: int64"
      ]
     },
     "execution_count": 380,
     "metadata": {},
     "output_type": "execute_result"
    }
   ],
   "source": [
    "nans = df.isna().sum()\n",
    "nans[nans > 0]"
   ]
  },
  {
   "cell_type": "markdown",
   "id": "425dbdbd",
   "metadata": {},
   "source": [
    "Значения категориальных признаков заменим на моду"
   ]
  },
  {
   "cell_type": "code",
   "execution_count": 381,
   "id": "2d6b58c3",
   "metadata": {},
   "outputs": [],
   "source": [
    "for i in ['vehicleType', 'gearbox', 'model', 'fuelType']:\n",
    "    df[i] = df[i].fillna(df[i].mode()[0])"
   ]
  },
  {
   "cell_type": "code",
   "execution_count": 382,
   "id": "42d70859",
   "metadata": {},
   "outputs": [
    {
     "data": {
      "text/plain": [
       "Series([], dtype: int64)"
      ]
     },
     "execution_count": 382,
     "metadata": {},
     "output_type": "execute_result"
    }
   ],
   "source": [
    "nans = df.isna().sum()\n",
    "nans[nans > 0]"
   ]
  },
  {
   "cell_type": "markdown",
   "id": "46c08269",
   "metadata": {},
   "source": [
    "2.6 Закодируйте нечисловые характеристики при помощи одного из известных вам методов кодирования"
   ]
  },
  {
   "cell_type": "code",
   "execution_count": 383,
   "id": "321e61fa",
   "metadata": {},
   "outputs": [
    {
     "data": {
      "text/plain": [
       "Index(['dateCrawled', 'name', 'seller', 'offerType', 'price', 'abtest',\n",
       "       'vehicleType', 'yearOfRegistration', 'gearbox', 'powerPS', 'model',\n",
       "       'kilometer', 'monthOfRegistration', 'fuelType', 'brand', 'dateCreated',\n",
       "       'postalCode', 'lastSeen'],\n",
       "      dtype='object')"
      ]
     },
     "execution_count": 383,
     "metadata": {},
     "output_type": "execute_result"
    }
   ],
   "source": [
    "df.columns"
   ]
  },
  {
   "cell_type": "code",
   "execution_count": 384,
   "id": "e09f78b2",
   "metadata": {},
   "outputs": [
    {
     "data": {
      "text/plain": [
       "dateCrawled            datetime64[ns]\n",
       "name                           object\n",
       "seller                         object\n",
       "offerType                      object\n",
       "price                           int64\n",
       "abtest                         object\n",
       "vehicleType                    object\n",
       "yearOfRegistration            float64\n",
       "gearbox                        object\n",
       "powerPS                       float64\n",
       "model                          object\n",
       "kilometer                     float64\n",
       "monthOfRegistration           float64\n",
       "fuelType                       object\n",
       "brand                          object\n",
       "dateCreated            datetime64[ns]\n",
       "postalCode                    float64\n",
       "lastSeen               datetime64[ns]\n",
       "dtype: object"
      ]
     },
     "execution_count": 384,
     "metadata": {},
     "output_type": "execute_result"
    }
   ],
   "source": [
    "df.dtypes"
   ]
  },
  {
   "cell_type": "code",
   "execution_count": 385,
   "id": "1675cf69",
   "metadata": {},
   "outputs": [],
   "source": [
    "for i in ['name', 'seller', 'offerType', 'abtest', 'vehicleType', 'gearbox', 'model', 'fuelType', 'brand']:\n",
    "    df[i] = df[i].astype('category')\n",
    "    df[i] = df[i].cat.codes"
   ]
  },
  {
   "cell_type": "code",
   "execution_count": 386,
   "id": "ee3426e8",
   "metadata": {},
   "outputs": [
    {
     "data": {
      "text/html": [
       "<div>\n",
       "<style scoped>\n",
       "    .dataframe tbody tr th:only-of-type {\n",
       "        vertical-align: middle;\n",
       "    }\n",
       "\n",
       "    .dataframe tbody tr th {\n",
       "        vertical-align: top;\n",
       "    }\n",
       "\n",
       "    .dataframe thead th {\n",
       "        text-align: right;\n",
       "    }\n",
       "</style>\n",
       "<table border=\"1\" class=\"dataframe\">\n",
       "  <thead>\n",
       "    <tr style=\"text-align: right;\">\n",
       "      <th></th>\n",
       "      <th>dateCrawled</th>\n",
       "      <th>name</th>\n",
       "      <th>seller</th>\n",
       "      <th>offerType</th>\n",
       "      <th>price</th>\n",
       "      <th>abtest</th>\n",
       "      <th>vehicleType</th>\n",
       "      <th>yearOfRegistration</th>\n",
       "      <th>gearbox</th>\n",
       "      <th>powerPS</th>\n",
       "      <th>model</th>\n",
       "      <th>kilometer</th>\n",
       "      <th>monthOfRegistration</th>\n",
       "      <th>fuelType</th>\n",
       "      <th>brand</th>\n",
       "      <th>dateCreated</th>\n",
       "      <th>postalCode</th>\n",
       "      <th>lastSeen</th>\n",
       "    </tr>\n",
       "  </thead>\n",
       "  <tbody>\n",
       "    <tr>\n",
       "      <th>0</th>\n",
       "      <td>2016-03-30 13:51:00</td>\n",
       "      <td>37985</td>\n",
       "      <td>1</td>\n",
       "      <td>0</td>\n",
       "      <td>4450</td>\n",
       "      <td>1</td>\n",
       "      <td>3</td>\n",
       "      <td>7.602900</td>\n",
       "      <td>1</td>\n",
       "      <td>5.017280</td>\n",
       "      <td>11</td>\n",
       "      <td>11.918397</td>\n",
       "      <td>1.386294</td>\n",
       "      <td>1</td>\n",
       "      <td>2</td>\n",
       "      <td>2016-03-30</td>\n",
       "      <td>9.916305</td>\n",
       "      <td>2016-07-04 04:44:00</td>\n",
       "    </tr>\n",
       "    <tr>\n",
       "      <th>1</th>\n",
       "      <td>2016-07-03 09:54:00</td>\n",
       "      <td>37230</td>\n",
       "      <td>1</td>\n",
       "      <td>0</td>\n",
       "      <td>13299</td>\n",
       "      <td>0</td>\n",
       "      <td>7</td>\n",
       "      <td>7.603898</td>\n",
       "      <td>1</td>\n",
       "      <td>5.099866</td>\n",
       "      <td>242</td>\n",
       "      <td>11.918397</td>\n",
       "      <td>1.945910</td>\n",
       "      <td>1</td>\n",
       "      <td>39</td>\n",
       "      <td>2016-07-03</td>\n",
       "      <td>11.385615</td>\n",
       "      <td>2016-03-26 13:17:00</td>\n",
       "    </tr>\n",
       "    <tr>\n",
       "      <th>2</th>\n",
       "      <td>2016-01-04 00:57:00</td>\n",
       "      <td>36526</td>\n",
       "      <td>1</td>\n",
       "      <td>0</td>\n",
       "      <td>3200</td>\n",
       "      <td>1</td>\n",
       "      <td>0</td>\n",
       "      <td>7.602900</td>\n",
       "      <td>1</td>\n",
       "      <td>4.624973</td>\n",
       "      <td>220</td>\n",
       "      <td>11.918397</td>\n",
       "      <td>2.484907</td>\n",
       "      <td>1</td>\n",
       "      <td>38</td>\n",
       "      <td>2016-03-31</td>\n",
       "      <td>10.220121</td>\n",
       "      <td>2016-01-04 08:40:00</td>\n",
       "    </tr>\n",
       "    <tr>\n",
       "      <th>3</th>\n",
       "      <td>2016-03-19 17:50:00</td>\n",
       "      <td>27738</td>\n",
       "      <td>1</td>\n",
       "      <td>0</td>\n",
       "      <td>4500</td>\n",
       "      <td>0</td>\n",
       "      <td>5</td>\n",
       "      <td>7.604396</td>\n",
       "      <td>1</td>\n",
       "      <td>4.465908</td>\n",
       "      <td>120</td>\n",
       "      <td>11.854697</td>\n",
       "      <td>2.564949</td>\n",
       "      <td>6</td>\n",
       "      <td>30</td>\n",
       "      <td>2016-03-19</td>\n",
       "      <td>10.449815</td>\n",
       "      <td>2016-07-04 04:44:00</td>\n",
       "    </tr>\n",
       "    <tr>\n",
       "      <th>4</th>\n",
       "      <td>2016-03-16 14:51:00</td>\n",
       "      <td>37239</td>\n",
       "      <td>1</td>\n",
       "      <td>0</td>\n",
       "      <td>18750</td>\n",
       "      <td>1</td>\n",
       "      <td>7</td>\n",
       "      <td>7.605392</td>\n",
       "      <td>0</td>\n",
       "      <td>5.225747</td>\n",
       "      <td>242</td>\n",
       "      <td>11.918397</td>\n",
       "      <td>2.484907</td>\n",
       "      <td>1</td>\n",
       "      <td>39</td>\n",
       "      <td>2016-03-16</td>\n",
       "      <td>10.920004</td>\n",
       "      <td>2016-01-04 23:18:00</td>\n",
       "    </tr>\n",
       "  </tbody>\n",
       "</table>\n",
       "</div>"
      ],
      "text/plain": [
       "          dateCrawled   name  seller  offerType  price  abtest  vehicleType  \\\n",
       "0 2016-03-30 13:51:00  37985       1          0   4450       1            3   \n",
       "1 2016-07-03 09:54:00  37230       1          0  13299       0            7   \n",
       "2 2016-01-04 00:57:00  36526       1          0   3200       1            0   \n",
       "3 2016-03-19 17:50:00  27738       1          0   4500       0            5   \n",
       "4 2016-03-16 14:51:00  37239       1          0  18750       1            7   \n",
       "\n",
       "   yearOfRegistration  gearbox   powerPS  model  kilometer  \\\n",
       "0            7.602900        1  5.017280     11  11.918397   \n",
       "1            7.603898        1  5.099866    242  11.918397   \n",
       "2            7.602900        1  4.624973    220  11.918397   \n",
       "3            7.604396        1  4.465908    120  11.854697   \n",
       "4            7.605392        0  5.225747    242  11.918397   \n",
       "\n",
       "   monthOfRegistration  fuelType  brand dateCreated  postalCode  \\\n",
       "0             1.386294         1      2  2016-03-30    9.916305   \n",
       "1             1.945910         1     39  2016-07-03   11.385615   \n",
       "2             2.484907         1     38  2016-03-31   10.220121   \n",
       "3             2.564949         6     30  2016-03-19   10.449815   \n",
       "4             2.484907         1     39  2016-03-16   10.920004   \n",
       "\n",
       "             lastSeen  \n",
       "0 2016-07-04 04:44:00  \n",
       "1 2016-03-26 13:17:00  \n",
       "2 2016-01-04 08:40:00  \n",
       "3 2016-07-04 04:44:00  \n",
       "4 2016-01-04 23:18:00  "
      ]
     },
     "execution_count": 386,
     "metadata": {},
     "output_type": "execute_result"
    }
   ],
   "source": [
    "df.head()"
   ]
  },
  {
   "cell_type": "code",
   "execution_count": 387,
   "id": "4b3cd3eb",
   "metadata": {},
   "outputs": [
    {
     "name": "stdout",
     "output_type": "stream",
     "text": [
      "<class 'pandas.core.frame.DataFrame'>\n",
      "Int64Index: 49998 entries, 0 to 50000\n",
      "Data columns (total 18 columns):\n",
      " #   Column               Non-Null Count  Dtype         \n",
      "---  ------               --------------  -----         \n",
      " 0   dateCrawled          49998 non-null  datetime64[ns]\n",
      " 1   name                 49998 non-null  int32         \n",
      " 2   seller               49998 non-null  int8          \n",
      " 3   offerType            49998 non-null  int8          \n",
      " 4   price                49998 non-null  int64         \n",
      " 5   abtest               49998 non-null  int8          \n",
      " 6   vehicleType          49998 non-null  int8          \n",
      " 7   yearOfRegistration   49998 non-null  float64       \n",
      " 8   gearbox              49998 non-null  int8          \n",
      " 9   powerPS              49998 non-null  float64       \n",
      " 10  model                49998 non-null  int16         \n",
      " 11  kilometer            49998 non-null  float64       \n",
      " 12  monthOfRegistration  49998 non-null  float64       \n",
      " 13  fuelType             49998 non-null  int8          \n",
      " 14  brand                49998 non-null  int8          \n",
      " 15  dateCreated          49998 non-null  datetime64[ns]\n",
      " 16  postalCode           49998 non-null  float64       \n",
      " 17  lastSeen             49998 non-null  datetime64[ns]\n",
      "dtypes: datetime64[ns](3), float64(5), int16(1), int32(1), int64(1), int8(7)\n",
      "memory usage: 5.4 MB\n"
     ]
    }
   ],
   "source": [
    "df.info()"
   ]
  },
  {
   "cell_type": "markdown",
   "id": "5714b8c2",
   "metadata": {},
   "source": [
    "2.7 Постройте модель регрессии для цены автомобиля. Обучите ее на данных, полученных из исходного датасета с применением \n",
    "методов заполнения пропущенных значений и кодирования нечисловых признаков."
   ]
  },
  {
   "cell_type": "code",
   "execution_count": 523,
   "id": "07fec3f6",
   "metadata": {},
   "outputs": [
    {
     "data": {
      "text/plain": [
       "\"import datetime as dt\\ndf['dateCrawled'] = df['dateCrawled'].map(dt.datetime.toordinal)\\ndf['dateCreated'] = df['dateCreated'].map(dt.datetime.toordinal)\\ndf['lastSeen'] = df['lastSeen'].map(dt.datetime.toordinal)\""
      ]
     },
     "execution_count": 523,
     "metadata": {},
     "output_type": "execute_result"
    }
   ],
   "source": [
    "'''import datetime as dt\n",
    "df['dateCrawled'] = df['dateCrawled'].map(dt.datetime.toordinal)\n",
    "df['dateCreated'] = df['dateCreated'].map(dt.datetime.toordinal)\n",
    "df['lastSeen'] = df['lastSeen'].map(dt.datetime.toordinal)'''"
   ]
  },
  {
   "cell_type": "code",
   "execution_count": 389,
   "id": "fb28ef1c",
   "metadata": {},
   "outputs": [],
   "source": [
    "X = df.drop(columns = ['price'])\n",
    "y = df.price\n",
    "\n",
    "X_train, X_test, y_train, y_test = train_test_split(X, y, test_size = 0.2)"
   ]
  },
  {
   "cell_type": "code",
   "execution_count": 390,
   "id": "94eaf1d7",
   "metadata": {},
   "outputs": [
    {
     "data": {
      "text/plain": [
       "LinearRegression()"
      ]
     },
     "execution_count": 390,
     "metadata": {},
     "output_type": "execute_result"
    }
   ],
   "source": [
    "model = LinearRegression()\n",
    "model.fit(X_train, y_train)"
   ]
  },
  {
   "cell_type": "code",
   "execution_count": 398,
   "id": "51c09387",
   "metadata": {},
   "outputs": [
    {
     "name": "stdout",
     "output_type": "stream",
     "text": [
      "R^2 score: 0.12279773440453046\n",
      "Score_train: 0.007116156548718333\n",
      "Score_test: 0.12279773440453046\n"
     ]
    }
   ],
   "source": [
    "y_pred = model.predict(X_test)\n",
    "print('R^2 score:', r2_score(y_test, y_pred))\n",
    "print('Score_train:', model.score(X_train, y_train))\n",
    "print('Score_test:', model.score(X_test, y_test))"
   ]
  },
  {
   "cell_type": "code",
   "execution_count": null,
   "id": "971eb8da",
   "metadata": {},
   "outputs": [],
   "source": [
    "# модель имеет очень слабые показатели..."
   ]
  },
  {
   "cell_type": "markdown",
   "id": "0d77a3ae",
   "metadata": {},
   "source": [
    "## Решение задачи на основе данных с kaggle"
   ]
  },
  {
   "cell_type": "markdown",
   "id": "a1c8b0aa",
   "metadata": {},
   "source": [
    "3.1 На сайте [kaggle](https://www.kaggle.com/datasets) выбрать набор данных каждому студенту индивидуально. Датасет должен удовлетворять следующим условиям:\n",
    "* иметь не очень большой размер (не более 100мб)\n",
    "* содержать пропуски\n",
    "* содержать нечисловые столбцы.\n",
    "\n",
    "Привести общую характеристику набора данных: количество наблюдений, признаков, предметная область, содержание признаков, характер целевой переменной, задача обучения (регрессия, классификация, количество классов)"
   ]
  },
  {
   "cell_type": "code",
   "execution_count": 486,
   "id": "e04ece26",
   "metadata": {},
   "outputs": [
    {
     "data": {
      "text/html": [
       "<div>\n",
       "<style scoped>\n",
       "    .dataframe tbody tr th:only-of-type {\n",
       "        vertical-align: middle;\n",
       "    }\n",
       "\n",
       "    .dataframe tbody tr th {\n",
       "        vertical-align: top;\n",
       "    }\n",
       "\n",
       "    .dataframe thead th {\n",
       "        text-align: right;\n",
       "    }\n",
       "</style>\n",
       "<table border=\"1\" class=\"dataframe\">\n",
       "  <thead>\n",
       "    <tr style=\"text-align: right;\">\n",
       "      <th></th>\n",
       "      <th>Name</th>\n",
       "      <th>Location</th>\n",
       "      <th>Price</th>\n",
       "      <th>Kms_driven</th>\n",
       "      <th>Fuel_type</th>\n",
       "      <th>Owner</th>\n",
       "      <th>Year</th>\n",
       "      <th>Company</th>\n",
       "    </tr>\n",
       "  </thead>\n",
       "  <tbody>\n",
       "    <tr>\n",
       "      <th>0</th>\n",
       "      <td>Ford Figo Duratec Petrol EXI 1.2 - 2015</td>\n",
       "      <td>Bangalore</td>\n",
       "      <td>380000.0</td>\n",
       "      <td>35056.0</td>\n",
       "      <td>Petrol</td>\n",
       "      <td>2nd Owner</td>\n",
       "      <td>2015</td>\n",
       "      <td>Ford</td>\n",
       "    </tr>\n",
       "    <tr>\n",
       "      <th>1</th>\n",
       "      <td>Maruti Suzuki Wagon R VXI BS IV - 2016</td>\n",
       "      <td>Bangalore</td>\n",
       "      <td>465000.0</td>\n",
       "      <td>44.0</td>\n",
       "      <td>Petrol</td>\n",
       "      <td>1st Owner</td>\n",
       "      <td>2016</td>\n",
       "      <td>Maruti</td>\n",
       "    </tr>\n",
       "    <tr>\n",
       "      <th>2</th>\n",
       "      <td>Hyundai Creta 1.6 SX PLUS AUTO PETROL - 2018</td>\n",
       "      <td>Bangalore</td>\n",
       "      <td>1350000.0</td>\n",
       "      <td>42917.0</td>\n",
       "      <td>Petrol</td>\n",
       "      <td>NaN</td>\n",
       "      <td>2018</td>\n",
       "      <td>Hyundai</td>\n",
       "    </tr>\n",
       "    <tr>\n",
       "      <th>3</th>\n",
       "      <td>Hyundai Venue - 2019</td>\n",
       "      <td>Chennai</td>\n",
       "      <td>1019699.0</td>\n",
       "      <td>16112.0</td>\n",
       "      <td>Petrol</td>\n",
       "      <td>2nd Owner</td>\n",
       "      <td>2019</td>\n",
       "      <td>Hyundai</td>\n",
       "    </tr>\n",
       "    <tr>\n",
       "      <th>4</th>\n",
       "      <td>Honda Jazz - 2017</td>\n",
       "      <td>Pune</td>\n",
       "      <td>713499.0</td>\n",
       "      <td>30988.0</td>\n",
       "      <td>Petrol</td>\n",
       "      <td>2nd Owner</td>\n",
       "      <td>2017</td>\n",
       "      <td>Honda</td>\n",
       "    </tr>\n",
       "  </tbody>\n",
       "</table>\n",
       "</div>"
      ],
      "text/plain": [
       "                                           Name   Location      Price  \\\n",
       "0       Ford Figo Duratec Petrol EXI 1.2 - 2015  Bangalore   380000.0   \n",
       "1        Maruti Suzuki Wagon R VXI BS IV - 2016  Bangalore   465000.0   \n",
       "2  Hyundai Creta 1.6 SX PLUS AUTO PETROL - 2018  Bangalore  1350000.0   \n",
       "3                          Hyundai Venue - 2019    Chennai  1019699.0   \n",
       "4                             Honda Jazz - 2017       Pune   713499.0   \n",
       "\n",
       "   Kms_driven Fuel_type       Owner  Year  Company  \n",
       "0     35056.0    Petrol   2nd Owner  2015     Ford  \n",
       "1        44.0    Petrol   1st Owner  2016   Maruti  \n",
       "2     42917.0    Petrol         NaN  2018  Hyundai  \n",
       "3     16112.0   Petrol    2nd Owner  2019  Hyundai  \n",
       "4     30988.0   Petrol    2nd Owner  2017    Honda  "
      ]
     },
     "execution_count": 486,
     "metadata": {},
     "output_type": "execute_result"
    }
   ],
   "source": [
    "df = pd.read_csv('Cars_sale.csv')\n",
    "df.head()"
   ]
  },
  {
   "cell_type": "code",
   "execution_count": 487,
   "id": "3ce0f00a",
   "metadata": {},
   "outputs": [
    {
     "data": {
      "text/plain": [
       "(1032, 8)"
      ]
     },
     "execution_count": 487,
     "metadata": {},
     "output_type": "execute_result"
    }
   ],
   "source": [
    "df.shape"
   ]
  },
  {
   "cell_type": "code",
   "execution_count": 488,
   "id": "8693d439",
   "metadata": {},
   "outputs": [
    {
     "name": "stdout",
     "output_type": "stream",
     "text": [
      "<class 'pandas.core.frame.DataFrame'>\n",
      "RangeIndex: 1032 entries, 0 to 1031\n",
      "Data columns (total 8 columns):\n",
      " #   Column      Non-Null Count  Dtype  \n",
      "---  ------      --------------  -----  \n",
      " 0   Name        1032 non-null   object \n",
      " 1   Location    1030 non-null   object \n",
      " 2   Price       1026 non-null   float64\n",
      " 3   Kms_driven  1030 non-null   float64\n",
      " 4   Fuel_type   1032 non-null   object \n",
      " 5   Owner       743 non-null    object \n",
      " 6   Year        1032 non-null   int64  \n",
      " 7   Company     1032 non-null   object \n",
      "dtypes: float64(2), int64(1), object(5)\n",
      "memory usage: 64.6+ KB\n"
     ]
    }
   ],
   "source": [
    "df.info()"
   ]
  },
  {
   "cell_type": "markdown",
   "id": "34fc43ea",
   "metadata": {},
   "source": [
    "#### Этот набор данных содержит данные о 1032 подержанных автомобилях и содержит следующие характеристики о них:\n",
    "\n",
    " - Имя модели автомобиля (Name)\n",
    " - Текущее местоположение продажи (Location)\n",
    " - Выставленная на продажу цена, Rupee (Price)\n",
    " - Пробег, км (Kms_driven)\n",
    " - Тип топлива (Fuel_type)\n",
    " - Количество владельцев (Owner)\n",
    " - Год (Year)\n",
    " - Марка автомобиля (Company)\n",
    "##### Целевая переменная - цена (price), общее количество признаков = 8 (включая target)\n",
    "##### Основная задача обучения - регрессия (предсказать цены на подержанные автомобили)"
   ]
  },
  {
   "cell_type": "code",
   "execution_count": 489,
   "id": "a0a7ffc1",
   "metadata": {},
   "outputs": [
    {
     "data": {
      "text/html": [
       "<div>\n",
       "<style scoped>\n",
       "    .dataframe tbody tr th:only-of-type {\n",
       "        vertical-align: middle;\n",
       "    }\n",
       "\n",
       "    .dataframe tbody tr th {\n",
       "        vertical-align: top;\n",
       "    }\n",
       "\n",
       "    .dataframe thead th {\n",
       "        text-align: right;\n",
       "    }\n",
       "</style>\n",
       "<table border=\"1\" class=\"dataframe\">\n",
       "  <thead>\n",
       "    <tr style=\"text-align: right;\">\n",
       "      <th></th>\n",
       "      <th>Price</th>\n",
       "      <th>Kms_driven</th>\n",
       "      <th>Year</th>\n",
       "    </tr>\n",
       "  </thead>\n",
       "  <tbody>\n",
       "    <tr>\n",
       "      <th>count</th>\n",
       "      <td>1.026000e+03</td>\n",
       "      <td>1030.000000</td>\n",
       "      <td>1032.000000</td>\n",
       "    </tr>\n",
       "    <tr>\n",
       "      <th>mean</th>\n",
       "      <td>6.834892e+05</td>\n",
       "      <td>32306.406796</td>\n",
       "      <td>2015.810078</td>\n",
       "    </tr>\n",
       "    <tr>\n",
       "      <th>std</th>\n",
       "      <td>5.401422e+05</td>\n",
       "      <td>42092.814446</td>\n",
       "      <td>3.396920</td>\n",
       "    </tr>\n",
       "    <tr>\n",
       "      <th>min</th>\n",
       "      <td>3.900000e+01</td>\n",
       "      <td>0.000000</td>\n",
       "      <td>2000.000000</td>\n",
       "    </tr>\n",
       "    <tr>\n",
       "      <th>25%</th>\n",
       "      <td>4.104990e+05</td>\n",
       "      <td>95.500000</td>\n",
       "      <td>2014.000000</td>\n",
       "    </tr>\n",
       "    <tr>\n",
       "      <th>50%</th>\n",
       "      <td>5.576990e+05</td>\n",
       "      <td>22280.500000</td>\n",
       "      <td>2016.000000</td>\n",
       "    </tr>\n",
       "    <tr>\n",
       "      <th>75%</th>\n",
       "      <td>7.885990e+05</td>\n",
       "      <td>48866.250000</td>\n",
       "      <td>2018.000000</td>\n",
       "    </tr>\n",
       "    <tr>\n",
       "      <th>max</th>\n",
       "      <td>7.500000e+06</td>\n",
       "      <td>690000.000000</td>\n",
       "      <td>2022.000000</td>\n",
       "    </tr>\n",
       "  </tbody>\n",
       "</table>\n",
       "</div>"
      ],
      "text/plain": [
       "              Price     Kms_driven         Year\n",
       "count  1.026000e+03    1030.000000  1032.000000\n",
       "mean   6.834892e+05   32306.406796  2015.810078\n",
       "std    5.401422e+05   42092.814446     3.396920\n",
       "min    3.900000e+01       0.000000  2000.000000\n",
       "25%    4.104990e+05      95.500000  2014.000000\n",
       "50%    5.576990e+05   22280.500000  2016.000000\n",
       "75%    7.885990e+05   48866.250000  2018.000000\n",
       "max    7.500000e+06  690000.000000  2022.000000"
      ]
     },
     "execution_count": 489,
     "metadata": {},
     "output_type": "execute_result"
    }
   ],
   "source": [
    "df.describe()"
   ]
  },
  {
   "cell_type": "code",
   "execution_count": 490,
   "id": "5bd6f9ac",
   "metadata": {},
   "outputs": [
    {
     "data": {
      "text/plain": [
       "Name            0\n",
       "Location        2\n",
       "Price           6\n",
       "Kms_driven      2\n",
       "Fuel_type       0\n",
       "Owner         289\n",
       "Year            0\n",
       "Company         0\n",
       "dtype: int64"
      ]
     },
     "execution_count": 490,
     "metadata": {},
     "output_type": "execute_result"
    }
   ],
   "source": [
    "df.isna().sum()"
   ]
  },
  {
   "cell_type": "code",
   "execution_count": 491,
   "id": "28f416d2",
   "metadata": {},
   "outputs": [
    {
     "data": {
      "text/plain": [
       "Name          691\n",
       "Location       39\n",
       "Price         802\n",
       "Kms_driven    825\n",
       "Fuel_type      10\n",
       "Owner           3\n",
       "Year           23\n",
       "Company        25\n",
       "dtype: int64"
      ]
     },
     "execution_count": 491,
     "metadata": {},
     "output_type": "execute_result"
    }
   ],
   "source": [
    "df.nunique()"
   ]
  },
  {
   "cell_type": "code",
   "execution_count": 492,
   "id": "9552ca43",
   "metadata": {},
   "outputs": [
    {
     "data": {
      "text/html": [
       "<div>\n",
       "<style scoped>\n",
       "    .dataframe tbody tr th:only-of-type {\n",
       "        vertical-align: middle;\n",
       "    }\n",
       "\n",
       "    .dataframe tbody tr th {\n",
       "        vertical-align: top;\n",
       "    }\n",
       "\n",
       "    .dataframe thead th {\n",
       "        text-align: right;\n",
       "    }\n",
       "</style>\n",
       "<table border=\"1\" class=\"dataframe\">\n",
       "  <thead>\n",
       "    <tr style=\"text-align: right;\">\n",
       "      <th></th>\n",
       "      <th>Price</th>\n",
       "      <th>Kms_driven</th>\n",
       "      <th>Year</th>\n",
       "    </tr>\n",
       "  </thead>\n",
       "  <tbody>\n",
       "    <tr>\n",
       "      <th>Price</th>\n",
       "      <td>1.000000</td>\n",
       "      <td>-0.027398</td>\n",
       "      <td>0.392302</td>\n",
       "    </tr>\n",
       "    <tr>\n",
       "      <th>Kms_driven</th>\n",
       "      <td>-0.027398</td>\n",
       "      <td>1.000000</td>\n",
       "      <td>-0.141198</td>\n",
       "    </tr>\n",
       "    <tr>\n",
       "      <th>Year</th>\n",
       "      <td>0.392302</td>\n",
       "      <td>-0.141198</td>\n",
       "      <td>1.000000</td>\n",
       "    </tr>\n",
       "  </tbody>\n",
       "</table>\n",
       "</div>"
      ],
      "text/plain": [
       "               Price  Kms_driven      Year\n",
       "Price       1.000000   -0.027398  0.392302\n",
       "Kms_driven -0.027398    1.000000 -0.141198\n",
       "Year        0.392302   -0.141198  1.000000"
      ]
     },
     "execution_count": 492,
     "metadata": {},
     "output_type": "execute_result"
    }
   ],
   "source": [
    "df.corr()"
   ]
  },
  {
   "cell_type": "markdown",
   "id": "3ca39f8a",
   "metadata": {},
   "source": [
    "3.2 Провести описательный анализ выбранного набора включающего (но не ограниченного) следующие шаги:"
   ]
  },
  {
   "cell_type": "markdown",
   "id": "61059518",
   "metadata": {},
   "source": [
    "* исследование шкалы измерения каждого существенного признака"
   ]
  },
  {
   "cell_type": "code",
   "execution_count": 493,
   "id": "f65fa50e",
   "metadata": {},
   "outputs": [
    {
     "data": {
      "text/plain": [
       "Index(['Name', 'Location', 'Price', 'Kms_driven', 'Fuel_type', 'Owner', 'Year',\n",
       "       'Company'],\n",
       "      dtype='object')"
      ]
     },
     "execution_count": 493,
     "metadata": {},
     "output_type": "execute_result"
    }
   ],
   "source": [
    "df.columns"
   ]
  },
  {
   "cell_type": "code",
   "execution_count": 494,
   "id": "0d7c06c8",
   "metadata": {},
   "outputs": [],
   "source": [
    "for i in ['Name', 'Location', 'Fuel_type', 'Owner', 'Company']:\n",
    "    df[i] = df[i].astype(str)"
   ]
  },
  {
   "cell_type": "code",
   "execution_count": 495,
   "id": "2535b6c1",
   "metadata": {},
   "outputs": [
    {
     "name": "stdout",
     "output_type": "stream",
     "text": [
      "Name\n"
     ]
    },
    {
     "data": {
      "image/png": "[encoded data removed]",
      "text/plain": [
       "<Figure size 432x288 with 1 Axes>"
      ]
     },
     "metadata": {
      "needs_background": "light"
     },
     "output_type": "display_data"
    },
    {
     "name": "stdout",
     "output_type": "stream",
     "text": [
      "Location\n"
     ]
    },
    {
     "data": {
      "image/png": "[encoded data removed]",
      "text/plain": [
       "<Figure size 432x288 with 1 Axes>"
      ]
     },
     "metadata": {
      "needs_background": "light"
     },
     "output_type": "display_data"
    },
    {
     "name": "stdout",
     "output_type": "stream",
     "text": [
      "Price\n"
     ]
    },
    {
     "data": {
      "image/png": "[encoded data removed]",
      "text/plain": [
       "<Figure size 432x288 with 1 Axes>"
      ]
     },
     "metadata": {
      "needs_background": "light"
     },
     "output_type": "display_data"
    },
    {
     "name": "stdout",
     "output_type": "stream",
     "text": [
      "Kms_driven\n"
     ]
    },
    {
     "data": {
      "image/png": "[encoded data removed]",
      "text/plain": [
       "<Figure size 432x288 with 1 Axes>"
      ]
     },
     "metadata": {
      "needs_background": "light"
     },
     "output_type": "display_data"
    },
    {
     "name": "stdout",
     "output_type": "stream",
     "text": [
      "Fuel_type\n"
     ]
    },
    {
     "data": {
      "image/png": "[encoded data removed]",
      "text/plain": [
       "<Figure size 432x288 with 1 Axes>"
      ]
     },
     "metadata": {
      "needs_background": "light"
     },
     "output_type": "display_data"
    },
    {
     "name": "stdout",
     "output_type": "stream",
     "text": [
      "Owner\n"
     ]
    },
    {
     "data": {
      "image/png": "[encoded data removed]",
      "text/plain": [
       "<Figure size 432x288 with 1 Axes>"
      ]
     },
     "metadata": {
      "needs_background": "light"
     },
     "output_type": "display_data"
    },
    {
     "name": "stdout",
     "output_type": "stream",
     "text": [
      "Year\n"
     ]
    },
    {
     "data": {
      "image/png": "[encoded data removed]",
      "text/plain": [
       "<Figure size 432x288 with 1 Axes>"
      ]
     },
     "metadata": {
      "needs_background": "light"
     },
     "output_type": "display_data"
    },
    {
     "name": "stdout",
     "output_type": "stream",
     "text": [
      "Company\n"
     ]
    },
    {
     "data": {
      "image/png": "[encoded data removed]",
      "text/plain": [
       "<Figure size 432x288 with 1 Axes>"
      ]
     },
     "metadata": {
      "needs_background": "light"
     },
     "output_type": "display_data"
    }
   ],
   "source": [
    "for i in ['Name', 'Location', 'Price', 'Kms_driven', 'Fuel_type', 'Owner', 'Year', 'Company']:\n",
    "    print(i)\n",
    "    plt.hist(df[i])\n",
    "    plt.show()"
   ]
  },
  {
   "cell_type": "code",
   "execution_count": 496,
   "id": "5007b125",
   "metadata": {},
   "outputs": [],
   "source": [
    "# больше всего машин: на бензине; имевших 2 владельца; 2016-2017 года выпуска "
   ]
  },
  {
   "cell_type": "markdown",
   "id": "768bf9ee",
   "metadata": {},
   "source": [
    "* построение эмпирического распределения каждого существенного признака"
   ]
  },
  {
   "cell_type": "code",
   "execution_count": 497,
   "id": "4e14784f",
   "metadata": {},
   "outputs": [
    {
     "data": {
      "text/plain": [
       "<AxesSubplot:>"
      ]
     },
     "execution_count": 497,
     "metadata": {},
     "output_type": "execute_result"
    },
    {
     "data": {
      "image/png": "[encoded data removed]",
      "text/plain": [
       "<Figure size 432x288 with 1 Axes>"
      ]
     },
     "metadata": {
      "needs_background": "light"
     },
     "output_type": "display_data"
    }
   ],
   "source": [
    "df.boxplot()"
   ]
  },
  {
   "cell_type": "code",
   "execution_count": 498,
   "id": "12c18e69",
   "metadata": {},
   "outputs": [
    {
     "name": "stdout",
     "output_type": "stream",
     "text": [
      "Name\n",
      "Maruti Suzuki Baleno - 2016                17\n",
      "Maruti Suzuki Baleno - 2017                10\n",
      "Hyundai Venue - 2019                        8\n",
      "Maruti Suzuki Baleno - 2018                 8\n",
      "Maruti Suzuki Eeco - 2019                   8\n",
      "                                           ..\n",
      "Maruti Suzuki Swift VDi - 2010              1\n",
      "Maruti Suzuki Alto K10 - 2017               1\n",
      "Maruti Suzuki Wagon R - 2007                1\n",
      "Ford Ikon - 2009                            1\n",
      "Ford Figo Duratec Petrol EXI 1.2 - 2015     1\n",
      "Name: Name, Length: 691, dtype: int64\n",
      "Location\n",
      "Pune                  324\n",
      "Chennai               315\n",
      "Bangalore             257\n",
      "Kolkata                20\n",
      "Mumbai                 19\n",
      "Madurai                12\n",
      "Hyderabad              11\n",
      "Delhi                  10\n",
      "Jaipur                 10\n",
      "Trichy                  8\n",
      "Ahmedabad               5\n",
      "Nagpur                  5\n",
      "NaviMumbai              3\n",
      "Pondicherry             2\n",
      "Kozhikode               2\n",
      "Surat                   2\n",
      "Bhubaneswar             2\n",
      "nan                     2\n",
      "Lucknow                 2\n",
      "Anand                   1\n",
      "Bilaspur                1\n",
      "GirSomnath              1\n",
      "Dhanbad                 1\n",
      "Mahasamund              1\n",
      "Muzaffarnagar           1\n",
      "Uttarpara               1\n",
      "Kochi                   1\n",
      "Dwarka                  1\n",
      "Udaipur                 1\n",
      "Thane                   1\n",
      "Kurnool                 1\n",
      "Gurgaon                 1\n",
      "BolpurSantiniketan      1\n",
      "Chandigarh              1\n",
      "Malappuram              1\n",
      "Nanded                  1\n",
      "Coimbatore              1\n",
      "Kanchipuram             1\n",
      "Faridabad               1\n",
      "Jagdalpur               1\n",
      "Name: Location, dtype: int64\n",
      "Price\n",
      "69.0         9\n",
      "325000.0     7\n",
      "250000.0     7\n",
      "1750000.0    7\n",
      "650000.0     6\n",
      "            ..\n",
      "351599.0     1\n",
      "603799.0     1\n",
      "599799.0     1\n",
      "456099.0     1\n",
      "229000.0     1\n",
      "Name: Price, Length: 802, dtype: int64\n",
      "Kms_driven\n",
      "85.0       23\n",
      "56.0       10\n",
      "55.0        7\n",
      "57.0        6\n",
      "80.0        6\n",
      "           ..\n",
      "2394.0      1\n",
      "26678.0     1\n",
      "41342.0     1\n",
      "59614.0     1\n",
      "35056.0     1\n",
      "Name: Kms_driven, Length: 825, dtype: int64\n",
      "Fuel_type\n",
      " Petrol           573\n",
      " Diesel           158\n",
      " Petrol           155\n",
      " Diesel           133\n",
      " CNG                4\n",
      " CNG                3\n",
      " Electric           2\n",
      " Petrol + CNG       2\n",
      " LPG                1\n",
      " Hybrid             1\n",
      "Name: Fuel_type, dtype: int64\n",
      "Owner\n",
      " 2nd Owner    484\n",
      "nan           289\n",
      " 1st Owner    241\n",
      " 3rd Owner     18\n",
      "Name: Owner, dtype: int64\n",
      "Year\n",
      "2017    162\n",
      "2016    160\n",
      "2018    154\n",
      "2019    119\n",
      "2015     97\n",
      "2014     67\n",
      "2020     54\n",
      "2013     47\n",
      "2012     38\n",
      "2011     33\n",
      "2021     22\n",
      "2010     19\n",
      "2007     17\n",
      "2009     11\n",
      "2008      9\n",
      "2005      6\n",
      "2006      5\n",
      "2001      3\n",
      "2002      3\n",
      "2022      2\n",
      "2004      2\n",
      "2000      1\n",
      "2003      1\n",
      "Name: Year, dtype: int64\n",
      "Company\n",
      "Maruti        384\n",
      "Hyundai       228\n",
      "Honda          79\n",
      "Ford           51\n",
      "Tata           44\n",
      "Renault        43\n",
      "Mahindra       42\n",
      "Toyota         41\n",
      "Volkswagen     29\n",
      "MG             17\n",
      "Chevrolet      11\n",
      "Kia            10\n",
      "Jeep           10\n",
      "BMW             7\n",
      "Skoda           7\n",
      "Nissan          5\n",
      "Audi            5\n",
      "Datsun          5\n",
      "Mercedes        4\n",
      "Fiat            3\n",
      "Volvo           2\n",
      "Jaguar          2\n",
      "Ssangyong       1\n",
      "Land            1\n",
      "Porsche         1\n",
      "Name: Company, dtype: int64\n"
     ]
    }
   ],
   "source": [
    "for i in ['Name', 'Location', 'Price', 'Kms_driven', 'Fuel_type', 'Owner', 'Year', 'Company']:\n",
    "    print(i)\n",
    "    print(df[i].value_counts())"
   ]
  },
  {
   "cell_type": "code",
   "execution_count": 499,
   "id": "9b3e0c3e",
   "metadata": {},
   "outputs": [
    {
     "name": "stdout",
     "output_type": "stream",
     "text": [
      "Name\n",
      "Maruti Suzuki Baleno - 2016                0.016473\n",
      "Maruti Suzuki Baleno - 2017                0.009690\n",
      "Hyundai Venue - 2019                       0.007752\n",
      "Maruti Suzuki Baleno - 2018                0.007752\n",
      "Maruti Suzuki Eeco - 2019                  0.007752\n",
      "                                             ...   \n",
      "Maruti Suzuki Swift VDi - 2010             0.000969\n",
      "Maruti Suzuki Alto K10 - 2017              0.000969\n",
      "Maruti Suzuki Wagon R - 2007               0.000969\n",
      "Ford Ikon - 2009                           0.000969\n",
      "Ford Figo Duratec Petrol EXI 1.2 - 2015    0.000969\n",
      "Name: Name, Length: 691, dtype: float64\n",
      "Location\n",
      "Pune                  0.313953\n",
      "Chennai               0.305233\n",
      "Bangalore             0.249031\n",
      "Kolkata               0.019380\n",
      "Mumbai                0.018411\n",
      "Madurai               0.011628\n",
      "Hyderabad             0.010659\n",
      "Delhi                 0.009690\n",
      "Jaipur                0.009690\n",
      "Trichy                0.007752\n",
      "Ahmedabad             0.004845\n",
      "Nagpur                0.004845\n",
      "NaviMumbai            0.002907\n",
      "Pondicherry           0.001938\n",
      "Kozhikode             0.001938\n",
      "Surat                 0.001938\n",
      "Bhubaneswar           0.001938\n",
      "nan                   0.001938\n",
      "Lucknow               0.001938\n",
      "Anand                 0.000969\n",
      "Bilaspur              0.000969\n",
      "GirSomnath            0.000969\n",
      "Dhanbad               0.000969\n",
      "Mahasamund            0.000969\n",
      "Muzaffarnagar         0.000969\n",
      "Uttarpara             0.000969\n",
      "Kochi                 0.000969\n",
      "Dwarka                0.000969\n",
      "Udaipur               0.000969\n",
      "Thane                 0.000969\n",
      "Kurnool               0.000969\n",
      "Gurgaon               0.000969\n",
      "BolpurSantiniketan    0.000969\n",
      "Chandigarh            0.000969\n",
      "Malappuram            0.000969\n",
      "Nanded                0.000969\n",
      "Coimbatore            0.000969\n",
      "Kanchipuram           0.000969\n",
      "Faridabad             0.000969\n",
      "Jagdalpur             0.000969\n",
      "Name: Location, dtype: float64\n",
      "Price\n",
      "69.0         0.008772\n",
      "325000.0     0.006823\n",
      "250000.0     0.006823\n",
      "1750000.0    0.006823\n",
      "650000.0     0.005848\n",
      "               ...   \n",
      "351599.0     0.000975\n",
      "603799.0     0.000975\n",
      "599799.0     0.000975\n",
      "456099.0     0.000975\n",
      "229000.0     0.000975\n",
      "Name: Price, Length: 802, dtype: float64\n",
      "Kms_driven\n",
      "85.0       0.022330\n",
      "56.0       0.009709\n",
      "55.0       0.006796\n",
      "57.0       0.005825\n",
      "80.0       0.005825\n",
      "             ...   \n",
      "2394.0     0.000971\n",
      "26678.0    0.000971\n",
      "41342.0    0.000971\n",
      "59614.0    0.000971\n",
      "35056.0    0.000971\n",
      "Name: Kms_driven, Length: 825, dtype: float64\n",
      "Fuel_type\n",
      " Petrol           0.555233\n",
      " Diesel           0.153101\n",
      " Petrol           0.150194\n",
      " Diesel           0.128876\n",
      " CNG              0.003876\n",
      " CNG              0.002907\n",
      " Electric         0.001938\n",
      " Petrol + CNG     0.001938\n",
      " LPG              0.000969\n",
      " Hybrid           0.000969\n",
      "Name: Fuel_type, dtype: float64\n",
      "Owner\n",
      " 2nd Owner    0.468992\n",
      "nan           0.280039\n",
      " 1st Owner    0.233527\n",
      " 3rd Owner    0.017442\n",
      "Name: Owner, dtype: float64\n",
      "Year\n",
      "2017    0.156977\n",
      "2016    0.155039\n",
      "2018    0.149225\n",
      "2019    0.115310\n",
      "2015    0.093992\n",
      "2014    0.064922\n",
      "2020    0.052326\n",
      "2013    0.045543\n",
      "2012    0.036822\n",
      "2011    0.031977\n",
      "2021    0.021318\n",
      "2010    0.018411\n",
      "2007    0.016473\n",
      "2009    0.010659\n",
      "2008    0.008721\n",
      "2005    0.005814\n",
      "2006    0.004845\n",
      "2001    0.002907\n",
      "2002    0.002907\n",
      "2022    0.001938\n",
      "2004    0.001938\n",
      "2000    0.000969\n",
      "2003    0.000969\n",
      "Name: Year, dtype: float64\n",
      "Company\n",
      "Maruti        0.372093\n",
      "Hyundai       0.220930\n",
      "Honda         0.076550\n",
      "Ford          0.049419\n",
      "Tata          0.042636\n",
      "Renault       0.041667\n",
      "Mahindra      0.040698\n",
      "Toyota        0.039729\n",
      "Volkswagen    0.028101\n",
      "MG            0.016473\n",
      "Chevrolet     0.010659\n",
      "Kia           0.009690\n",
      "Jeep          0.009690\n",
      "BMW           0.006783\n",
      "Skoda         0.006783\n",
      "Nissan        0.004845\n",
      "Audi          0.004845\n",
      "Datsun        0.004845\n",
      "Mercedes      0.003876\n",
      "Fiat          0.002907\n",
      "Volvo         0.001938\n",
      "Jaguar        0.001938\n",
      "Ssangyong     0.000969\n",
      "Land          0.000969\n",
      "Porsche       0.000969\n",
      "Name: Company, dtype: float64\n"
     ]
    }
   ],
   "source": [
    "# процентная доля каждого значения\n",
    "for i in ['Name', 'Location', 'Price', 'Kms_driven', 'Fuel_type', 'Owner', 'Year', 'Company']:\n",
    "    print(i)\n",
    "    print(df[i].value_counts(normalize=True))"
   ]
  },
  {
   "cell_type": "markdown",
   "id": "ad9ed26e",
   "metadata": {},
   "source": [
    "* анализ количества и распределения отсутствующих значений"
   ]
  },
  {
   "cell_type": "code",
   "execution_count": 500,
   "id": "7d182808",
   "metadata": {},
   "outputs": [
    {
     "data": {
      "text/plain": [
       "Name          0\n",
       "Location      0\n",
       "Price         6\n",
       "Kms_driven    2\n",
       "Fuel_type     0\n",
       "Owner         0\n",
       "Year          0\n",
       "Company       0\n",
       "dtype: int64"
      ]
     },
     "execution_count": 500,
     "metadata": {},
     "output_type": "execute_result"
    }
   ],
   "source": [
    "df.isna().sum()"
   ]
  },
  {
   "cell_type": "markdown",
   "id": "67765acc",
   "metadata": {},
   "source": [
    "\n",
    "* построение корреляционной матрицы"
   ]
  },
  {
   "cell_type": "code",
   "execution_count": 501,
   "id": "f3396049",
   "metadata": {},
   "outputs": [
    {
     "data": {
      "text/html": [
       "<div>\n",
       "<style scoped>\n",
       "    .dataframe tbody tr th:only-of-type {\n",
       "        vertical-align: middle;\n",
       "    }\n",
       "\n",
       "    .dataframe tbody tr th {\n",
       "        vertical-align: top;\n",
       "    }\n",
       "\n",
       "    .dataframe thead th {\n",
       "        text-align: right;\n",
       "    }\n",
       "</style>\n",
       "<table border=\"1\" class=\"dataframe\">\n",
       "  <thead>\n",
       "    <tr style=\"text-align: right;\">\n",
       "      <th></th>\n",
       "      <th>Price</th>\n",
       "      <th>Kms_driven</th>\n",
       "      <th>Year</th>\n",
       "    </tr>\n",
       "  </thead>\n",
       "  <tbody>\n",
       "    <tr>\n",
       "      <th>Price</th>\n",
       "      <td>1.000000</td>\n",
       "      <td>-0.027398</td>\n",
       "      <td>0.392302</td>\n",
       "    </tr>\n",
       "    <tr>\n",
       "      <th>Kms_driven</th>\n",
       "      <td>-0.027398</td>\n",
       "      <td>1.000000</td>\n",
       "      <td>-0.141198</td>\n",
       "    </tr>\n",
       "    <tr>\n",
       "      <th>Year</th>\n",
       "      <td>0.392302</td>\n",
       "      <td>-0.141198</td>\n",
       "      <td>1.000000</td>\n",
       "    </tr>\n",
       "  </tbody>\n",
       "</table>\n",
       "</div>"
      ],
      "text/plain": [
       "               Price  Kms_driven      Year\n",
       "Price       1.000000   -0.027398  0.392302\n",
       "Kms_driven -0.027398    1.000000 -0.141198\n",
       "Year        0.392302   -0.141198  1.000000"
      ]
     },
     "execution_count": 501,
     "metadata": {},
     "output_type": "execute_result"
    }
   ],
   "source": [
    "df.corr() "
   ]
  },
  {
   "cell_type": "markdown",
   "id": "1554bf61",
   "metadata": {},
   "source": [
    "признаки слабо коррелируют"
   ]
  },
  {
   "cell_type": "markdown",
   "id": "6c4f130a",
   "metadata": {},
   "source": [
    "3.3 Провести подготовительную обработку данных, включающую следующие шаги:"
   ]
  },
  {
   "cell_type": "markdown",
   "id": "44052461",
   "metadata": {},
   "source": [
    "\n",
    "* удаление или заполнение отсутствующих значений"
   ]
  },
  {
   "cell_type": "code",
   "execution_count": 502,
   "id": "68d12596",
   "metadata": {},
   "outputs": [
    {
     "data": {
      "text/plain": [
       "Name          0\n",
       "Location      0\n",
       "Price         6\n",
       "Kms_driven    2\n",
       "Fuel_type     0\n",
       "Owner         0\n",
       "Year          0\n",
       "Company       0\n",
       "dtype: int64"
      ]
     },
     "execution_count": 502,
     "metadata": {},
     "output_type": "execute_result"
    }
   ],
   "source": [
    "df.isna().sum()"
   ]
  },
  {
   "cell_type": "code",
   "execution_count": 503,
   "id": "bef83ac5",
   "metadata": {},
   "outputs": [],
   "source": [
    "for i in ['Price', 'Kms_driven']:\n",
    "    df[i] = df[i].fillna(df[i].mean())"
   ]
  },
  {
   "cell_type": "code",
   "execution_count": 504,
   "id": "e96c048c",
   "metadata": {},
   "outputs": [],
   "source": [
    "df.Price = df.Price.astype(int)\n",
    "df.Kms_driven = df.Kms_driven.astype(int)"
   ]
  },
  {
   "cell_type": "code",
   "execution_count": 505,
   "id": "c172a647",
   "metadata": {},
   "outputs": [
    {
     "data": {
      "text/plain": [
       "Series([], dtype: int64)"
      ]
     },
     "execution_count": 505,
     "metadata": {},
     "output_type": "execute_result"
    }
   ],
   "source": [
    "nans = df.isna().sum()\n",
    "nans[nans > 0]"
   ]
  },
  {
   "cell_type": "markdown",
   "id": "6aeb935e",
   "metadata": {},
   "source": [
    "\n",
    "* приведение всех признаков к бинарной либо числовой шкале"
   ]
  },
  {
   "cell_type": "code",
   "execution_count": 506,
   "id": "78a90225",
   "metadata": {},
   "outputs": [
    {
     "data": {
      "text/plain": [
       "Name          object\n",
       "Location      object\n",
       "Price          int64\n",
       "Kms_driven     int64\n",
       "Fuel_type     object\n",
       "Owner         object\n",
       "Year           int64\n",
       "Company       object\n",
       "dtype: object"
      ]
     },
     "execution_count": 506,
     "metadata": {},
     "output_type": "execute_result"
    }
   ],
   "source": [
    "df.dtypes"
   ]
  },
  {
   "cell_type": "code",
   "execution_count": 507,
   "id": "362e52e6",
   "metadata": {},
   "outputs": [],
   "source": [
    "for i in ['Name', 'Location', 'Fuel_type', 'Owner', 'Company']:\n",
    "    df[i] = df[i].astype('category')\n",
    "    df[i] = df[i].cat.codes"
   ]
  },
  {
   "cell_type": "code",
   "execution_count": 508,
   "id": "b2daf996",
   "metadata": {},
   "outputs": [
    {
     "data": {
      "text/plain": [
       "Name          int16\n",
       "Location       int8\n",
       "Price         int64\n",
       "Kms_driven    int64\n",
       "Fuel_type      int8\n",
       "Owner          int8\n",
       "Year          int64\n",
       "Company        int8\n",
       "dtype: object"
      ]
     },
     "execution_count": 508,
     "metadata": {},
     "output_type": "execute_result"
    }
   ],
   "source": [
    "df.dtypes"
   ]
  },
  {
   "cell_type": "code",
   "execution_count": 509,
   "id": "ec871e23",
   "metadata": {},
   "outputs": [
    {
     "data": {
      "text/html": [
       "<div>\n",
       "<style scoped>\n",
       "    .dataframe tbody tr th:only-of-type {\n",
       "        vertical-align: middle;\n",
       "    }\n",
       "\n",
       "    .dataframe tbody tr th {\n",
       "        vertical-align: top;\n",
       "    }\n",
       "\n",
       "    .dataframe thead th {\n",
       "        text-align: right;\n",
       "    }\n",
       "</style>\n",
       "<table border=\"1\" class=\"dataframe\">\n",
       "  <thead>\n",
       "    <tr style=\"text-align: right;\">\n",
       "      <th></th>\n",
       "      <th>Name</th>\n",
       "      <th>Location</th>\n",
       "      <th>Price</th>\n",
       "      <th>Kms_driven</th>\n",
       "      <th>Fuel_type</th>\n",
       "      <th>Owner</th>\n",
       "      <th>Year</th>\n",
       "      <th>Company</th>\n",
       "    </tr>\n",
       "  </thead>\n",
       "  <tbody>\n",
       "    <tr>\n",
       "      <th>0</th>\n",
       "      <td>50</td>\n",
       "      <td>2</td>\n",
       "      <td>380000</td>\n",
       "      <td>35056</td>\n",
       "      <td>7</td>\n",
       "      <td>1</td>\n",
       "      <td>2015</td>\n",
       "      <td>5</td>\n",
       "    </tr>\n",
       "    <tr>\n",
       "      <th>1</th>\n",
       "      <td>547</td>\n",
       "      <td>2</td>\n",
       "      <td>465000</td>\n",
       "      <td>44</td>\n",
       "      <td>7</td>\n",
       "      <td>0</td>\n",
       "      <td>2016</td>\n",
       "      <td>14</td>\n",
       "    </tr>\n",
       "    <tr>\n",
       "      <th>2</th>\n",
       "      <td>132</td>\n",
       "      <td>2</td>\n",
       "      <td>1350000</td>\n",
       "      <td>42917</td>\n",
       "      <td>7</td>\n",
       "      <td>3</td>\n",
       "      <td>2018</td>\n",
       "      <td>7</td>\n",
       "    </tr>\n",
       "    <tr>\n",
       "      <th>3</th>\n",
       "      <td>217</td>\n",
       "      <td>7</td>\n",
       "      <td>1019699</td>\n",
       "      <td>16112</td>\n",
       "      <td>8</td>\n",
       "      <td>1</td>\n",
       "      <td>2019</td>\n",
       "      <td>7</td>\n",
       "    </tr>\n",
       "    <tr>\n",
       "      <th>4</th>\n",
       "      <td>105</td>\n",
       "      <td>33</td>\n",
       "      <td>713499</td>\n",
       "      <td>30988</td>\n",
       "      <td>8</td>\n",
       "      <td>1</td>\n",
       "      <td>2017</td>\n",
       "      <td>6</td>\n",
       "    </tr>\n",
       "  </tbody>\n",
       "</table>\n",
       "</div>"
      ],
      "text/plain": [
       "   Name  Location    Price  Kms_driven  Fuel_type  Owner  Year  Company\n",
       "0    50         2   380000       35056          7      1  2015        5\n",
       "1   547         2   465000          44          7      0  2016       14\n",
       "2   132         2  1350000       42917          7      3  2018        7\n",
       "3   217         7  1019699       16112          8      1  2019        7\n",
       "4   105        33   713499       30988          8      1  2017        6"
      ]
     },
     "execution_count": 509,
     "metadata": {},
     "output_type": "execute_result"
    }
   ],
   "source": [
    "df.head()"
   ]
  },
  {
   "cell_type": "markdown",
   "id": "33a86894",
   "metadata": {},
   "source": [
    "\n",
    "* удаление несущественных либо избыточных признаков - не требуется"
   ]
  },
  {
   "cell_type": "markdown",
   "id": "189c47e6",
   "metadata": {},
   "source": [
    "3.4 Использовать несколько моделей (не менее 3) машинного обучения для решения поставленной задачи. Сформировать сводную таблицу результатов обучения, включающую время обучения модели и основные метрики (accuracy, precision, recall, f1 для классификации; r2, mse, mape для регрессии)."
   ]
  },
  {
   "cell_type": "code",
   "execution_count": 518,
   "id": "35f05aa9",
   "metadata": {},
   "outputs": [],
   "source": [
    "from sklearn import metrics\n",
    "import time\n",
    "from sklearn.neighbors import KNeighborsClassifier\n",
    "from sklearn import svm"
   ]
  },
  {
   "cell_type": "code",
   "execution_count": 511,
   "id": "f9f601e4",
   "metadata": {},
   "outputs": [],
   "source": [
    "def MAPE(Y_actual,Y_Predicted):\n",
    "    mape = np.mean(np.abs((Y_actual - Y_Predicted)/Y_actual))*100\n",
    "    return mape"
   ]
  },
  {
   "cell_type": "code",
   "execution_count": 512,
   "id": "d18a2507",
   "metadata": {},
   "outputs": [],
   "source": [
    "X = df.drop(columns = ['Price'])\n",
    "y = df.Price\n",
    "\n",
    "x_train, x_test, y_train, y_test = train_test_split(X, y, test_size = 0.2)"
   ]
  },
  {
   "cell_type": "code",
   "execution_count": 513,
   "id": "06bf6efc",
   "metadata": {},
   "outputs": [],
   "source": [
    "reg,acc,prec,rec,r2,mape,t = [], [], [], [], [], [], []\n",
    "\n",
    "def make_model(x_train, y_train, x_test, y_test, model, name = ''):\n",
    "    start_time = time.time()\n",
    "    model.fit(x_train, y_train)\n",
    "    y_pred = model.predict(x_test)\n",
    "    \n",
    "    t.append(time.time() - start_time)\n",
    "    reg.append(name)\n",
    "    acc.append(metrics.accuracy_score(y_test, y_pred))\n",
    "    prec.append(metrics.precision_score(y_test, y_pred, average=\"macro\"))\n",
    "    rec.append(metrics.recall_score(y_test, y_pred, average=\"macro\"))\n",
    "    r2.append(r2_score(y_test, y_pred))\n",
    "    mape.append(MAPE(y_test, y_pred))"
   ]
  },
  {
   "cell_type": "code",
   "execution_count": 514,
   "id": "7da1b428",
   "metadata": {},
   "outputs": [
    {
     "data": {
      "text/plain": [
       "Name          int16\n",
       "Location       int8\n",
       "Price         int64\n",
       "Kms_driven    int64\n",
       "Fuel_type      int8\n",
       "Owner          int8\n",
       "Year          int64\n",
       "Company        int8\n",
       "dtype: object"
      ]
     },
     "execution_count": 514,
     "metadata": {},
     "output_type": "execute_result"
    }
   ],
   "source": [
    "df.dtypes"
   ]
  },
  {
   "cell_type": "code",
   "execution_count": 515,
   "id": "70683fd2",
   "metadata": {},
   "outputs": [
    {
     "name": "stderr",
     "output_type": "stream",
     "text": [
      "/opt/anaconda3/lib/python3.8/site-packages/sklearn/linear_model/_logistic.py:763: ConvergenceWarning: lbfgs failed to converge (status=1):\n",
      "STOP: TOTAL NO. of ITERATIONS REACHED LIMIT.\n",
      "\n",
      "Increase the number of iterations (max_iter) or scale the data as shown in:\n",
      "    https://scikit-learn.org/stable/modules/preprocessing.html\n",
      "Please also refer to the documentation for alternative solver options:\n",
      "    https://scikit-learn.org/stable/modules/linear_model.html#logistic-regression\n",
      "  n_iter_i = _check_optimize_result(\n",
      "/opt/anaconda3/lib/python3.8/site-packages/sklearn/metrics/_classification.py:1245: UndefinedMetricWarning: Precision is ill-defined and being set to 0.0 in labels with no predicted samples. Use `zero_division` parameter to control this behavior.\n",
      "  _warn_prf(average, modifier, msg_start, len(result))\n",
      "/opt/anaconda3/lib/python3.8/site-packages/sklearn/metrics/_classification.py:1245: UndefinedMetricWarning: Recall is ill-defined and being set to 0.0 in labels with no true samples. Use `zero_division` parameter to control this behavior.\n",
      "  _warn_prf(average, modifier, msg_start, len(result))\n"
     ]
    }
   ],
   "source": [
    "LR = LogisticRegression()\n",
    "make_model(x_train, y_train, x_test, y_test, LR, name = 'LR')"
   ]
  },
  {
   "cell_type": "code",
   "execution_count": 519,
   "id": "739605e8",
   "metadata": {},
   "outputs": [
    {
     "name": "stderr",
     "output_type": "stream",
     "text": [
      "/opt/anaconda3/lib/python3.8/site-packages/sklearn/metrics/_classification.py:1245: UndefinedMetricWarning: Precision is ill-defined and being set to 0.0 in labels with no predicted samples. Use `zero_division` parameter to control this behavior.\n",
      "  _warn_prf(average, modifier, msg_start, len(result))\n",
      "/opt/anaconda3/lib/python3.8/site-packages/sklearn/metrics/_classification.py:1245: UndefinedMetricWarning: Recall is ill-defined and being set to 0.0 in labels with no true samples. Use `zero_division` parameter to control this behavior.\n",
      "  _warn_prf(average, modifier, msg_start, len(result))\n"
     ]
    }
   ],
   "source": [
    "gauss_SVC= svm.SVC(kernel='rbf')\n",
    "make_model(x_train, y_train, x_test, y_test, gauss_SVC, name = 'gauss_SVC')"
   ]
  },
  {
   "cell_type": "code",
   "execution_count": 520,
   "id": "9561da57",
   "metadata": {},
   "outputs": [
    {
     "name": "stderr",
     "output_type": "stream",
     "text": [
      "/opt/anaconda3/lib/python3.8/site-packages/sklearn/metrics/_classification.py:1245: UndefinedMetricWarning: Precision is ill-defined and being set to 0.0 in labels with no predicted samples. Use `zero_division` parameter to control this behavior.\n",
      "  _warn_prf(average, modifier, msg_start, len(result))\n",
      "/opt/anaconda3/lib/python3.8/site-packages/sklearn/metrics/_classification.py:1245: UndefinedMetricWarning: Recall is ill-defined and being set to 0.0 in labels with no true samples. Use `zero_division` parameter to control this behavior.\n",
      "  _warn_prf(average, modifier, msg_start, len(result))\n"
     ]
    }
   ],
   "source": [
    "poly_SVC= svm.SVC(kernel='poly')\n",
    "make_model(x_train, y_train, x_test, y_test, poly_SVC, name = 'poly_SVC')"
   ]
  },
  {
   "cell_type": "code",
   "execution_count": 521,
   "id": "3faccc5e",
   "metadata": {},
   "outputs": [
    {
     "name": "stderr",
     "output_type": "stream",
     "text": [
      "/opt/anaconda3/lib/python3.8/site-packages/sklearn/metrics/_classification.py:1245: UndefinedMetricWarning: Precision is ill-defined and being set to 0.0 in labels with no predicted samples. Use `zero_division` parameter to control this behavior.\n",
      "  _warn_prf(average, modifier, msg_start, len(result))\n",
      "/opt/anaconda3/lib/python3.8/site-packages/sklearn/metrics/_classification.py:1245: UndefinedMetricWarning: Recall is ill-defined and being set to 0.0 in labels with no true samples. Use `zero_division` parameter to control this behavior.\n",
      "  _warn_prf(average, modifier, msg_start, len(result))\n"
     ]
    }
   ],
   "source": [
    "KNC = KNeighborsClassifier()\n",
    "make_model(x_train, y_train, x_test, y_test, KNC, name = 'KNC')"
   ]
  },
  {
   "cell_type": "code",
   "execution_count": 522,
   "id": "6119bf30",
   "metadata": {},
   "outputs": [
    {
     "data": {
      "text/html": [
       "<div>\n",
       "<style scoped>\n",
       "    .dataframe tbody tr th:only-of-type {\n",
       "        vertical-align: middle;\n",
       "    }\n",
       "\n",
       "    .dataframe tbody tr th {\n",
       "        vertical-align: top;\n",
       "    }\n",
       "\n",
       "    .dataframe thead th {\n",
       "        text-align: right;\n",
       "    }\n",
       "</style>\n",
       "<table border=\"1\" class=\"dataframe\">\n",
       "  <thead>\n",
       "    <tr style=\"text-align: right;\">\n",
       "      <th></th>\n",
       "      <th>name</th>\n",
       "      <th>accuracy</th>\n",
       "      <th>precision</th>\n",
       "      <th>recall</th>\n",
       "      <th>time</th>\n",
       "      <th>R^2</th>\n",
       "      <th>MAPE</th>\n",
       "    </tr>\n",
       "  </thead>\n",
       "  <tbody>\n",
       "    <tr>\n",
       "      <th>0</th>\n",
       "      <td>LR</td>\n",
       "      <td>0.019324</td>\n",
       "      <td>0.000525</td>\n",
       "      <td>0.010309</td>\n",
       "      <td>0.964964</td>\n",
       "      <td>-0.767728</td>\n",
       "      <td>55.612015</td>\n",
       "    </tr>\n",
       "    <tr>\n",
       "      <th>1</th>\n",
       "      <td>gauss_SVC</td>\n",
       "      <td>0.019324</td>\n",
       "      <td>0.000269</td>\n",
       "      <td>0.010309</td>\n",
       "      <td>0.734175</td>\n",
       "      <td>-0.844516</td>\n",
       "      <td>62.783979</td>\n",
       "    </tr>\n",
       "    <tr>\n",
       "      <th>2</th>\n",
       "      <td>poly_SVC</td>\n",
       "      <td>0.014493</td>\n",
       "      <td>0.000179</td>\n",
       "      <td>0.005128</td>\n",
       "      <td>0.883278</td>\n",
       "      <td>-0.962424</td>\n",
       "      <td>63.770091</td>\n",
       "    </tr>\n",
       "    <tr>\n",
       "      <th>3</th>\n",
       "      <td>KNC</td>\n",
       "      <td>0.004831</td>\n",
       "      <td>0.001661</td>\n",
       "      <td>0.001661</td>\n",
       "      <td>0.025179</td>\n",
       "      <td>-0.529683</td>\n",
       "      <td>6255.595277</td>\n",
       "    </tr>\n",
       "  </tbody>\n",
       "</table>\n",
       "</div>"
      ],
      "text/plain": [
       "        name  accuracy  precision    recall      time       R^2         MAPE\n",
       "0         LR  0.019324   0.000525  0.010309  0.964964 -0.767728    55.612015\n",
       "1  gauss_SVC  0.019324   0.000269  0.010309  0.734175 -0.844516    62.783979\n",
       "2   poly_SVC  0.014493   0.000179  0.005128  0.883278 -0.962424    63.770091\n",
       "3        KNC  0.004831   0.001661  0.001661  0.025179 -0.529683  6255.595277"
      ]
     },
     "execution_count": 522,
     "metadata": {},
     "output_type": "execute_result"
    }
   ],
   "source": [
    "ex1 = pd.DataFrame(columns = ['name','accuracy','precision','recall','time'])\n",
    "ex1['name'] = reg\n",
    "ex1['accuracy'] = acc\n",
    "ex1['precision'] = prec\n",
    "ex1['recall'] = rec\n",
    "ex1['time'] = t\n",
    "ex1['R^2'] = r2\n",
    "ex1['MAPE'] = mape\n",
    "ex1"
   ]
  },
  {
   "cell_type": "code",
   "execution_count": null,
   "id": "a2be7571",
   "metadata": {},
   "outputs": [],
   "source": []
  },
  {
   "cell_type": "code",
   "execution_count": null,
   "id": "9a34b293",
   "metadata": {},
   "outputs": [],
   "source": []
  }
 ],
 "metadata": {
  "kernelspec": {
   "display_name": "Python 3",
   "language": "python",
   "name": "python3"
  },
  "language_info": {
   "codemirror_mode": {
    "name": "ipython",
    "version": 3
   },
   "file_extension": ".py",
   "mimetype": "text/x-python",
   "name": "python",
   "nbconvert_exporter": "python",
   "pygments_lexer": "ipython3",
   "version": "3.8.8"
  }
 },
 "nbformat": 4,
 "nbformat_minor": 5
}
