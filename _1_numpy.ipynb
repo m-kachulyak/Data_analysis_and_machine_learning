{
 "cells": [
  {
   "cell_type": "markdown",
   "id": "54d2dde4",
   "metadata": {},
   "source": [
    "# Основы работы с numpy"
   ]
  },
  {
   "cell_type": "code",
   "execution_count": 1,
   "id": "92a16361",
   "metadata": {},
   "outputs": [],
   "source": [
    "import numpy as np"
   ]
  },
  {
   "cell_type": "markdown",
   "id": "c8d2eb59",
   "metadata": {},
   "source": [
    "## Задания для выполнения\n",
    "- 1 - Загрузите данные в ноутбук"
   ]
  },
  {
   "cell_type": "code",
   "execution_count": 2,
   "id": "33e5994a",
   "metadata": {},
   "outputs": [],
   "source": [
    "rus = np.genfromtxt('1.csv', dtype = 'str', delimiter = ',', skip_header = 3, skip_footer = 1)\n",
    "math = np.genfromtxt('2.csv', dtype = 'str', delimiter = ',', skip_header = 3, skip_footer = 1)  \n",
    "phys = np.genfromtxt('3.csv', dtype = 'str', delimiter = ',', skip_header = 3, skip_footer = 1)\n",
    "ikt = np.genfromtxt('4.csv', dtype = 'str', delimiter = ',', skip_header = 3, skip_footer = 1)\n",
    "\n",
    "headers = np.genfromtxt('1.csv', dtype = 'str', delimiter = ',', skip_header = 2, skip_footer = 3049)"
   ]
  },
  {
   "cell_type": "code",
   "execution_count": 3,
   "id": "2b5a137e",
   "metadata": {},
   "outputs": [
    {
     "data": {
      "text/plain": [
       "array([['1', '117', '11', ..., '8', '20', '24'],\n",
       "       ['2', '148', '12А', ..., '8', '20', '24'],\n",
       "       ['3', '152', '13', ..., '9', '22', '24'],\n",
       "       ...,\n",
       "       ['3046', '147', '11', ..., '58', '100', '24'],\n",
       "       ['3047', '147', '11', ..., '58', '100', '24'],\n",
       "       ['3048', '144', '11А', ..., '58', '100', '24']], dtype='<U48')"
      ]
     },
     "execution_count": 3,
     "metadata": {},
     "output_type": "execute_result"
    }
   ],
   "source": [
    "rus"
   ]
  },
  {
   "cell_type": "code",
   "execution_count": 4,
   "id": "a4c893fd",
   "metadata": {},
   "outputs": [
    {
     "data": {
      "text/plain": [
       "array(['№', '№ школы', 'Класс', 'Пол', 'Номер варианта',\n",
       "       'Задания с кратким ответом', 'Задания с развёрнутым ответом',\n",
       "       'Устная часть', 'Первичный балл', 'Балл', 'Минимальный балл'],\n",
       "      dtype='<U29')"
      ]
     },
     "execution_count": 4,
     "metadata": {},
     "output_type": "execute_result"
    }
   ],
   "source": [
    "headers"
   ]
  },
  {
   "cell_type": "markdown",
   "id": "4792b4a0",
   "metadata": {},
   "source": [
    " - 2 - Сделайте описательную статистику по набранному баллу"
   ]
  },
  {
   "cell_type": "code",
   "execution_count": 5,
   "id": "c2fe9ee9",
   "metadata": {},
   "outputs": [],
   "source": [
    "import collections\n",
    "\n",
    "def mark_describer(df):\n",
    "    marks = df[:, 9].astype(int)\n",
    "    return {'count': collections.Counter(marks), 'mean': marks.mean(), 'std': marks.std(), 'var': marks.var(), 'min': marks.min(), '25%': np.quantile(marks, 0.25), '50%': np.quantile(marks, 0.50), '75%': np.quantile(marks, 0.75), 'max': marks.max(), 'median': np.median(marks)}"
   ]
  },
  {
   "cell_type": "code",
   "execution_count": 6,
   "id": "35aae86c",
   "metadata": {},
   "outputs": [],
   "source": [
    "# функция для результатов\n",
    "def results(function):\n",
    "    subjects = [rus, math, phys, ikt]\n",
    "    s_names = ['Русский язык', 'Математика', 'Физика', 'ИКТ']\n",
    "    for i in range(4):\n",
    "        print(s_names[i])\n",
    "        print(function(subjects[i]), '\\n')"
   ]
  },
  {
   "cell_type": "code",
   "execution_count": 7,
   "id": "e1cafd77",
   "metadata": {},
   "outputs": [
    {
     "name": "stdout",
     "output_type": "stream",
     "text": [
      "Русский язык\n",
      "{'count': Counter({80: 158, 82: 157, 78: 148, 89: 147, 87: 143, 72: 140, 73: 140, 85: 133, 76: 131, 91: 119, 71: 117, 70: 114, 69: 113, 94: 106, 67: 101, 66: 98, 64: 97, 65: 86, 62: 77, 60: 67, 61: 67, 59: 58, 96: 57, 57: 55, 55: 49, 54: 47, 56: 47, 98: 38, 51: 33, 49: 29, 50: 26, 53: 25, 45: 16, 46: 16, 40: 12, 41: 11, 43: 9, 44: 9, 48: 9, 100: 8, 36: 6, 32: 5, 39: 5, 30: 3, 34: 3, 38: 3, 20: 2, 22: 2, 24: 2, 26: 2, 28: 2}), 'mean': 72.76902887139107, 'std': 13.662665812887763, 'var': 186.66843711465202, 'min': 20, '25%': 64.0, '50%': 72.0, '75%': 82.0, 'max': 100, 'median': 72.0} \n",
      "\n",
      "Математика\n",
      "{'count': Counter({39: 265, 45: 264, 50: 256, 33: 231, 56: 193, 62: 173, 27: 154, 68: 153, 70: 144, 72: 98, 23: 97, 74: 73, 18: 65, 76: 51, 78: 36, 14: 35, 82: 14, 9: 13, 80: 13, 5: 7, 84: 6, 88: 5, 90: 3, 96: 3, 86: 2, 92: 2}), 'mean': 49.25509337860781, 'std': 17.87662501523297, 'var': 319.5737219352533, 'min': 5, '25%': 33.0, '50%': 50.0, '75%': 68.0, 'max': 96, 'median': 50.0} \n",
      "\n",
      "Физика\n",
      "{'count': Counter({40: 63, 38: 52, 42: 48, 39: 47, 44: 46, 41: 45, 55: 42, 47: 37, 48: 37, 51: 37, 46: 34, 53: 34, 49: 33, 54: 33, 33: 32, 45: 32, 52: 32, 60: 31, 66: 31, 36: 30, 61: 29, 57: 27, 58: 27, 59: 27, 62: 27, 30: 23, 78: 22, 70: 21, 72: 21, 64: 20, 74: 20, 76: 19, 68: 18, 23: 13, 27: 12, 80: 11, 82: 11, 84: 10, 92: 9, 86: 8, 20: 6, 88: 6, 90: 4, 17: 3, 98: 3, 94: 2, 100: 2, 10: 1, 14: 1, 96: 1}), 'mean': 52.047457627118646, 'std': 14.959134797016945, 'var': 223.7757138753232, 'min': 10, '25%': 41.0, '50%': 49.0, '75%': 60.25, 'max': 100, 'median': 49.0} \n",
      "\n",
      "ИКТ\n",
      "{'count': Counter({77: 10, 57: 8, 50: 7, 46: 6, 48: 6, 55: 6, 66: 6, 68: 6, 70: 6, 72: 6, 79: 6, 20: 5, 27: 5, 42: 5, 73: 5, 75: 5, 34: 4, 51: 4, 59: 4, 61: 4, 64: 4, 83: 3, 88: 3, 97: 3, 0: 2, 81: 2, 84: 2, 91: 2, 40: 1, 44: 1, 53: 1, 62: 1, 94: 1, 100: 1}), 'mean': 60.780141843971634, 'std': 19.350845162176213, 'var': 374.45520849051854, 'min': 0, '25%': 50.0, '50%': 64.0, '75%': 75.0, 'max': 100, 'median': 64.0} \n",
      "\n"
     ]
    }
   ],
   "source": [
    "results(mark_describer)"
   ]
  },
  {
   "cell_type": "markdown",
   "id": "0f0cae98",
   "metadata": {},
   "source": [
    " - 3 - Найдите процент учащихся, выполнивших работу ниже среднего"
   ]
  },
  {
   "cell_type": "code",
   "execution_count": 8,
   "id": "76394dd7",
   "metadata": {},
   "outputs": [],
   "source": [
    "def worst_student_percentage(df):\n",
    "    marks = df[:, 9].astype(int)\n",
    "    return round(marks[marks < marks.mean()].shape[0] / marks.shape[0] * 100, 0)"
   ]
  },
  {
   "cell_type": "code",
   "execution_count": 9,
   "id": "c80af94f",
   "metadata": {},
   "outputs": [
    {
     "name": "stdout",
     "output_type": "stream",
     "text": [
      "Русский язык\n",
      "51.0 \n",
      "\n",
      "Математика\n",
      "48.0 \n",
      "\n",
      "Физика\n",
      "56.0 \n",
      "\n",
      "ИКТ\n",
      "46.0 \n",
      "\n"
     ]
    }
   ],
   "source": [
    "results(worst_student_percentage)"
   ]
  },
  {
   "cell_type": "markdown",
   "id": "ca135727",
   "metadata": {},
   "source": [
    " - 4 - Найти процент учащихся не сдавших экзамен"
   ]
  },
  {
   "cell_type": "code",
   "execution_count": 10,
   "id": "22a93709",
   "metadata": {},
   "outputs": [],
   "source": [
    "def falled_percentage(df):\n",
    "    marks = df[:, 9].astype(int)\n",
    "    min_mark = df[1, 10].astype(int)\n",
    "    return round(marks[marks < min_mark].shape[0] / marks.shape[0] * 100, 2)"
   ]
  },
  {
   "cell_type": "code",
   "execution_count": 11,
   "id": "108b5046",
   "metadata": {},
   "outputs": [
    {
     "name": "stdout",
     "output_type": "stream",
     "text": [
      "Русский язык\n",
      "0.13 \n",
      "\n",
      "Математика\n",
      "9.21 \n",
      "\n",
      "Физика\n",
      "7.71 \n",
      "\n",
      "ИКТ\n",
      "11.35 \n",
      "\n"
     ]
    }
   ],
   "source": [
    "results(falled_percentage)"
   ]
  },
  {
   "cell_type": "markdown",
   "id": "3a960301",
   "metadata": {},
   "source": [
    " - 5 - Постройте круговую диаграмму, показывающую распределение сдавших и не сдавших экзамен\n",
    "\n"
   ]
  },
  {
   "cell_type": "code",
   "execution_count": 12,
   "id": "8a1f20a5",
   "metadata": {},
   "outputs": [],
   "source": [
    "import matplotlib.pyplot as plt\n",
    "\n",
    "def show_pie_passed_failed(df):\n",
    "    labels = ['passed', 'failed']\n",
    "    sizes = [100 - falled_percentage(df), falled_percentage(df)]\n",
    "    colors = ['green', 'red']\n",
    "    \n",
    "    fig, ax = plt.subplots()\n",
    "    ax.pie(sizes, labels = labels , colors = colors, autopct='%1.2f%%')\n",
    "    return plt.show()"
   ]
  },
  {
   "cell_type": "code",
   "execution_count": 13,
   "id": "58caf321",
   "metadata": {},
   "outputs": [
    {
     "name": "stdout",
     "output_type": "stream",
     "text": [
      "Русский язык:\n"
     ]
    },
    {
     "data": {
      "image/png": "[encoded data removed]",
      "text/plain": [
       "<Figure size 432x288 with 1 Axes>"
      ]
     },
     "metadata": {},
     "output_type": "display_data"
    },
    {
     "name": "stdout",
     "output_type": "stream",
     "text": [
      "Математика:\n"
     ]
    },
    {
     "data": {
      "image/png": "[encoded data removed]",
      "text/plain": [
       "<Figure size 432x288 with 1 Axes>"
      ]
     },
     "metadata": {},
     "output_type": "display_data"
    },
    {
     "name": "stdout",
     "output_type": "stream",
     "text": [
      "Физика:\n"
     ]
    },
    {
     "data": {
      "image/png": "[encoded data removed]",
      "text/plain": [
       "<Figure size 432x288 with 1 Axes>"
      ]
     },
     "metadata": {},
     "output_type": "display_data"
    },
    {
     "name": "stdout",
     "output_type": "stream",
     "text": [
      "ИКТ:\n"
     ]
    },
    {
     "data": {
      "image/png": "[encoded data removed]",
      "text/plain": [
       "<Figure size 432x288 with 1 Axes>"
      ]
     },
     "metadata": {},
     "output_type": "display_data"
    }
   ],
   "source": [
    "subjects = [rus, math, phys, ikt]\n",
    "s_names = ['Русский язык', 'Математика', 'Физика', 'ИКТ']\n",
    "for i in range(4):\n",
    "    print(s_names[i] + ':')\n",
    "    show_pie_passed_failed(subjects[i])"
   ]
  },
  {
   "cell_type": "markdown",
   "id": "37b1f851",
   "metadata": {},
   "source": [
    " - 6 - Постройте ядерную оценку плотности распределению баллов за экзамен"
   ]
  },
  {
   "cell_type": "code",
   "execution_count": 14,
   "id": "4af67ce3",
   "metadata": {},
   "outputs": [
    {
     "data": {
      "text/plain": [
       "<AxesSubplot:ylabel='Density'>"
      ]
     },
     "execution_count": 14,
     "metadata": {},
     "output_type": "execute_result"
    },
    {
     "data": {
      "image/png": "[encoded data removed]",
      "text/plain": [
       "<Figure size 432x288 with 1 Axes>"
      ]
     },
     "metadata": {
      "needs_background": "light"
     },
     "output_type": "display_data"
    }
   ],
   "source": [
    "import seaborn as sns\n",
    "\n",
    "sns.kdeplot(rus[:, 9].astype(int))"
   ]
  },
  {
   "cell_type": "code",
   "execution_count": 15,
   "id": "c8098885",
   "metadata": {},
   "outputs": [
    {
     "name": "stderr",
     "output_type": "stream",
     "text": [
      "/opt/anaconda3/lib/python3.8/site-packages/seaborn/distributions.py:2557: FutureWarning: `distplot` is a deprecated function and will be removed in a future version. Please adapt your code to use either `displot` (a figure-level function with similar flexibility) or `histplot` (an axes-level function for histograms).\n",
      "  warnings.warn(msg, FutureWarning)\n"
     ]
    },
    {
     "data": {
      "text/plain": [
       "<AxesSubplot:ylabel='Density'>"
      ]
     },
     "execution_count": 15,
     "metadata": {},
     "output_type": "execute_result"
    },
    {
     "data": {
      "image/png": "[encoded data removed]",
      "text/plain": [
       "<Figure size 432x288 with 1 Axes>"
      ]
     },
     "metadata": {
      "needs_background": "light"
     },
     "output_type": "display_data"
    }
   ],
   "source": [
    "# Distplot () собирает функциональность Hist Matplotlib (в) и ядерной плотности функции kdeplot (),\n",
    "# увеличение распределения RugPlot наблюдения\n",
    "# параметр hist = False - уберет гистограмму \n",
    "sns.distplot(rus[:, 9].astype(int))"
   ]
  },
  {
   "cell_type": "code",
   "execution_count": 16,
   "id": "e40d7235",
   "metadata": {},
   "outputs": [
    {
     "data": {
      "text/plain": [
       "<AxesSubplot:ylabel='Density'>"
      ]
     },
     "execution_count": 16,
     "metadata": {},
     "output_type": "execute_result"
    },
    {
     "data": {
      "image/png": "[encoded data removed]",
      "text/plain": [
       "<Figure size 432x288 with 1 Axes>"
      ]
     },
     "metadata": {
      "needs_background": "light"
     },
     "output_type": "display_data"
    }
   ],
   "source": [
    "sns.kdeplot(math[:, 9].astype(int))"
   ]
  },
  {
   "cell_type": "code",
   "execution_count": 17,
   "id": "b8831a4b",
   "metadata": {},
   "outputs": [
    {
     "name": "stderr",
     "output_type": "stream",
     "text": [
      "/opt/anaconda3/lib/python3.8/site-packages/seaborn/distributions.py:2557: FutureWarning: `distplot` is a deprecated function and will be removed in a future version. Please adapt your code to use either `displot` (a figure-level function with similar flexibility) or `kdeplot` (an axes-level function for kernel density plots).\n",
      "  warnings.warn(msg, FutureWarning)\n"
     ]
    },
    {
     "data": {
      "text/plain": [
       "<AxesSubplot:ylabel='Density'>"
      ]
     },
     "execution_count": 17,
     "metadata": {},
     "output_type": "execute_result"
    },
    {
     "data": {
      "image/png": "[encoded data removed]",
      "text/plain": [
       "<Figure size 432x288 with 1 Axes>"
      ]
     },
     "metadata": {
      "needs_background": "light"
     },
     "output_type": "display_data"
    }
   ],
   "source": [
    "sns.distplot(math[:, 9].astype(int), hist = False)"
   ]
  },
  {
   "cell_type": "code",
   "execution_count": 18,
   "id": "ecedaf55",
   "metadata": {},
   "outputs": [
    {
     "data": {
      "text/plain": [
       "<AxesSubplot:ylabel='Density'>"
      ]
     },
     "execution_count": 18,
     "metadata": {},
     "output_type": "execute_result"
    },
    {
     "data": {
      "image/png": "[encoded data removed]",
      "text/plain": [
       "<Figure size 432x288 with 1 Axes>"
      ]
     },
     "metadata": {
      "needs_background": "light"
     },
     "output_type": "display_data"
    }
   ],
   "source": [
    "sns.kdeplot(phys[:, 9].astype(int))"
   ]
  },
  {
   "cell_type": "code",
   "execution_count": 19,
   "id": "5ddaa9f9",
   "metadata": {},
   "outputs": [
    {
     "name": "stderr",
     "output_type": "stream",
     "text": [
      "/opt/anaconda3/lib/python3.8/site-packages/seaborn/distributions.py:2557: FutureWarning: `distplot` is a deprecated function and will be removed in a future version. Please adapt your code to use either `displot` (a figure-level function with similar flexibility) or `histplot` (an axes-level function for histograms).\n",
      "  warnings.warn(msg, FutureWarning)\n"
     ]
    },
    {
     "data": {
      "text/plain": [
       "<AxesSubplot:ylabel='Density'>"
      ]
     },
     "execution_count": 19,
     "metadata": {},
     "output_type": "execute_result"
    },
    {
     "data": {
      "image/png": "[encoded data removed]",
      "text/plain": [
       "<Figure size 432x288 with 1 Axes>"
      ]
     },
     "metadata": {
      "needs_background": "light"
     },
     "output_type": "display_data"
    }
   ],
   "source": [
    "sns.distplot(phys[:, 9].astype(int))"
   ]
  },
  {
   "cell_type": "code",
   "execution_count": 20,
   "id": "09a0d471",
   "metadata": {},
   "outputs": [
    {
     "data": {
      "text/plain": [
       "<AxesSubplot:ylabel='Density'>"
      ]
     },
     "execution_count": 20,
     "metadata": {},
     "output_type": "execute_result"
    },
    {
     "data": {
      "image/png": "[encoded data removed]",
      "text/plain": [
       "<Figure size 432x288 with 1 Axes>"
      ]
     },
     "metadata": {
      "needs_background": "light"
     },
     "output_type": "display_data"
    }
   ],
   "source": [
    "sns.kdeplot(ikt[:, 9].astype(int))"
   ]
  },
  {
   "cell_type": "code",
   "execution_count": 21,
   "id": "74b708eb",
   "metadata": {},
   "outputs": [
    {
     "name": "stderr",
     "output_type": "stream",
     "text": [
      "/opt/anaconda3/lib/python3.8/site-packages/seaborn/distributions.py:2557: FutureWarning: `distplot` is a deprecated function and will be removed in a future version. Please adapt your code to use either `displot` (a figure-level function with similar flexibility) or `kdeplot` (an axes-level function for kernel density plots).\n",
      "  warnings.warn(msg, FutureWarning)\n"
     ]
    },
    {
     "data": {
      "text/plain": [
       "<AxesSubplot:ylabel='Density'>"
      ]
     },
     "execution_count": 21,
     "metadata": {},
     "output_type": "execute_result"
    },
    {
     "data": {
      "image/png": "[encoded data removed]",
      "text/plain": [
       "<Figure size 432x288 with 1 Axes>"
      ]
     },
     "metadata": {
      "needs_background": "light"
     },
     "output_type": "display_data"
    }
   ],
   "source": [
    "sns.distplot(ikt[:, 9].astype(int), hist = False)"
   ]
  },
  {
   "cell_type": "markdown",
   "id": "906eec1c",
   "metadata": {},
   "source": [
    " - 7 - Найдите процентное соотношение учащихся, сдавших экзамен на «отлично», «хорошо», «удовлетворительно», «неудовлетворительно»."
   ]
  },
  {
   "cell_type": "code",
   "execution_count": 22,
   "id": "ca293213",
   "metadata": {},
   "outputs": [],
   "source": [
    "# пусть система «отлично»/«хорошо»/«удовлетворительно»/«неудовлетворительно» будет как у нас в вузе:\n",
    "# «отлично»: x >= 86\n",
    "# «хорошо»: 70 <= x < 86\n",
    "# «удовлетворительно»: 50 <= x < 70\n",
    "# «неудовлетворительно»: x < 50"
   ]
  },
  {
   "cell_type": "code",
   "execution_count": 23,
   "id": "73f42d42",
   "metadata": {},
   "outputs": [],
   "source": [
    "def estimated_marks(df):\n",
    "    marks = df[:, 9].astype(int)\n",
    "    return {'отлично': round(marks[marks >= 86].shape[0] / marks.shape[0] * 100, 2), 'хорошо': round(marks[(marks >= 70) & (marks < 86)].shape[0] / marks.shape[0] * 100, 2),'удовлетворительно': round(marks[(marks >= 50) & (marks < 70)].shape[0] / marks.shape[0] * 100, 2), 'неудовлетворительно': round(marks[marks < 50].shape[0] / marks.shape[0] * 100, 2)}"
   ]
  },
  {
   "cell_type": "code",
   "execution_count": 24,
   "id": "3a32a3e3",
   "metadata": {},
   "outputs": [
    {
     "name": "stdout",
     "output_type": "stream",
     "text": [
      "Русский язык\n",
      "{'отлично': 20.28, 'хорошо': 40.62, 'удовлетворительно': 34.32, 'неудовлетворительно': 4.79} \n",
      "\n",
      "Математика\n",
      "{'отлично': 0.64, 'хорошо': 18.46, 'удовлетворительно': 32.89, 'неудовлетворительно': 48.01} \n",
      "\n",
      "Физика\n",
      "{'отлично': 2.97, 'хорошо': 11.44, 'удовлетворительно': 35.17, 'неудовлетворительно': 50.42} \n",
      "\n",
      "ИКТ\n",
      "{'отлично': 7.09, 'хорошо': 31.91, 'удовлетворительно': 36.17, 'неудовлетворительно': 24.82} \n",
      "\n"
     ]
    }
   ],
   "source": [
    "results(estimated_marks)"
   ]
  },
  {
   "cell_type": "markdown",
   "id": "f35743a8",
   "metadata": {},
   "source": [
    " - 8 - Какое процентное соотношение юношей и девушек писало данный экзамен? "
   ]
  },
  {
   "cell_type": "code",
   "execution_count": 25,
   "id": "eceba6ed",
   "metadata": {},
   "outputs": [],
   "source": [
    "def exam_gender(df):\n",
    "    marks = df[:, 3]\n",
    "    return {'Юноши': round(marks[marks == 'М'].shape[0] / marks.shape[0] * 100, 2), 'Девушки': round(marks[marks == 'Ж'].shape[0] / marks.shape[0] * 100, 2)}"
   ]
  },
  {
   "cell_type": "code",
   "execution_count": 26,
   "id": "df9cebe1",
   "metadata": {},
   "outputs": [
    {
     "name": "stdout",
     "output_type": "stream",
     "text": [
      "Русский язык\n",
      "{'Юноши': 42.03, 'Девушки': 57.97} \n",
      "\n",
      "Математика\n",
      "{'Юноши': 47.16, 'Девушки': 52.84} \n",
      "\n",
      "Физика\n",
      "{'Юноши': 68.64, 'Девушки': 31.36} \n",
      "\n",
      "ИКТ\n",
      "{'Юноши': 77.3, 'Девушки': 22.7} \n",
      "\n"
     ]
    }
   ],
   "source": [
    "results(exam_gender)"
   ]
  },
  {
   "cell_type": "markdown",
   "id": "fab71291",
   "metadata": {},
   "source": [
    " - 9 - Сколько школ принимало участие в экзамене?"
   ]
  },
  {
   "cell_type": "code",
   "execution_count": 27,
   "id": "8db5b965",
   "metadata": {},
   "outputs": [],
   "source": [
    "def school_counter(df):\n",
    "    return np.unique(df[:, 1]).shape[0]"
   ]
  },
  {
   "cell_type": "code",
   "execution_count": 28,
   "id": "c0e194c9",
   "metadata": {},
   "outputs": [
    {
     "name": "stdout",
     "output_type": "stream",
     "text": [
      "Русский язык\n",
      "24 \n",
      "\n",
      "Математика\n",
      "17 \n",
      "\n",
      "Физика\n",
      "19 \n",
      "\n",
      "ИКТ\n",
      "10 \n",
      "\n"
     ]
    }
   ],
   "source": [
    "results(school_counter)"
   ]
  },
  {
   "cell_type": "markdown",
   "id": "ea9ce9da",
   "metadata": {},
   "source": [
    "## Дополнительные задания\n",
    "- Сколько всего заданий с кратким ответом? С развернутым ответом?"
   ]
  },
  {
   "cell_type": "code",
   "execution_count": 29,
   "id": "ccda7dd0",
   "metadata": {},
   "outputs": [],
   "source": [
    "import re\n",
    "\n",
    "def short_and_long_questions(df):\n",
    "    short = len(df[1, 5])\n",
    "    long = len(re.findall(r'[)]', df[1, 6]))    \n",
    "    return {'Кол-во вопросов с коротким ответом': short, 'Кол-во вопросов с развернутым ответом': long}"
   ]
  },
  {
   "cell_type": "code",
   "execution_count": 30,
   "id": "aab5960c",
   "metadata": {},
   "outputs": [
    {
     "name": "stdout",
     "output_type": "stream",
     "text": [
      "Русский язык\n",
      "{'Кол-во вопросов с коротким ответом': 25, 'Кол-во вопросов с развернутым ответом': 12} \n",
      "\n",
      "Математика\n",
      "{'Кол-во вопросов с коротким ответом': 12, 'Кол-во вопросов с развернутым ответом': 7} \n",
      "\n",
      "Физика\n",
      "{'Кол-во вопросов с коротким ответом': 27, 'Кол-во вопросов с развернутым ответом': 5} \n",
      "\n",
      "ИКТ\n",
      "{'Кол-во вопросов с коротким ответом': 23, 'Кол-во вопросов с развернутым ответом': 4} \n",
      "\n"
     ]
    }
   ],
   "source": [
    "results(short_and_long_questions)"
   ]
  },
  {
   "cell_type": "code",
   "execution_count": 31,
   "id": "f4ae510f",
   "metadata": {},
   "outputs": [],
   "source": [
    "# без регулярных\n",
    "def short_and_long_questions_(df):\n",
    "    short = len(df[1, 5])\n",
    "    l = list(df[1, 6])\n",
    "    long = len(l[::4])\n",
    "    return {'Кол-во вопросов с коротким ответом': short, 'Кол-во вопросов с развернутым ответом': long}"
   ]
  },
  {
   "cell_type": "code",
   "execution_count": 32,
   "id": "e214e520",
   "metadata": {},
   "outputs": [
    {
     "name": "stdout",
     "output_type": "stream",
     "text": [
      "Русский язык\n",
      "{'Кол-во вопросов с коротким ответом': 25, 'Кол-во вопросов с развернутым ответом': 12} \n",
      "\n",
      "Математика\n",
      "{'Кол-во вопросов с коротким ответом': 12, 'Кол-во вопросов с развернутым ответом': 7} \n",
      "\n",
      "Физика\n",
      "{'Кол-во вопросов с коротким ответом': 27, 'Кол-во вопросов с развернутым ответом': 5} \n",
      "\n",
      "ИКТ\n",
      "{'Кол-во вопросов с коротким ответом': 23, 'Кол-во вопросов с развернутым ответом': 4} \n",
      "\n"
     ]
    }
   ],
   "source": [
    "results(short_and_long_questions_)"
   ]
  },
  {
   "cell_type": "markdown",
   "id": "a17072d5",
   "metadata": {},
   "source": [
    " - Пусть задания с кратким ответом будут задания типа В.\n",
    "Соответственно всего по экзамену вопросов класса В: В1 … Вк \n",
    "\n",
    "Посчитайте процент выполненных и невыполненных заданий по каждому вопросу класса В. "
   ]
  },
  {
   "cell_type": "code",
   "execution_count": 33,
   "id": "dd60bfd0",
   "metadata": {},
   "outputs": [],
   "source": [
    "def B_percentage(df):\n",
    "    all_answers = []\n",
    "    for i in df[:, 5]:\n",
    "        all_answers.append(list(i))\n",
    "    all_answers = np.array(all_answers)\n",
    "    all_answers[(all_answers == '0')|(all_answers == '-')] = '0'\n",
    "    all_answers[all_answers != '0'] = '1'\n",
    "    all_answers = all_answers.astype(int)\n",
    "    done = all_answers.sum(axis = 0) / len(all_answers) * 100\n",
    "    failed = 100 - done\n",
    "    for i in range(len(done)):\n",
    "        print('Номер',i+1,'= done:', round(done[i], 2), '+ failed:', round(failed[i], 2))\n",
    "    return ''"
   ]
  },
  {
   "cell_type": "code",
   "execution_count": 34,
   "id": "9abfc911",
   "metadata": {},
   "outputs": [
    {
     "name": "stdout",
     "output_type": "stream",
     "text": [
      "Русский язык\n",
      "Номер 1 = done: 98.69 + failed: 1.31\n",
      "Номер 2 = done: 92.88 + failed: 7.12\n",
      "Номер 3 = done: 87.34 + failed: 12.66\n",
      "Номер 4 = done: 77.3 + failed: 22.7\n",
      "Номер 5 = done: 58.96 + failed: 41.04\n",
      "Номер 6 = done: 90.62 + failed: 9.38\n",
      "Номер 7 = done: 95.05 + failed: 4.95\n",
      "Номер 8 = done: 75.59 + failed: 24.41\n",
      "Номер 9 = done: 84.12 + failed: 15.88\n",
      "Номер 10 = done: 96.88 + failed: 3.12\n",
      "Номер 11 = done: 93.18 + failed: 6.82\n",
      "Номер 12 = done: 75.52 + failed: 24.48\n",
      "Номер 13 = done: 83.14 + failed: 16.86\n",
      "Номер 14 = done: 70.18 + failed: 29.82\n",
      "Номер 15 = done: 97.6 + failed: 2.4\n",
      "Номер 16 = done: 68.96 + failed: 31.04\n",
      "Номер 17 = done: 67.22 + failed: 32.78\n",
      "Номер 18 = done: 74.18 + failed: 25.82\n",
      "Номер 19 = done: 69.36 + failed: 30.64\n",
      "Номер 20 = done: 82.74 + failed: 17.26\n",
      "Номер 21 = done: 71.85 + failed: 28.15\n",
      "Номер 22 = done: 48.06 + failed: 51.94\n",
      "Номер 23 = done: 76.54 + failed: 23.46\n",
      "Номер 24 = done: 24.77 + failed: 75.23\n",
      "Номер 25 = done: 95.44 + failed: 4.56\n",
      " \n",
      "\n",
      "Математика\n",
      "Номер 1 = done: 89.26 + failed: 10.74\n",
      "Номер 2 = done: 95.33 + failed: 4.67\n",
      "Номер 3 = done: 92.78 + failed: 7.22\n",
      "Номер 4 = done: 91.0 + failed: 9.0\n",
      "Номер 5 = done: 88.5 + failed: 11.5\n",
      "Номер 6 = done: 73.17 + failed: 26.83\n",
      "Номер 7 = done: 37.48 + failed: 62.52\n",
      "Номер 8 = done: 47.84 + failed: 52.16\n",
      "Номер 9 = done: 91.85 + failed: 8.15\n",
      "Номер 10 = done: 71.48 + failed: 28.52\n",
      "Номер 11 = done: 59.25 + failed: 40.75\n",
      "Номер 12 = done: 46.22 + failed: 53.78\n",
      " \n",
      "\n",
      "Физика\n",
      "Номер 1 = done: 85.34 + failed: 14.66\n",
      "Номер 2 = done: 86.86 + failed: 13.14\n",
      "Номер 3 = done: 62.2 + failed: 37.8\n",
      "Номер 4 = done: 44.49 + failed: 55.51\n",
      "Номер 5 = done: 82.97 + failed: 17.03\n",
      "Номер 6 = done: 82.88 + failed: 17.12\n",
      "Номер 7 = done: 80.93 + failed: 19.07\n",
      "Номер 8 = done: 65.59 + failed: 34.41\n",
      "Номер 9 = done: 73.98 + failed: 26.02\n",
      "Номер 10 = done: 35.0 + failed: 65.0\n",
      "Номер 11 = done: 83.81 + failed: 16.19\n",
      "Номер 12 = done: 75.34 + failed: 24.66\n",
      "Номер 13 = done: 56.61 + failed: 43.39\n",
      "Номер 14 = done: 51.02 + failed: 48.98\n",
      "Номер 15 = done: 42.54 + failed: 57.46\n",
      "Номер 16 = done: 81.86 + failed: 18.14\n",
      "Номер 17 = done: 67.29 + failed: 32.71\n",
      "Номер 18 = done: 60.59 + failed: 39.41\n",
      "Номер 19 = done: 81.95 + failed: 18.05\n",
      "Номер 20 = done: 75.08 + failed: 24.92\n",
      "Номер 21 = done: 79.41 + failed: 20.59\n",
      "Номер 22 = done: 50.76 + failed: 49.24\n",
      "Номер 23 = done: 62.03 + failed: 37.97\n",
      "Номер 24 = done: 96.1 + failed: 3.9\n",
      "Номер 25 = done: 29.92 + failed: 70.08\n",
      "Номер 26 = done: 36.95 + failed: 63.05\n",
      "Номер 27 = done: 29.75 + failed: 70.25\n",
      " \n",
      "\n",
      "ИКТ\n",
      "Номер 1 = done: 81.56 + failed: 18.44\n",
      "Номер 2 = done: 60.99 + failed: 39.01\n",
      "Номер 3 = done: 79.43 + failed: 20.57\n",
      "Номер 4 = done: 78.72 + failed: 21.28\n",
      "Номер 5 = done: 68.09 + failed: 31.91\n",
      "Номер 6 = done: 61.7 + failed: 38.3\n",
      "Номер 7 = done: 92.2 + failed: 7.8\n",
      "Номер 8 = done: 86.52 + failed: 13.48\n",
      "Номер 9 = done: 49.65 + failed: 50.35\n",
      "Номер 10 = done: 59.57 + failed: 40.43\n",
      "Номер 11 = done: 43.26 + failed: 56.74\n",
      "Номер 12 = done: 53.9 + failed: 46.1\n",
      "Номер 13 = done: 60.99 + failed: 39.01\n",
      "Номер 14 = done: 76.6 + failed: 23.4\n",
      "Номер 15 = done: 71.63 + failed: 28.37\n",
      "Номер 16 = done: 62.41 + failed: 37.59\n",
      "Номер 17 = done: 68.09 + failed: 31.91\n",
      "Номер 18 = done: 31.21 + failed: 68.79\n",
      "Номер 19 = done: 68.09 + failed: 31.91\n",
      "Номер 20 = done: 12.77 + failed: 87.23\n",
      "Номер 21 = done: 34.04 + failed: 65.96\n",
      "Номер 22 = done: 36.88 + failed: 63.12\n",
      "Номер 23 = done: 17.73 + failed: 82.27\n",
      " \n",
      "\n"
     ]
    }
   ],
   "source": [
    "results(B_percentage)"
   ]
  },
  {
   "cell_type": "markdown",
   "id": "8a697588",
   "metadata": {},
   "source": [
    " - Аналогично и с типом С (ответы с развернутым ответом)\n",
    " \n",
    "Посчитайте процент выполненных и невыполненных заданий по каждому вопросу класса C. "
   ]
  },
  {
   "cell_type": "code",
   "execution_count": 35,
   "id": "a9ea8da4",
   "metadata": {},
   "outputs": [],
   "source": [
    "def C_percentage(df):\n",
    "    all_answers = []\n",
    "    for i in df[:, 6]:\n",
    "        i = list(i)\n",
    "        all_answers.append(i[::4])\n",
    "    all_answers = np.array(all_answers)\n",
    "    all_answers[all_answers != '0'] = '1'\n",
    "    all_answers = all_answers.astype(int)\n",
    "    done = all_answers.sum(axis = 0) / len(all_answers) * 100\n",
    "    failed = 100 - done\n",
    "    for i in range(len(done)):\n",
    "        print('Номер',i+1,'= done:', round(done[i], 2), '+ failed:', round(failed[i], 2))\n",
    "    return ''"
   ]
  },
  {
   "cell_type": "code",
   "execution_count": 36,
   "id": "4213459f",
   "metadata": {},
   "outputs": [
    {
     "name": "stdout",
     "output_type": "stream",
     "text": [
      "Русский язык\n",
      "Номер 1 = done: 96.75 + failed: 3.25\n",
      "Номер 2 = done: 94.72 + failed: 5.28\n",
      "Номер 3 = done: 94.46 + failed: 5.54\n",
      "Номер 4 = done: 94.26 + failed: 5.74\n",
      "Номер 5 = done: 96.46 + failed: 3.54\n",
      "Номер 6 = done: 97.44 + failed: 2.56\n",
      "Номер 7 = done: 92.39 + failed: 7.61\n",
      "Номер 8 = done: 81.5 + failed: 18.5\n",
      "Номер 9 = done: 84.19 + failed: 15.81\n",
      "Номер 10 = done: 81.73 + failed: 18.27\n",
      "Номер 11 = done: 98.0 + failed: 2.0\n",
      "Номер 12 = done: 84.55 + failed: 15.45\n",
      " \n",
      "\n",
      "Математика\n",
      "Номер 1 = done: 33.91 + failed: 66.09\n",
      "Номер 2 = done: 15.87 + failed: 84.13\n",
      "Номер 3 = done: 15.58 + failed: 84.42\n",
      "Номер 4 = done: 2.72 + failed: 97.28\n",
      "Номер 5 = done: 3.4 + failed: 96.6\n",
      "Номер 6 = done: 1.1 + failed: 98.9\n",
      "Номер 7 = done: 3.4 + failed: 96.6\n",
      " \n",
      "\n",
      "Физика\n",
      "Номер 1 = done: 17.63 + failed: 82.37\n",
      "Номер 2 = done: 38.22 + failed: 61.78\n",
      "Номер 3 = done: 16.36 + failed: 83.64\n",
      "Номер 4 = done: 23.39 + failed: 76.61\n",
      "Номер 5 = done: 31.78 + failed: 68.22\n",
      " \n",
      "\n",
      "ИКТ\n",
      "Номер 1 = done: 65.96 + failed: 34.04\n",
      "Номер 2 = done: 47.52 + failed: 52.48\n",
      "Номер 3 = done: 56.03 + failed: 43.97\n",
      "Номер 4 = done: 31.91 + failed: 68.09\n",
      " \n",
      "\n"
     ]
    }
   ],
   "source": [
    "results(C_percentage)"
   ]
  },
  {
   "cell_type": "markdown",
   "id": "b540318c",
   "metadata": {},
   "source": [
    " - Сделайте анализ по двум школам *"
   ]
  },
  {
   "cell_type": "code",
   "execution_count": 37,
   "id": "546c6d10",
   "metadata": {},
   "outputs": [
    {
     "data": {
      "text/plain": [
       "['137', '126']"
      ]
     },
     "execution_count": 37,
     "metadata": {},
     "output_type": "execute_result"
    }
   ],
   "source": [
    "# найдем школы, ученики которых сдавали каждый из экзаменов\n",
    "\n",
    "def schools_with_all_subjects():\n",
    "    subjects = [rus, math, phys, ikt]\n",
    "    school = list(set(subjects[0][:, 1]))\n",
    "    for subj in subjects:\n",
    "        s = list(set(subj[:, 1]))\n",
    "        school = list(set(s) & set(school))\n",
    "    return school\n",
    "\n",
    "schools = schools_with_all_subjects()\n",
    "schools"
   ]
  },
  {
   "cell_type": "markdown",
   "id": "62400537",
   "metadata": {},
   "source": [
    "- по всем выполненным заданиям типа В"
   ]
  },
  {
   "cell_type": "code",
   "execution_count": 38,
   "id": "402aad50",
   "metadata": {},
   "outputs": [],
   "source": [
    "def B_analitics_for_schools(schools, df0):\n",
    "    school_1 = df0[df0[:, 1] == schools[0]]\n",
    "    school_2 = df0[df0[:, 1] == schools[1]]\n",
    "    schools_df = [school_1, school_2]\n",
    "    f1_d1_f2_d2 = []\n",
    "    for df in schools_df:\n",
    "        all_answers = []\n",
    "        for i in df[:, 5]:\n",
    "            all_answers.append(list(i))\n",
    "        all_answers = np.array(all_answers)\n",
    "        all_answers[(all_answers == '0')|(all_answers == '-')] = '0'\n",
    "        all_answers[all_answers != '0'] = '1'\n",
    "        all_answers = all_answers.astype(int)\n",
    "        done = all_answers.sum(axis = 0) / len(all_answers) * 100\n",
    "        failed = 100 - done\n",
    "        f1_d1_f2_d2.append(failed)\n",
    "        f1_d1_f2_d2.append(done)\n",
    "        \n",
    "    print('              Школа 137            Школа 126')\n",
    "    print('             Done/Failed          Done/Failed ')\n",
    "    for i in range(len(f1_d1_f2_d2[0])):\n",
    "        print('Номер',i+1, '    ', round(f1_d1_f2_d2[1][i], 2), '/', round(f1_d1_f2_d2[0][i], 2), '     ', round(f1_d1_f2_d2[3][i], 2), '/', round(f1_d1_f2_d2[2][i], 2))\n",
    "    print('n сдававших:      ', len(school_1), '      /        ', len(school_2))\n",
    "    return ''"
   ]
  },
  {
   "cell_type": "code",
   "execution_count": 39,
   "id": "1c1ebf94",
   "metadata": {},
   "outputs": [],
   "source": [
    "# функция для результатов по аналитике\n",
    "def results_analitycs(function):\n",
    "    subjects = [rus, math, phys, ikt]\n",
    "    s_names = ['Русский язык', 'Математика', 'Физика', 'ИКТ']\n",
    "    schools = schools_with_all_subjects()\n",
    "    for i in range(4):\n",
    "        print(s_names[i])\n",
    "        print(function(schools, subjects[i]), '\\n')"
   ]
  },
  {
   "cell_type": "code",
   "execution_count": 40,
   "id": "02391ec1",
   "metadata": {},
   "outputs": [
    {
     "name": "stdout",
     "output_type": "stream",
     "text": [
      "Русский язык\n",
      "              Школа 137            Школа 126\n",
      "             Done/Failed          Done/Failed \n",
      "Номер 1      99.37 / 0.63       97.2 / 2.8\n",
      "Номер 2      92.45 / 7.55       90.21 / 9.79\n",
      "Номер 3      88.05 / 11.95       83.22 / 16.78\n",
      "Номер 4      76.73 / 23.27       79.02 / 20.98\n",
      "Номер 5      57.23 / 42.77       49.65 / 50.35\n",
      "Номер 6      94.34 / 5.66       82.52 / 17.48\n",
      "Номер 7      95.6 / 4.4       95.1 / 4.9\n",
      "Номер 8      67.3 / 32.7       64.34 / 35.66\n",
      "Номер 9      82.39 / 17.61       79.72 / 20.28\n",
      "Номер 10      96.86 / 3.14       96.5 / 3.5\n",
      "Номер 11      92.45 / 7.55       93.01 / 6.99\n",
      "Номер 12      72.33 / 27.67       75.52 / 24.48\n",
      "Номер 13      88.05 / 11.95       83.22 / 16.78\n",
      "Номер 14      74.84 / 25.16       66.43 / 33.57\n",
      "Номер 15      98.11 / 1.89       98.6 / 1.4\n",
      "Номер 16      62.26 / 37.74       60.14 / 39.86\n",
      "Номер 17      63.52 / 36.48       60.14 / 39.86\n",
      "Номер 18      75.47 / 24.53       67.83 / 32.17\n",
      "Номер 19      58.49 / 41.51       70.63 / 29.37\n",
      "Номер 20      78.62 / 21.38       83.92 / 16.08\n",
      "Номер 21      63.52 / 36.48       73.43 / 26.57\n",
      "Номер 22      41.51 / 58.49       39.86 / 60.14\n",
      "Номер 23      77.99 / 22.01       75.52 / 24.48\n",
      "Номер 24      13.21 / 86.79       18.88 / 81.12\n",
      "Номер 25      97.48 / 2.52       93.01 / 6.99\n",
      "n сдававших:       159       /         143\n",
      " \n",
      "\n",
      "Математика\n",
      "              Школа 137            Школа 126\n",
      "             Done/Failed          Done/Failed \n",
      "Номер 1      90.91 / 9.09       90.14 / 9.86\n",
      "Номер 2      97.73 / 2.27       92.96 / 7.04\n",
      "Номер 3      93.18 / 6.82       90.14 / 9.86\n",
      "Номер 4      94.32 / 5.68       95.77 / 4.23\n",
      "Номер 5      93.18 / 6.82       90.14 / 9.86\n",
      "Номер 6      86.36 / 13.64       69.01 / 30.99\n",
      "Номер 7      26.14 / 73.86       43.66 / 56.34\n",
      "Номер 8      46.59 / 53.41       46.48 / 53.52\n",
      "Номер 9      95.45 / 4.55       91.55 / 8.45\n",
      "Номер 10      82.95 / 17.05       80.28 / 19.72\n",
      "Номер 11      75.0 / 25.0       49.3 / 50.7\n",
      "Номер 12      54.55 / 45.45       43.66 / 56.34\n",
      "n сдававших:       88       /         71\n",
      " \n",
      "\n",
      "Физика\n",
      "              Школа 137            Школа 126\n",
      "             Done/Failed          Done/Failed \n",
      "Номер 1      83.33 / 16.67       87.5 / 12.5\n",
      "Номер 2      87.5 / 12.5       76.79 / 23.21\n",
      "Номер 3      69.44 / 30.56       60.71 / 39.29\n",
      "Номер 4      56.94 / 43.06       33.93 / 66.07\n",
      "Номер 5      80.56 / 19.44       83.93 / 16.07\n",
      "Номер 6      80.56 / 19.44       76.79 / 23.21\n",
      "Номер 7      75.0 / 25.0       64.29 / 35.71\n",
      "Номер 8      59.72 / 40.28       53.57 / 46.43\n",
      "Номер 9      73.61 / 26.39       69.64 / 30.36\n",
      "Номер 10      29.17 / 70.83       26.79 / 73.21\n",
      "Номер 11      81.94 / 18.06       82.14 / 17.86\n",
      "Номер 12      68.06 / 31.94       73.21 / 26.79\n",
      "Номер 13      48.61 / 51.39       48.21 / 51.79\n",
      "Номер 14      52.78 / 47.22       48.21 / 51.79\n",
      "Номер 15      37.5 / 62.5       28.57 / 71.43\n",
      "Номер 16      75.0 / 25.0       69.64 / 30.36\n",
      "Номер 17      68.06 / 31.94       44.64 / 55.36\n",
      "Номер 18      68.06 / 31.94       62.5 / 37.5\n",
      "Номер 19      77.78 / 22.22       85.71 / 14.29\n",
      "Номер 20      70.83 / 29.17       67.86 / 32.14\n",
      "Номер 21      75.0 / 25.0       71.43 / 28.57\n",
      "Номер 22      50.0 / 50.0       44.64 / 55.36\n",
      "Номер 23      58.33 / 41.67       42.86 / 57.14\n",
      "Номер 24      94.44 / 5.56       94.64 / 5.36\n",
      "Номер 25      26.39 / 73.61       21.43 / 78.57\n",
      "Номер 26      43.06 / 56.94       26.79 / 73.21\n",
      "Номер 27      20.83 / 79.17       10.71 / 89.29\n",
      "n сдававших:       72       /         56\n",
      " \n",
      "\n",
      "ИКТ\n",
      "              Школа 137            Школа 126\n",
      "             Done/Failed          Done/Failed \n",
      "Номер 1      33.33 / 66.67       0.0 / 100.0\n",
      "Номер 2      33.33 / 66.67       100.0 / 0.0\n",
      "Номер 3      100.0 / 0.0       100.0 / 0.0\n",
      "Номер 4      66.67 / 33.33       100.0 / 0.0\n",
      "Номер 5      33.33 / 66.67       0.0 / 100.0\n",
      "Номер 6      33.33 / 66.67       0.0 / 100.0\n",
      "Номер 7      66.67 / 33.33       100.0 / 0.0\n",
      "Номер 8      33.33 / 66.67       100.0 / 0.0\n",
      "Номер 9      33.33 / 66.67       0.0 / 100.0\n",
      "Номер 10      33.33 / 66.67       0.0 / 100.0\n",
      "Номер 11      33.33 / 66.67       0.0 / 100.0\n",
      "Номер 12      33.33 / 66.67       0.0 / 100.0\n",
      "Номер 13      33.33 / 66.67       100.0 / 0.0\n",
      "Номер 14      33.33 / 66.67       0.0 / 100.0\n",
      "Номер 15      100.0 / 0.0       0.0 / 100.0\n",
      "Номер 16      33.33 / 66.67       100.0 / 0.0\n",
      "Номер 17      33.33 / 66.67       100.0 / 0.0\n",
      "Номер 18      0.0 / 100.0       0.0 / 100.0\n",
      "Номер 19      33.33 / 66.67       100.0 / 0.0\n",
      "Номер 20      0.0 / 100.0       0.0 / 100.0\n",
      "Номер 21      0.0 / 100.0       0.0 / 100.0\n",
      "Номер 22      0.0 / 100.0       0.0 / 100.0\n",
      "Номер 23      0.0 / 100.0       0.0 / 100.0\n",
      "n сдававших:       3       /         1\n",
      " \n",
      "\n"
     ]
    }
   ],
   "source": [
    "results_analitycs(B_analitics_for_schools)"
   ]
  },
  {
   "cell_type": "markdown",
   "id": "6e88f968",
   "metadata": {},
   "source": [
    "- по заданиям типа С больше 50%"
   ]
  },
  {
   "cell_type": "code",
   "execution_count": 41,
   "id": "a96a7436",
   "metadata": {},
   "outputs": [],
   "source": [
    "def С_analitics_for_schools(schools, df0):\n",
    "    school_1 = df0[df0[:, 1] == schools[0]]\n",
    "    school_2 = df0[df0[:, 1] == schools[1]]\n",
    "    schools_df = [school_1, school_2]\n",
    "    f1_d1_f2_d2 = []\n",
    "    for df in schools_df:\n",
    "        all_answers = []\n",
    "        for i in df[:, 6]:\n",
    "            i = list(i)\n",
    "            all_answers.append(i[::4])\n",
    "        all_answers = np.array(all_answers)\n",
    "        all_answers[all_answers != '0'] = '1'\n",
    "        all_answers = all_answers.astype(int)\n",
    "        done = all_answers.sum(axis = 0) / len(all_answers) * 100\n",
    "        failed = 100 - done\n",
    "        f1_d1_f2_d2.append(failed)\n",
    "        f1_d1_f2_d2.append(done)\n",
    "        \n",
    "    print('              Школа 137            Школа 126')\n",
    "    print('             Done/Failed          Done/Failed ')\n",
    "    for i in range(len(f1_d1_f2_d2[0])):\n",
    "        print('Номер',i+1, '    ', round(f1_d1_f2_d2[1][i], 2), '/', round(f1_d1_f2_d2[0][i], 2), '     ', round(f1_d1_f2_d2[3][i], 2), '/', round(f1_d1_f2_d2[2][i], 2))\n",
    "    print('n сдававших:      ', len(school_1), '      /        ', len(school_2))\n",
    "    return ''"
   ]
  },
  {
   "cell_type": "code",
   "execution_count": 42,
   "id": "ef031858",
   "metadata": {
    "scrolled": true
   },
   "outputs": [
    {
     "name": "stdout",
     "output_type": "stream",
     "text": [
      "Русский язык\n",
      "              Школа 137            Школа 126\n",
      "             Done/Failed          Done/Failed \n",
      "Номер 1      96.23 / 3.77       94.41 / 5.59\n",
      "Номер 2      94.97 / 5.03       90.91 / 9.09\n",
      "Номер 3      94.34 / 5.66       90.91 / 9.09\n",
      "Номер 4      93.71 / 6.29       93.01 / 6.99\n",
      "Номер 5      94.97 / 5.03       95.8 / 4.2\n",
      "Номер 6      96.86 / 3.14       95.1 / 4.9\n",
      "Номер 7      93.71 / 6.29       92.31 / 7.69\n",
      "Номер 8      78.62 / 21.38       77.62 / 22.38\n",
      "Номер 9      81.13 / 18.87       72.03 / 27.97\n",
      "Номер 10      79.25 / 20.75       74.13 / 25.87\n",
      "Номер 11      96.86 / 3.14       95.8 / 4.2\n",
      "Номер 12      79.87 / 20.13       83.22 / 16.78\n",
      "n сдававших:       159       /         143\n",
      " \n",
      "\n",
      "Математика\n",
      "              Школа 137            Школа 126\n",
      "             Done/Failed          Done/Failed \n",
      "Номер 1      52.27 / 47.73       29.58 / 70.42\n",
      "Номер 2      23.86 / 76.14       9.86 / 90.14\n",
      "Номер 3      25.0 / 75.0       12.68 / 87.32\n",
      "Номер 4      2.27 / 97.73       0.0 / 100.0\n",
      "Номер 5      1.14 / 98.86       0.0 / 100.0\n",
      "Номер 6      1.14 / 98.86       0.0 / 100.0\n",
      "Номер 7      3.41 / 96.59       0.0 / 100.0\n",
      "n сдававших:       88       /         71\n",
      " \n",
      "\n",
      "Физика\n",
      "              Школа 137            Школа 126\n",
      "             Done/Failed          Done/Failed \n",
      "Номер 1      9.72 / 90.28       7.14 / 92.86\n",
      "Номер 2      33.33 / 66.67       25.0 / 75.0\n",
      "Номер 3      9.72 / 90.28       12.5 / 87.5\n",
      "Номер 4      18.06 / 81.94       17.86 / 82.14\n",
      "Номер 5      31.94 / 68.06       16.07 / 83.93\n",
      "n сдававших:       72       /         56\n",
      " \n",
      "\n",
      "ИКТ\n",
      "              Школа 137            Школа 126\n",
      "             Done/Failed          Done/Failed \n",
      "Номер 1      0.0 / 100.0       0.0 / 100.0\n",
      "Номер 2      0.0 / 100.0       0.0 / 100.0\n",
      "Номер 3      33.33 / 66.67       0.0 / 100.0\n",
      "Номер 4      0.0 / 100.0       0.0 / 100.0\n",
      "n сдававших:       3       /         1\n",
      " \n",
      "\n"
     ]
    }
   ],
   "source": [
    "results_analitycs(С_analitics_for_schools)"
   ]
  },
  {
   "cell_type": "markdown",
   "id": "028af2bd",
   "metadata": {},
   "source": [
    "- по среднему балу юношей и девушек"
   ]
  },
  {
   "cell_type": "code",
   "execution_count": 43,
   "id": "60c7bc63",
   "metadata": {},
   "outputs": [],
   "source": [
    "def exam_gender_between_schools(schools, df0):\n",
    "    school_1 = df0[df0[:, 1] == schools[0]]\n",
    "    school_2 = df0[df0[:, 1] == schools[1]]\n",
    "    schools_df = [school_1, school_2]\n",
    "    m1_g1_all_m2_g2_all = []\n",
    "    for df in schools_df:\n",
    "        marks = df[:, 3]\n",
    "        m1_g1_all_m2_g2_all.append(marks[marks == 'М'].shape[0])\n",
    "        m1_g1_all_m2_g2_all.append(marks[marks == 'Ж'].shape[0])\n",
    "        m1_g1_all_m2_g2_all.append(marks.shape[0])\n",
    "    print('                   Школа 137            Школа 126')\n",
    "    print('                      М/Ж                   М/Ж')\n",
    "    print('                ', round(m1_g1_all_m2_g2_all[0] / m1_g1_all_m2_g2_all[2] * 100, 2), '/', round(m1_g1_all_m2_g2_all[1] / m1_g1_all_m2_g2_all[2] * 100, 2), '       ', round(m1_g1_all_m2_g2_all[3] / m1_g1_all_m2_g2_all[5] * 100, 2), '/', round(m1_g1_all_m2_g2_all[4] / m1_g1_all_m2_g2_all[5] * 100, 2))\n",
    "    return ''"
   ]
  },
  {
   "cell_type": "code",
   "execution_count": 44,
   "id": "02377f68",
   "metadata": {},
   "outputs": [
    {
     "name": "stdout",
     "output_type": "stream",
     "text": [
      "Русский язык\n",
      "                   Школа 137            Школа 126\n",
      "                      М/Ж                   М/Ж\n",
      "                 48.43 / 51.57         34.27 / 65.73\n",
      " \n",
      "\n",
      "Математика\n",
      "                   Школа 137            Школа 126\n",
      "                      М/Ж                   М/Ж\n",
      "                 40.91 / 59.09         49.3 / 50.7\n",
      " \n",
      "\n",
      "Физика\n",
      "                   Школа 137            Школа 126\n",
      "                      М/Ж                   М/Ж\n",
      "                 77.78 / 22.22         55.36 / 44.64\n",
      " \n",
      "\n",
      "ИКТ\n",
      "                   Школа 137            Школа 126\n",
      "                      М/Ж                   М/Ж\n",
      "                 100.0 / 0.0         100.0 / 0.0\n",
      " \n",
      "\n"
     ]
    }
   ],
   "source": [
    "results_analitycs(exam_gender_between_schools)"
   ]
  },
  {
   "cell_type": "code",
   "execution_count": null,
   "id": "9502fb35",
   "metadata": {},
   "outputs": [],
   "source": []
  }
 ],
 "metadata": {
  "kernelspec": {
   "display_name": "Python 3",
   "language": "python",
   "name": "python3"
  },
  "language_info": {
   "codemirror_mode": {
    "name": "ipython",
    "version": 3
   },
   "file_extension": ".py",
   "mimetype": "text/x-python",
   "name": "python",
   "nbconvert_exporter": "python",
   "pygments_lexer": "ipython3",
   "version": "3.8.8"
  }
 },
 "nbformat": 4,
 "nbformat_minor": 5
}
